{
 "cells": [
  {
   "cell_type": "code",
   "execution_count": 1,
   "id": "aa7bc5d4-02d0-45b7-a618-09fc0cf130ee",
   "metadata": {
    "execution": {
     "iopub.execute_input": "2024-01-03T06:59:58.002273Z",
     "iopub.status.busy": "2024-01-03T06:59:58.001865Z",
     "iopub.status.idle": "2024-01-03T06:59:58.599124Z",
     "shell.execute_reply": "2024-01-03T06:59:58.598335Z",
     "shell.execute_reply.started": "2024-01-03T06:59:58.002234Z"
    }
   },
   "outputs": [],
   "source": [
    "import h5py\n",
    "import scipy\n",
    "import numpy as np\n",
    "import os\n",
    "import zlib\n",
    "import msgpack\n",
    "from sklearn.utils import sparsefuncs\n",
    "\n",
    "def read_compressed_json(json_path):\n",
    "\tif not os.path.isfile(json_path):\n",
    "\t\treturn {}\n",
    "\twith open(json_path, 'rb') as f:\n",
    "\t\to = f.read()\n",
    "\t\to = zlib.decompress(o)\n",
    "\t\to = msgpack.unpackb(o, strict_map_key=False)\n",
    "\t\treturn o"
   ]
  },
  {
   "cell_type": "code",
   "execution_count": 2,
   "id": "313ae86a-91e6-41a2-91ce-285bb79f5b25",
   "metadata": {
    "execution": {
     "iopub.execute_input": "2024-01-03T06:59:58.600411Z",
     "iopub.status.busy": "2024-01-03T06:59:58.600168Z",
     "iopub.status.idle": "2024-01-03T06:59:58.704611Z",
     "shell.execute_reply": "2024-01-03T06:59:58.703690Z",
     "shell.execute_reply.started": "2024-01-03T06:59:58.600393Z"
    }
   },
   "outputs": [],
   "source": [
    "GENES_ANNOTATION = read_compressed_json('/home/ub-sonvo-25d094476064960/genes_annotation.json.gz')\n",
    "N_GENES = GENES_ANNOTATION['n_genes']\n",
    "DEFAULT_SIZE_FACTOR = 10000\n",
    "ROOT_DIR = '/home/ub-sonvo-25d094476064960/celltype_prediction'\n",
    "TRAINED_STUDIES = open(ROOT_DIR + '/studies_idx_HVG.txt').read().splitlines()"
   ]
  },
  {
   "cell_type": "code",
   "execution_count": 14,
   "id": "ba73ecae-2b2b-431c-a857-40ab6084eebc",
   "metadata": {
    "execution": {
     "iopub.execute_input": "2024-01-03T05:35:06.884487Z",
     "iopub.status.busy": "2024-01-03T05:35:06.884063Z",
     "iopub.status.idle": "2024-01-03T05:35:14.408244Z",
     "shell.execute_reply": "2024-01-03T05:35:14.407468Z",
     "shell.execute_reply.started": "2024-01-03T05:35:06.884451Z"
    }
   },
   "outputs": [],
   "source": [
    "indptr = np.load('trained_data/indptr.npy')\n",
    "indices = np.load('trained_data/indices.npy')\n",
    "data = np.load('trained_data/data.npy')"
   ]
  },
  {
   "cell_type": "code",
   "execution_count": 3,
   "id": "ea64605b-679c-4701-8f1c-b0fe134f98af",
   "metadata": {
    "execution": {
     "iopub.execute_input": "2024-01-03T05:58:56.859355Z",
     "iopub.status.busy": "2024-01-03T05:58:56.858948Z",
     "iopub.status.idle": "2024-01-03T05:58:56.918694Z",
     "shell.execute_reply": "2024-01-03T05:58:56.917830Z",
     "shell.execute_reply.started": "2024-01-03T05:58:56.859322Z"
    }
   },
   "outputs": [],
   "source": [
    "genes_bool = np.load('trained_data/genes_bool.npy')\n",
    "genes_bool_idx = np.nonzero(genes_bool==True)[0]\n",
    "genes_bool_idx_dict = {i: j for j, i in enumerate(genes_bool_idx)}"
   ]
  },
  {
   "cell_type": "code",
   "execution_count": 40,
   "id": "cae64198-ee65-4290-b78a-4c0c1997c30b",
   "metadata": {
    "execution": {
     "iopub.execute_input": "2024-01-03T05:47:24.076498Z",
     "iopub.status.busy": "2024-01-03T05:47:24.075494Z",
     "iopub.status.idle": "2024-01-03T05:49:24.079122Z",
     "shell.execute_reply": "2024-01-03T05:49:24.077955Z",
     "shell.execute_reply.started": "2024-01-03T05:47:24.076466Z"
    }
   },
   "outputs": [
    {
     "name": "stdout",
     "output_type": "stream",
     "text": [
      "0\n",
      "1000000\n",
      "2000000\n",
      "3000000\n",
      "4000000\n",
      "5000000\n"
     ]
    }
   ],
   "source": [
    "filtered_indptr = [0]\n",
    "filtered_indices = []\n",
    "filtered_data = []\n",
    "for i in range(len(indptr) - 1):\n",
    "    if i % 1000000 == 0:\n",
    "        print(i)\n",
    "    start = indptr[i] \n",
    "    end = indptr[i+1]\n",
    "    tmp_indices = indices[start:end]\n",
    "    tmp_data = data[start:end]\n",
    "    tmp_bool = genes_bool[tmp_indices]\n",
    "    filtered_indptr.append(filtered_indptr[-1] + np.sum(tmp_bool))\n",
    "    filtered_indices.append(tmp_indices[tmp_bool])\n",
    "    filtered_data.append(tmp_data[tmp_bool])"
   ]
  },
  {
   "cell_type": "code",
   "execution_count": 42,
   "id": "fc1848a4-2a91-4757-88c5-39c5b69970f7",
   "metadata": {
    "execution": {
     "iopub.execute_input": "2024-01-03T05:50:24.704639Z",
     "iopub.status.busy": "2024-01-03T05:50:24.704246Z",
     "iopub.status.idle": "2024-01-03T05:50:40.640557Z",
     "shell.execute_reply": "2024-01-03T05:50:40.639829Z",
     "shell.execute_reply.started": "2024-01-03T05:50:24.704595Z"
    },
    "scrolled": true
   },
   "outputs": [],
   "source": [
    "filtered_indptr_2 = np.array(filtered_indptr).astype(np.uint64)\n",
    "original_filtered_indices = np.concatenate(filtered_indices).astype(np.uint16)\n",
    "filtered_data_2 = np.concatenate(filtered_data).astype(np.float32)"
   ]
  },
  {
   "cell_type": "code",
   "execution_count": 46,
   "id": "d44e57c7-4c15-4b52-87a5-b2e3e0f958e7",
   "metadata": {
    "execution": {
     "iopub.execute_input": "2024-01-03T05:51:10.154726Z",
     "iopub.status.busy": "2024-01-03T05:51:10.154399Z",
     "iopub.status.idle": "2024-01-03T05:51:23.873498Z",
     "shell.execute_reply": "2024-01-03T05:51:23.872545Z",
     "shell.execute_reply.started": "2024-01-03T05:51:10.154678Z"
    }
   },
   "outputs": [],
   "source": [
    "np.save('trained_data/filtered_indptr.npy', filtered_indptr_2)\n",
    "np.save('trained_data/original_filtered_indices.npy', original_filtered_indices)\n",
    "np.save('trained_data/filtered_data.npy', filtered_data_2)"
   ]
  },
  {
   "cell_type": "code",
   "execution_count": 10,
   "id": "75ac49ac-7cd3-441c-900c-d3f82322c2ff",
   "metadata": {
    "execution": {
     "iopub.execute_input": "2024-01-03T05:59:40.421042Z",
     "iopub.status.busy": "2024-01-03T05:59:40.420862Z",
     "iopub.status.idle": "2024-01-03T05:59:40.553065Z",
     "shell.execute_reply": "2024-01-03T05:59:40.551901Z",
     "shell.execute_reply.started": "2024-01-03T05:59:40.421023Z"
    }
   },
   "outputs": [],
   "source": [
    "from numba import jit\n",
    "\n",
    "@jit(nopython=True)\n",
    "def go_loop(arr, genes_bool_arr):\n",
    "    dct = {i: j for j, i in enumerate(genes_bool_arr)}\n",
    "    new_arr = np.zeros(shape=arr.shape[0], dtype=np.uint32)\n",
    "    for i in range(len(new_arr)):\n",
    "        new_arr[i] = dct[arr[i]]\n",
    "    return new_arr"
   ]
  },
  {
   "cell_type": "code",
   "execution_count": 12,
   "id": "874594e5-8f9b-4375-99dc-9c4a2533e208",
   "metadata": {
    "execution": {
     "iopub.execute_input": "2024-01-03T05:59:42.885223Z",
     "iopub.status.busy": "2024-01-03T05:59:42.885014Z",
     "iopub.status.idle": "2024-01-03T06:01:41.654176Z",
     "shell.execute_reply": "2024-01-03T06:01:41.653007Z",
     "shell.execute_reply.started": "2024-01-03T05:59:42.885204Z"
    }
   },
   "outputs": [],
   "source": [
    "filtered_indices = go_loop(original_filtered_indices, genes_bool_idx)"
   ]
  },
  {
   "cell_type": "code",
   "execution_count": 13,
   "id": "1b668d23-50cb-41e2-b04e-8f672a935f45",
   "metadata": {
    "execution": {
     "iopub.execute_input": "2024-01-03T06:01:41.655667Z",
     "iopub.status.busy": "2024-01-03T06:01:41.655447Z",
     "iopub.status.idle": "2024-01-03T06:01:41.661126Z",
     "shell.execute_reply": "2024-01-03T06:01:41.660532Z",
     "shell.execute_reply.started": "2024-01-03T06:01:41.655646Z"
    }
   },
   "outputs": [
    {
     "data": {
      "text/plain": [
       "(7231077788,)"
      ]
     },
     "execution_count": 13,
     "metadata": {},
     "output_type": "execute_result"
    }
   ],
   "source": [
    "filtered_indices.shape"
   ]
  },
  {
   "cell_type": "code",
   "execution_count": 14,
   "id": "841e52f3-3a05-43d3-be45-60cf49d34e5c",
   "metadata": {
    "execution": {
     "iopub.execute_input": "2024-01-03T06:01:41.662029Z",
     "iopub.status.busy": "2024-01-03T06:01:41.661865Z",
     "iopub.status.idle": "2024-01-03T06:01:53.991572Z",
     "shell.execute_reply": "2024-01-03T06:01:53.990485Z",
     "shell.execute_reply.started": "2024-01-03T06:01:41.662012Z"
    }
   },
   "outputs": [],
   "source": [
    "np.save('trained_data/filtered_indices.npy', filtered_indices)"
   ]
  },
  {
   "cell_type": "code",
   "execution_count": 3,
   "id": "2774d49e-4c71-40d3-bafd-0605596af4a8",
   "metadata": {
    "execution": {
     "iopub.execute_input": "2024-01-03T07:00:07.039680Z",
     "iopub.status.busy": "2024-01-03T07:00:07.038352Z",
     "iopub.status.idle": "2024-01-03T07:00:15.665172Z",
     "shell.execute_reply": "2024-01-03T07:00:15.664165Z",
     "shell.execute_reply.started": "2024-01-03T07:00:07.039652Z"
    }
   },
   "outputs": [],
   "source": [
    "filtered_indptr = np.load('trained_data/filtered_indptr.npy')\n",
    "filtered_indices = np.load('trained_data/filtered_indices.npy')\n",
    "filtered_data = np.load('trained_data/filtered_data.npy')"
   ]
  },
  {
   "cell_type": "code",
   "execution_count": 4,
   "id": "af443d50-0306-4620-8589-9f5722d8b293",
   "metadata": {
    "execution": {
     "iopub.execute_input": "2024-01-03T07:00:15.666660Z",
     "iopub.status.busy": "2024-01-03T07:00:15.666480Z",
     "iopub.status.idle": "2024-01-03T07:00:24.434896Z",
     "shell.execute_reply": "2024-01-03T07:00:24.433946Z",
     "shell.execute_reply.started": "2024-01-03T07:00:15.666642Z"
    }
   },
   "outputs": [],
   "source": [
    "final_matrix = scipy.sparse.csr_matrix((filtered_data, filtered_indices, filtered_indptr), shape=(5033871, 12491))"
   ]
  },
  {
   "cell_type": "code",
   "execution_count": 5,
   "id": "386e9331-f3cc-4feb-bdc1-25f989da8427",
   "metadata": {
    "execution": {
     "iopub.execute_input": "2024-01-03T07:00:24.435985Z",
     "iopub.status.busy": "2024-01-03T07:00:24.435810Z",
     "iopub.status.idle": "2024-01-03T07:00:24.443165Z",
     "shell.execute_reply": "2024-01-03T07:00:24.442479Z",
     "shell.execute_reply.started": "2024-01-03T07:00:24.435967Z"
    }
   },
   "outputs": [],
   "source": [
    "meta = np.load('trained_data/trained_meta_celltypes.npy')"
   ]
  },
  {
   "cell_type": "code",
   "execution_count": 8,
   "id": "13ec88a0-505f-463f-affe-35017fea43c7",
   "metadata": {
    "execution": {
     "iopub.execute_input": "2024-01-03T06:28:39.395991Z",
     "iopub.status.busy": "2024-01-03T06:28:39.395468Z",
     "iopub.status.idle": "2024-01-03T06:28:40.973113Z",
     "shell.execute_reply": "2024-01-03T06:28:40.972214Z",
     "shell.execute_reply.started": "2024-01-03T06:28:39.395967Z"
    }
   },
   "outputs": [],
   "source": [
    "from sklearn import svm"
   ]
  },
  {
   "cell_type": "code",
   "execution_count": 10,
   "id": "cd88768c-685b-490e-b8df-838fe9795657",
   "metadata": {
    "execution": {
     "iopub.execute_input": "2024-01-03T06:30:05.551074Z",
     "iopub.status.busy": "2024-01-03T06:30:05.550510Z",
     "iopub.status.idle": "2024-01-03T06:30:05.555800Z",
     "shell.execute_reply": "2024-01-03T06:30:05.554887Z",
     "shell.execute_reply.started": "2024-01-03T06:30:05.551033Z"
    }
   },
   "outputs": [],
   "source": [
    "clf = svm.SVC()"
   ]
  },
  {
   "cell_type": "code",
   "execution_count": 12,
   "id": "3823b92e-75c9-46a7-8514-5ac9fc75d2ca",
   "metadata": {
    "execution": {
     "iopub.execute_input": "2024-01-03T06:30:31.848501Z",
     "iopub.status.busy": "2024-01-03T06:30:31.847940Z",
     "iopub.status.idle": "2024-01-03T06:30:31.860339Z",
     "shell.execute_reply": "2024-01-03T06:30:31.859608Z",
     "shell.execute_reply.started": "2024-01-03T06:30:31.848444Z"
    }
   },
   "outputs": [
    {
     "data": {
      "text/plain": [
       "111792"
      ]
     },
     "execution_count": 12,
     "metadata": {},
     "output_type": "execute_result"
    }
   ],
   "source": [
    "np.sum(meta==0)"
   ]
  },
  {
   "cell_type": "code",
   "execution_count": null,
   "id": "643f54e6-f9c2-44b2-be97-a959de45e0f3",
   "metadata": {
    "execution": {
     "iopub.execute_input": "2024-01-03T07:00:47.595905Z",
     "iopub.status.busy": "2024-01-03T07:00:47.595208Z"
    }
   },
   "outputs": [],
   "source": [
    "tmp_final_matrix = final_matrix[np.nonzero(meta!=0)[0], :][:3000000, :]"
   ]
  },
  {
   "cell_type": "code",
   "execution_count": null,
   "id": "fb0315b6-4337-4a35-9fc7-cad61f65a70d",
   "metadata": {},
   "outputs": [],
   "source": [
    "tmp_final_matrix.indptr = tmp_final_matrix.indptr.astype(np.int32)\n",
    "tmp_final_matrix.indices = tmp_final_matrix.indices.astype(np.int32)"
   ]
  },
  {
   "cell_type": "code",
   "execution_count": null,
   "id": "61c7a99e-7a9c-4ef3-a0ed-26fdcb5d039a",
   "metadata": {},
   "outputs": [],
   "source": [
    "del final_matrix\n",
    "del filtered_indptr\n",
    "del filtered_indices\n",
    "del filtered_data"
   ]
  },
  {
   "cell_type": "code",
   "execution_count": null,
   "id": "fdf36301-eec3-4dc8-a245-840ea01679ad",
   "metadata": {
    "execution": {
     "iopub.execute_input": "2024-01-03T06:42:41.977356Z",
     "iopub.status.busy": "2024-01-03T06:42:41.977189Z"
    }
   },
   "outputs": [],
   "source": [
    "clf.fit(tmp_final_matrix, meta[meta != 0][:3000000])"
   ]
  },
  {
   "cell_type": "code",
   "execution_count": null,
   "id": "132dc473-0119-45ac-8199-4ae2470b4c3d",
   "metadata": {},
   "outputs": [],
   "source": []
  }
 ],
 "metadata": {
  "kernelspec": {
   "display_name": "cell type prediction",
   "language": "python",
   "name": "cell-type-prediction"
  },
  "language_info": {
   "codemirror_mode": {
    "name": "ipython",
    "version": 3
   },
   "file_extension": ".py",
   "mimetype": "text/x-python",
   "name": "python",
   "nbconvert_exporter": "python",
   "pygments_lexer": "ipython3",
   "version": "3.10.9"
  }
 },
 "nbformat": 4,
 "nbformat_minor": 5
}
