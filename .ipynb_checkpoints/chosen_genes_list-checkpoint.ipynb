{
 "cells": [
  {
   "cell_type": "code",
   "execution_count": 69,
   "id": "7e4a0ec3-00f6-4977-a16d-2f7878892d38",
   "metadata": {
    "execution": {
     "iopub.execute_input": "2024-01-10T10:07:33.478129Z",
     "iopub.status.busy": "2024-01-10T10:07:33.477549Z",
     "iopub.status.idle": "2024-01-10T10:07:33.482357Z",
     "shell.execute_reply": "2024-01-10T10:07:33.481894Z",
     "shell.execute_reply.started": "2024-01-10T10:07:33.478098Z"
    }
   },
   "outputs": [],
   "source": [
    "import h5py\n",
    "import os\n",
    "import zlib\n",
    "import msgpack\n",
    "import numpy as np\n",
    "import scipy\n",
    "\n",
    "def read_compressed_json(path):\n",
    "\tif not os.path.isfile(path):\n",
    "\t\treturn {}\n",
    "\twith open(path, 'rb') as f:\n",
    "\t\to = f.read()\n",
    "\t\to = zlib.decompress(o)\n",
    "\t\to = msgpack.unpackb(o, strict_map_key=False)\n",
    "\t\treturn o"
   ]
  },
  {
   "cell_type": "code",
   "execution_count": 70,
   "id": "132db36d-dcb9-4528-8621-a208496e8a5e",
   "metadata": {
    "execution": {
     "iopub.execute_input": "2024-01-10T10:07:33.910187Z",
     "iopub.status.busy": "2024-01-10T10:07:33.909675Z",
     "iopub.status.idle": "2024-01-10T10:07:34.046513Z",
     "shell.execute_reply": "2024-01-10T10:07:34.045990Z",
     "shell.execute_reply.started": "2024-01-10T10:07:33.910157Z"
    }
   },
   "outputs": [],
   "source": [
    "TRAINED_STUDIES = sorted(os.listdir('/home/ub-sonvo-25d094476064960/celltype_prediction/camel_2'))\n",
    "GENES_ANNOTATION = read_compressed_json('/home/ub-sonvo-25d094476064960/genes_annotation.json.gz')\n",
    "N_GENES = GENES_ANNOTATION['n_genes']"
   ]
  },
  {
   "cell_type": "code",
   "execution_count": 71,
   "id": "7b47a3c9-b5a6-439c-8465-56fcae23227c",
   "metadata": {
    "execution": {
     "iopub.execute_input": "2024-01-10T10:07:34.345119Z",
     "iopub.status.busy": "2024-01-10T10:07:34.344586Z",
     "iopub.status.idle": "2024-01-10T10:07:34.354141Z",
     "shell.execute_reply": "2024-01-10T10:07:34.353698Z",
     "shell.execute_reply.started": "2024-01-10T10:07:34.345095Z"
    }
   },
   "outputs": [
    {
     "name": "stdout",
     "output_type": "stream",
     "text": [
      "387\n",
      "226\n",
      "278\n"
     ]
    }
   ],
   "source": [
    "ROOT_DIR = '/home/ub-sonvo-25d094476064960/celltype_prediction/camel_2'\n",
    "TERM_MAPPING = read_compressed_json('/home/ub-sonvo-25d094476064960/term_mapping.json.gz')\n",
    "\n",
    "FIBROBLAST_IDX = TERM_MAPPING['name2idx']['fibroblast']\n",
    "print(FIBROBLAST_IDX)\n",
    "\n",
    "SUBCELLTYPE_IDX = TERM_MAPPING['name2idx']['cell type - subgroup']\n",
    "print(SUBCELLTYPE_IDX)\n",
    "\n",
    "CONNECTIVE_TISSUE_CELL_IDX = TERM_MAPPING['name2idx']['connective tissue cell']\n",
    "print(CONNECTIVE_TISSUE_CELL_IDX)"
   ]
  },
  {
   "cell_type": "code",
   "execution_count": 4,
   "id": "adf9d0a1-9dec-4328-8bd3-39c862b6faad",
   "metadata": {
    "execution": {
     "iopub.execute_input": "2024-01-08T11:32:49.418421Z",
     "iopub.status.busy": "2024-01-08T11:32:49.417625Z",
     "iopub.status.idle": "2024-01-08T11:32:49.431190Z",
     "shell.execute_reply": "2024-01-08T11:32:49.430468Z",
     "shell.execute_reply.started": "2024-01-08T11:32:49.418384Z"
    }
   },
   "outputs": [],
   "source": [
    "merged_meta_arr = np.load(\n",
    "    '/home/ub-sonvo-25d094476064960/celltype_prediction/ML_DL/trained_data_2/trained_meta_celltypes_HVG.npy'\n",
    ")"
   ]
  },
  {
   "cell_type": "code",
   "execution_count": 73,
   "id": "0824ffe4-9f7b-4f27-9540-ba1d72f293ef",
   "metadata": {
    "execution": {
     "iopub.execute_input": "2024-01-10T10:07:56.203179Z",
     "iopub.status.busy": "2024-01-10T10:07:56.202783Z",
     "iopub.status.idle": "2024-01-10T10:07:56.213631Z",
     "shell.execute_reply": "2024-01-10T10:07:56.213135Z",
     "shell.execute_reply.started": "2024-01-10T10:07:56.203143Z"
    }
   },
   "outputs": [],
   "source": [
    "merged_meta_arr = np.load(\n",
    "    '/home/ub-sonvo-25d094476064960/celltype_prediction/ML_DL/trained_data_2/new_tree_major.npy'\n",
    ")"
   ]
  },
  {
   "cell_type": "code",
   "execution_count": 74,
   "id": "8f184b99-a495-4827-91bb-967dd105ed3b",
   "metadata": {
    "execution": {
     "iopub.execute_input": "2024-01-10T10:08:06.608146Z",
     "iopub.status.busy": "2024-01-10T10:08:06.607588Z",
     "iopub.status.idle": "2024-01-10T10:08:11.154962Z",
     "shell.execute_reply": "2024-01-10T10:08:11.153680Z",
     "shell.execute_reply.started": "2024-01-10T10:08:06.608113Z"
    }
   },
   "outputs": [],
   "source": [
    "studies_idx_arr = []\n",
    "for i in range(len(TRAINED_STUDIES)):\n",
    "    study_idx = TRAINED_STUDIES[i]\n",
    "    hdf5_path = os.path.join(ROOT_DIR, str(study_idx), 'raw.hdf5')\n",
    "    with h5py.File(hdf5_path) as f:\n",
    "        bc = f['barcodes'][()]\n",
    "    tmp = np.zeros(shape=len(bc))\n",
    "    tmp[:] = i\n",
    "    studies_idx_arr.append(tmp)"
   ]
  },
  {
   "cell_type": "code",
   "execution_count": 75,
   "id": "abd8539c-0f4f-4d1a-88ec-5f201d29e9ea",
   "metadata": {
    "execution": {
     "iopub.execute_input": "2024-01-10T10:08:35.129325Z",
     "iopub.status.busy": "2024-01-10T10:08:35.129052Z",
     "iopub.status.idle": "2024-01-10T10:08:35.182277Z",
     "shell.execute_reply": "2024-01-10T10:08:35.181325Z",
     "shell.execute_reply.started": "2024-01-10T10:08:35.129302Z"
    }
   },
   "outputs": [],
   "source": [
    "studies_idx_arr = np.concatenate(studies_idx_arr)\n",
    "studies_idx_arr = studies_idx_arr.astype('int')\n",
    "np.save('trained_data_2/new_tree_studies_idx_arr.npy', studies_idx_arr)"
   ]
  },
  {
   "cell_type": "code",
   "execution_count": 76,
   "id": "4562f98e-e9ae-4d78-8127-7e65392785b9",
   "metadata": {
    "execution": {
     "iopub.execute_input": "2024-01-10T10:08:44.523083Z",
     "iopub.status.busy": "2024-01-10T10:08:44.521644Z",
     "iopub.status.idle": "2024-01-10T10:08:44.550849Z",
     "shell.execute_reply": "2024-01-10T10:08:44.549792Z",
     "shell.execute_reply.started": "2024-01-10T10:08:44.523033Z"
    }
   },
   "outputs": [
    {
     "data": {
      "text/plain": [
       "array([  0,   0,   0, ..., 149, 149, 149])"
      ]
     },
     "execution_count": 76,
     "metadata": {},
     "output_type": "execute_result"
    }
   ],
   "source": [
    "studies_idx_arr = np.load(\n",
    "    '/home/ub-sonvo-25d094476064960/celltype_prediction/ML_DL/trained_data_2/new_tree_studies_idx_arr.npy'\n",
    ")\n",
    "studies_idx_arr"
   ]
  },
  {
   "cell_type": "code",
   "execution_count": 78,
   "id": "c1e439bc-23a9-4d7d-aa2d-cd122a16f505",
   "metadata": {
    "execution": {
     "iopub.execute_input": "2024-01-10T10:11:09.195358Z",
     "iopub.status.busy": "2024-01-10T10:11:09.194935Z",
     "iopub.status.idle": "2024-01-10T10:11:09.216311Z",
     "shell.execute_reply": "2024-01-10T10:11:09.215718Z",
     "shell.execute_reply.started": "2024-01-10T10:11:09.195322Z"
    }
   },
   "outputs": [],
   "source": [
    "np.save(\n",
    "    '/home/ub-sonvo-25d094476064960/celltype_prediction/ML_DL/trained_data_2/new_tree_studies_idx_arr.npy',\n",
    "    studies_idx_arr.astype(np.uint16)\n",
    ")"
   ]
  },
  {
   "cell_type": "code",
   "execution_count": 80,
   "id": "2cfe36c5-c23e-43ea-b5f8-52a1073b4d23",
   "metadata": {
    "execution": {
     "iopub.execute_input": "2024-01-10T10:11:23.693097Z",
     "iopub.status.busy": "2024-01-10T10:11:23.692823Z",
     "iopub.status.idle": "2024-01-10T10:11:23.697353Z",
     "shell.execute_reply": "2024-01-10T10:11:23.696809Z",
     "shell.execute_reply.started": "2024-01-10T10:11:23.693074Z"
    }
   },
   "outputs": [
    {
     "data": {
      "text/plain": [
       "array([359, 359, 359, ...,   0,   0,   0], dtype=uint16)"
      ]
     },
     "execution_count": 80,
     "metadata": {},
     "output_type": "execute_result"
    }
   ],
   "source": [
    "merged_meta_arr"
   ]
  },
  {
   "cell_type": "code",
   "execution_count": 81,
   "id": "86728d2e-3e5c-4971-bd99-d3046ffe2d59",
   "metadata": {
    "execution": {
     "iopub.execute_input": "2024-01-10T10:11:43.300899Z",
     "iopub.status.busy": "2024-01-10T10:11:43.300461Z",
     "iopub.status.idle": "2024-01-10T10:19:55.773478Z",
     "shell.execute_reply": "2024-01-10T10:19:55.772646Z",
     "shell.execute_reply.started": "2024-01-10T10:11:43.300869Z"
    },
    "scrolled": true
   },
   "outputs": [
    {
     "name": "stdout",
     "output_type": "stream",
     "text": [
      "0\n",
      "1\n",
      "2\n",
      "3\n",
      "4\n",
      "5\n",
      "6\n",
      "7\n",
      "8\n",
      "9\n",
      "10\n",
      "11\n",
      "12\n",
      "13\n",
      "14\n",
      "15\n",
      "16\n",
      "17\n",
      "18\n",
      "19\n",
      "20\n",
      "21\n",
      "22\n",
      "23\n",
      "24\n",
      "25\n",
      "26\n",
      "27\n",
      "28\n",
      "29\n",
      "30\n",
      "31\n",
      "32\n",
      "33\n",
      "34\n",
      "35\n",
      "36\n",
      "37\n",
      "38\n",
      "39\n",
      "40\n",
      "41\n",
      "42\n",
      "43\n",
      "44\n",
      "45\n",
      "46\n",
      "47\n",
      "48\n",
      "49\n",
      "50\n",
      "51\n",
      "52\n",
      "53\n",
      "54\n",
      "55\n",
      "56\n",
      "57\n",
      "58\n",
      "59\n",
      "60\n",
      "61\n",
      "62\n",
      "63\n",
      "64\n",
      "65\n",
      "66\n",
      "67\n",
      "68\n",
      "69\n",
      "70\n",
      "71\n",
      "72\n",
      "73\n",
      "74\n",
      "75\n",
      "76\n",
      "77\n",
      "78\n",
      "79\n",
      "80\n",
      "81\n",
      "82\n",
      "83\n",
      "84\n",
      "85\n",
      "86\n",
      "87\n",
      "88\n",
      "89\n",
      "90\n",
      "91\n",
      "92\n",
      "93\n",
      "94\n",
      "95\n",
      "96\n",
      "97\n",
      "98\n",
      "99\n",
      "100\n",
      "101\n",
      "102\n",
      "103\n",
      "104\n",
      "105\n",
      "106\n",
      "107\n",
      "108\n",
      "109\n",
      "110\n",
      "111\n",
      "112\n",
      "113\n",
      "114\n",
      "115\n",
      "116\n",
      "117\n",
      "118\n",
      "119\n",
      "120\n",
      "121\n",
      "122\n",
      "123\n",
      "124\n",
      "125\n",
      "126\n",
      "127\n",
      "128\n",
      "129\n",
      "130\n",
      "131\n",
      "132\n",
      "133\n",
      "134\n",
      "135\n",
      "136\n",
      "137\n",
      "138\n",
      "139\n",
      "140\n",
      "141\n",
      "142\n",
      "143\n",
      "144\n",
      "145\n",
      "146\n",
      "147\n",
      "148\n",
      "149\n"
     ]
    }
   ],
   "source": [
    "celltype_idx = np.unique(merged_meta_arr)\n",
    "chosen_genes_arr = np.ones(shape=(len(celltype_idx), N_GENES), dtype=np.bool_)\n",
    "\n",
    "for i in range(len(TRAINED_STUDIES)):\n",
    "    print(i)\n",
    "    tmp_arr = np.zeros(shape=chosen_genes_arr.shape, dtype=np.bool_)\n",
    "    tmp_arr[:] = True\n",
    "    \n",
    "    study_idx = TRAINED_STUDIES[i]\n",
    "    tmp_cell_types_arr = merged_meta_arr[studies_idx_arr == i]\n",
    "    for k in np.unique(tmp_cell_types_arr):\n",
    "        tmp_arr[\n",
    "            np.nonzero(celltype_idx == k)[0],\n",
    "            :\n",
    "        ] = False\n",
    "        \n",
    "    with h5py.File('{}/{}/{}'.format(ROOT_DIR, study_idx, 'raw.hdf5')) as f:\n",
    "        indptr = f['expression']['indptr'][()]\n",
    "        indices = f['expression']['indices'][()]\n",
    "    \n",
    "    tmp_indptr_counts = indptr[1:] - indptr[:-1]\n",
    "    tmp_indptr_counts = tmp_indptr_counts[:N_GENES]\n",
    "    for k in range(len(tmp_indptr_counts)):\n",
    "        if tmp_indptr_counts[k] == 0:\n",
    "            continue\n",
    "        tmp_indices = indices[indptr[k] : indptr[k+1]]\n",
    "        tmp_indices = tmp_cell_types_arr[tmp_indices]\n",
    "        \n",
    "        for j in np.unique(tmp_indices):\n",
    "            tmp_arr[\n",
    "                np.nonzero(celltype_idx == j)[0],\n",
    "                k\n",
    "            ] = True\n",
    "\n",
    "    # print (tmp_arr)\n",
    "    # print (chosen_genes_arr)\n",
    "\n",
    "    chosen_genes_arr = (chosen_genes_arr.astype(np.uint8) + tmp_arr.astype(np.uint8)) == 2"
   ]
  },
  {
   "cell_type": "code",
   "execution_count": 82,
   "id": "166c83f0-1af9-4127-96af-286a962a9432",
   "metadata": {
    "execution": {
     "iopub.execute_input": "2024-01-10T10:20:39.076266Z",
     "iopub.status.busy": "2024-01-10T10:20:39.075946Z",
     "iopub.status.idle": "2024-01-10T10:20:39.081279Z",
     "shell.execute_reply": "2024-01-10T10:20:39.080781Z",
     "shell.execute_reply.started": "2024-01-10T10:20:39.076237Z"
    }
   },
   "outputs": [
    {
     "data": {
      "text/plain": [
       "(37, 63683)"
      ]
     },
     "execution_count": 82,
     "metadata": {},
     "output_type": "execute_result"
    }
   ],
   "source": [
    "chosen_genes_arr.shape"
   ]
  },
  {
   "cell_type": "code",
   "execution_count": 84,
   "id": "9664c871-21c2-48d4-a79a-f42a34f646cf",
   "metadata": {
    "execution": {
     "iopub.execute_input": "2024-01-10T10:21:16.751182Z",
     "iopub.status.busy": "2024-01-10T10:21:16.750280Z",
     "iopub.status.idle": "2024-01-10T10:21:16.758272Z",
     "shell.execute_reply": "2024-01-10T10:21:16.757666Z",
     "shell.execute_reply.started": "2024-01-10T10:21:16.751147Z"
    }
   },
   "outputs": [
    {
     "data": {
      "text/plain": [
       "23318"
      ]
     },
     "execution_count": 84,
     "metadata": {},
     "output_type": "execute_result"
    }
   ],
   "source": [
    "np.sum(np.sum(chosen_genes_arr, axis=0) > 1)"
   ]
  },
  {
   "cell_type": "code",
   "execution_count": 64,
   "id": "213b3c69-2179-49b3-847d-a9fed0a653bd",
   "metadata": {
    "execution": {
     "iopub.execute_input": "2024-01-08T16:03:12.038210Z",
     "iopub.status.busy": "2024-01-08T16:03:12.037511Z",
     "iopub.status.idle": "2024-01-08T16:03:12.044376Z",
     "shell.execute_reply": "2024-01-08T16:03:12.043551Z",
     "shell.execute_reply.started": "2024-01-08T16:03:12.038170Z"
    }
   },
   "outputs": [],
   "source": [
    "np.save(\n",
    "    'trained_data_2/genes_bool.npy',\n",
    "     np.sum(chosen_genes_arr, axis=0) > 1   \n",
    ")"
   ]
  }
 ],
 "metadata": {
  "kernelspec": {
   "display_name": "cell type prediction",
   "language": "python",
   "name": "cell-type-prediction"
  },
  "language_info": {
   "codemirror_mode": {
    "name": "ipython",
    "version": 3
   },
   "file_extension": ".py",
   "mimetype": "text/x-python",
   "name": "python",
   "nbconvert_exporter": "python",
   "pygments_lexer": "ipython3",
   "version": "3.10.9"
  }
 },
 "nbformat": 4,
 "nbformat_minor": 5
}
