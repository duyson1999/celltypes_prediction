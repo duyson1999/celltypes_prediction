{
 "cells": [
  {
   "cell_type": "code",
   "execution_count": 5,
   "id": "7e4a0ec3-00f6-4977-a16d-2f7878892d38",
   "metadata": {
    "execution": {
     "iopub.execute_input": "2024-01-12T11:48:09.989608Z",
     "iopub.status.busy": "2024-01-12T11:48:09.989334Z",
     "iopub.status.idle": "2024-01-12T11:48:09.995758Z",
     "shell.execute_reply": "2024-01-12T11:48:09.994932Z",
     "shell.execute_reply.started": "2024-01-12T11:48:09.989584Z"
    }
   },
   "outputs": [],
   "source": [
    "import h5py\n",
    "import os\n",
    "import zlib\n",
    "import msgpack\n",
    "import numpy as np\n",
    "import scipy\n",
    "\n",
    "def read_compressed_json(path):\n",
    "\tif not os.path.isfile(path):\n",
    "\t\treturn {}\n",
    "\twith open(path, 'rb') as f:\n",
    "\t\to = f.read()\n",
    "\t\to = zlib.decompress(o)\n",
    "\t\to = msgpack.unpackb(o, strict_map_key=False)\n",
    "\t\treturn o"
   ]
  },
  {
   "cell_type": "code",
   "execution_count": 6,
   "id": "132db36d-dcb9-4528-8621-a208496e8a5e",
   "metadata": {
    "execution": {
     "iopub.execute_input": "2024-01-12T11:48:11.971445Z",
     "iopub.status.busy": "2024-01-12T11:48:11.971068Z",
     "iopub.status.idle": "2024-01-12T11:48:12.071358Z",
     "shell.execute_reply": "2024-01-12T11:48:12.070438Z",
     "shell.execute_reply.started": "2024-01-12T11:48:11.971412Z"
    }
   },
   "outputs": [],
   "source": [
    "TRAINED_STUDIES = sorted(os.listdir('/home/ub-sonvo-25d094476064960/celltype_prediction/camel_2'))\n",
    "GENES_ANNOTATION = read_compressed_json('/home/ub-sonvo-25d094476064960/genes_annotation.json.gz')\n",
    "N_GENES = GENES_ANNOTATION['n_genes']"
   ]
  },
  {
   "cell_type": "code",
   "execution_count": 7,
   "id": "7b47a3c9-b5a6-439c-8465-56fcae23227c",
   "metadata": {
    "execution": {
     "iopub.execute_input": "2024-01-12T11:48:12.807027Z",
     "iopub.status.busy": "2024-01-12T11:48:12.806746Z",
     "iopub.status.idle": "2024-01-12T11:48:12.818301Z",
     "shell.execute_reply": "2024-01-12T11:48:12.817301Z",
     "shell.execute_reply.started": "2024-01-12T11:48:12.807004Z"
    }
   },
   "outputs": [
    {
     "name": "stdout",
     "output_type": "stream",
     "text": [
      "387\n",
      "226\n",
      "278\n"
     ]
    }
   ],
   "source": [
    "ROOT_DIR = '/home/ub-sonvo-25d094476064960/celltype_prediction/camel_2'\n",
    "TERM_MAPPING = read_compressed_json('/home/ub-sonvo-25d094476064960/term_mapping.json.gz')\n",
    "\n",
    "FIBROBLAST_IDX = TERM_MAPPING['name2idx']['fibroblast']\n",
    "print(FIBROBLAST_IDX)\n",
    "\n",
    "SUBCELLTYPE_IDX = TERM_MAPPING['name2idx']['cell type - subgroup']\n",
    "print(SUBCELLTYPE_IDX)\n",
    "\n",
    "CONNECTIVE_TISSUE_CELL_IDX = TERM_MAPPING['name2idx']['connective tissue cell']\n",
    "print(CONNECTIVE_TISSUE_CELL_IDX)"
   ]
  },
  {
   "cell_type": "code",
   "execution_count": 91,
   "id": "adf9d0a1-9dec-4328-8bd3-39c862b6faad",
   "metadata": {
    "execution": {
     "iopub.execute_input": "2024-01-11T08:33:33.267123Z",
     "iopub.status.busy": "2024-01-11T08:33:33.266700Z",
     "iopub.status.idle": "2024-01-11T08:33:33.299395Z",
     "shell.execute_reply": "2024-01-11T08:33:33.298635Z",
     "shell.execute_reply.started": "2024-01-11T08:33:33.267086Z"
    }
   },
   "outputs": [],
   "source": [
    "merged_meta_arr = np.load(\n",
    "    '/home/ub-sonvo-25d094476064960/celltype_prediction/ML_DL/trained_data_2/trained_meta_celltypes_HVG.npy'\n",
    ")"
   ]
  },
  {
   "cell_type": "code",
   "execution_count": 8,
   "id": "0824ffe4-9f7b-4f27-9540-ba1d72f293ef",
   "metadata": {
    "execution": {
     "iopub.execute_input": "2024-01-12T11:48:14.902826Z",
     "iopub.status.busy": "2024-01-12T11:48:14.902323Z",
     "iopub.status.idle": "2024-01-12T11:48:14.913266Z",
     "shell.execute_reply": "2024-01-12T11:48:14.912694Z",
     "shell.execute_reply.started": "2024-01-12T11:48:14.902805Z"
    }
   },
   "outputs": [],
   "source": [
    "merged_meta_arr = np.load(\n",
    "    '/home/ub-sonvo-25d094476064960/celltype_prediction/ML_DL/trained_data_2/new_tree_major_HVG.npy'\n",
    ")"
   ]
  },
  {
   "cell_type": "code",
   "execution_count": 9,
   "id": "8f184b99-a495-4827-91bb-967dd105ed3b",
   "metadata": {
    "execution": {
     "iopub.execute_input": "2024-01-12T11:48:20.619933Z",
     "iopub.status.busy": "2024-01-12T11:48:20.619412Z",
     "iopub.status.idle": "2024-01-12T11:48:20.750278Z",
     "shell.execute_reply": "2024-01-12T11:48:20.749169Z",
     "shell.execute_reply.started": "2024-01-12T11:48:20.619908Z"
    }
   },
   "outputs": [],
   "source": [
    "studies_idx_arr = []\n",
    "for i in range(len(TRAINED_STUDIES)):\n",
    "    study_idx = TRAINED_STUDIES[i]\n",
    "    hdf5_path = os.path.join(ROOT_DIR, str(study_idx), 'raw.hdf5')\n",
    "    with h5py.File(hdf5_path) as f:\n",
    "        bc = f['barcodes'][()]\n",
    "    tmp = np.zeros(shape=len(bc))\n",
    "    tmp[:] = i\n",
    "    studies_idx_arr.append(tmp)"
   ]
  },
  {
   "cell_type": "code",
   "execution_count": 10,
   "id": "abd8539c-0f4f-4d1a-88ec-5f201d29e9ea",
   "metadata": {
    "execution": {
     "iopub.execute_input": "2024-01-12T11:48:20.751894Z",
     "iopub.status.busy": "2024-01-12T11:48:20.751703Z",
     "iopub.status.idle": "2024-01-12T11:48:20.778816Z",
     "shell.execute_reply": "2024-01-12T11:48:20.777935Z",
     "shell.execute_reply.started": "2024-01-12T11:48:20.751876Z"
    }
   },
   "outputs": [],
   "source": [
    "studies_idx_arr = np.concatenate(studies_idx_arr)\n",
    "studies_idx_arr = studies_idx_arr.astype(np.uint16)\n",
    "# np.save('trained_data_2/new_tree_studies_idx_arr.npy', studies_idx_arr)"
   ]
  },
  {
   "cell_type": "code",
   "execution_count": 7,
   "id": "4562f98e-e9ae-4d78-8127-7e65392785b9",
   "metadata": {
    "execution": {
     "iopub.execute_input": "2024-01-12T09:36:29.196259Z",
     "iopub.status.busy": "2024-01-12T09:36:29.195772Z",
     "iopub.status.idle": "2024-01-12T09:36:29.205565Z",
     "shell.execute_reply": "2024-01-12T09:36:29.205125Z",
     "shell.execute_reply.started": "2024-01-12T09:36:29.196222Z"
    }
   },
   "outputs": [
    {
     "data": {
      "text/plain": [
       "array([  0,   0,   0, ..., 149, 149, 149], dtype=uint16)"
      ]
     },
     "execution_count": 7,
     "metadata": {},
     "output_type": "execute_result"
    }
   ],
   "source": [
    "# studies_idx_arr = np.load(\n",
    "#     '/home/ub-sonvo-25d094476064960/celltype_prediction/ML_DL/trained_data_2/new_tree_studies_idx_arr.npy'\n",
    "# )\n",
    "studies_idx_arr"
   ]
  },
  {
   "cell_type": "code",
   "execution_count": 78,
   "id": "c1e439bc-23a9-4d7d-aa2d-cd122a16f505",
   "metadata": {
    "execution": {
     "iopub.execute_input": "2024-01-10T10:11:09.195358Z",
     "iopub.status.busy": "2024-01-10T10:11:09.194935Z",
     "iopub.status.idle": "2024-01-10T10:11:09.216311Z",
     "shell.execute_reply": "2024-01-10T10:11:09.215718Z",
     "shell.execute_reply.started": "2024-01-10T10:11:09.195322Z"
    }
   },
   "outputs": [],
   "source": [
    "np.save(\n",
    "    '/home/ub-sonvo-25d094476064960/celltype_prediction/ML_DL/trained_data_2/new_tree_studies_idx_arr.npy',\n",
    "    studies_idx_arr.astype(np.uint16)\n",
    ")"
   ]
  },
  {
   "cell_type": "code",
   "execution_count": 7,
   "id": "2cfe36c5-c23e-43ea-b5f8-52a1073b4d23",
   "metadata": {
    "execution": {
     "iopub.execute_input": "2024-01-11T18:05:24.284350Z",
     "iopub.status.busy": "2024-01-11T18:05:24.283689Z",
     "iopub.status.idle": "2024-01-11T18:05:24.295043Z",
     "shell.execute_reply": "2024-01-11T18:05:24.294298Z",
     "shell.execute_reply.started": "2024-01-11T18:05:24.284313Z"
    }
   },
   "outputs": [
    {
     "data": {
      "text/plain": [
       "(9165105,)"
      ]
     },
     "execution_count": 7,
     "metadata": {},
     "output_type": "execute_result"
    }
   ],
   "source": [
    "merged_meta_arr.shape"
   ]
  },
  {
   "cell_type": "code",
   "execution_count": 8,
   "id": "60553a79-495e-47d5-beeb-a780ae734714",
   "metadata": {
    "execution": {
     "iopub.execute_input": "2024-01-11T18:05:36.959630Z",
     "iopub.status.busy": "2024-01-11T18:05:36.959364Z",
     "iopub.status.idle": "2024-01-11T18:05:36.969641Z",
     "shell.execute_reply": "2024-01-11T18:05:36.969172Z",
     "shell.execute_reply.started": "2024-01-11T18:05:36.959608Z"
    }
   },
   "outputs": [
    {
     "data": {
      "text/plain": [
       "395955"
      ]
     },
     "execution_count": 8,
     "metadata": {},
     "output_type": "execute_result"
    }
   ],
   "source": [
    "np.sum(merged_meta_arr == 14)"
   ]
  },
  {
   "cell_type": "code",
   "execution_count": 9,
   "id": "86728d2e-3e5c-4971-bd99-d3046ffe2d59",
   "metadata": {
    "execution": {
     "iopub.execute_input": "2024-01-11T18:05:46.492114Z",
     "iopub.status.busy": "2024-01-11T18:05:46.491702Z",
     "iopub.status.idle": "2024-01-11T18:12:29.438139Z",
     "shell.execute_reply": "2024-01-11T18:12:29.437451Z",
     "shell.execute_reply.started": "2024-01-11T18:05:46.492078Z"
    },
    "scrolled": true
   },
   "outputs": [
    {
     "name": "stdout",
     "output_type": "stream",
     "text": [
      "0\n",
      "1\n",
      "2\n",
      "3\n",
      "4\n",
      "5\n",
      "6\n",
      "7\n",
      "8\n",
      "9\n",
      "10\n",
      "11\n",
      "12\n",
      "13\n",
      "14\n",
      "15\n",
      "16\n",
      "17\n",
      "18\n",
      "19\n",
      "20\n",
      "21\n",
      "22\n",
      "23\n",
      "24\n",
      "25\n",
      "26\n",
      "27\n",
      "28\n",
      "29\n",
      "30\n",
      "31\n",
      "32\n",
      "33\n",
      "34\n",
      "35\n",
      "36\n",
      "37\n",
      "38\n",
      "39\n",
      "40\n",
      "41\n",
      "42\n",
      "43\n",
      "44\n",
      "45\n",
      "46\n",
      "47\n",
      "48\n",
      "49\n",
      "50\n",
      "51\n",
      "52\n",
      "53\n",
      "54\n",
      "55\n",
      "56\n",
      "57\n",
      "58\n",
      "59\n",
      "60\n",
      "61\n",
      "62\n",
      "63\n",
      "64\n",
      "65\n",
      "66\n",
      "67\n",
      "68\n",
      "69\n",
      "70\n",
      "71\n",
      "72\n",
      "73\n",
      "74\n",
      "75\n",
      "76\n",
      "77\n",
      "78\n",
      "79\n",
      "80\n",
      "81\n",
      "82\n",
      "83\n",
      "84\n",
      "85\n",
      "86\n",
      "87\n",
      "88\n",
      "89\n",
      "90\n",
      "91\n",
      "92\n",
      "93\n",
      "94\n",
      "95\n",
      "96\n",
      "97\n",
      "98\n",
      "99\n",
      "100\n",
      "101\n",
      "102\n",
      "103\n",
      "104\n",
      "105\n",
      "106\n",
      "107\n",
      "108\n",
      "109\n",
      "110\n",
      "111\n",
      "112\n",
      "113\n",
      "114\n",
      "115\n",
      "116\n",
      "117\n",
      "118\n",
      "119\n",
      "120\n",
      "121\n",
      "122\n",
      "123\n",
      "124\n",
      "125\n",
      "126\n",
      "127\n",
      "128\n",
      "129\n",
      "130\n",
      "131\n",
      "132\n",
      "133\n",
      "134\n",
      "135\n",
      "136\n",
      "137\n",
      "138\n",
      "139\n",
      "140\n",
      "141\n",
      "142\n",
      "143\n",
      "144\n",
      "145\n",
      "146\n",
      "147\n",
      "148\n",
      "149\n"
     ]
    }
   ],
   "source": [
    "celltype_idx = np.unique(merged_meta_arr)\n",
    "chosen_genes_arr = np.ones(shape=(len(celltype_idx), N_GENES), dtype=np.bool_)\n",
    "\n",
    "for i in range(len(TRAINED_STUDIES)):\n",
    "    print(i)\n",
    "    tmp_arr = np.zeros(shape=chosen_genes_arr.shape, dtype=np.bool_)\n",
    "    tmp_arr[:] = True\n",
    "    \n",
    "    study_idx = TRAINED_STUDIES[i]\n",
    "    tmp_cell_types_arr = merged_meta_arr[studies_idx_arr == i]\n",
    "    for k in np.unique(tmp_cell_types_arr):\n",
    "        tmp_arr[\n",
    "            np.nonzero(celltype_idx == k)[0],\n",
    "            :\n",
    "        ] = False\n",
    "        \n",
    "    with h5py.File('{}/{}/{}'.format(ROOT_DIR, study_idx, 'raw.hdf5')) as f:\n",
    "        indptr = f['expression']['indptr'][()]\n",
    "        indices = f['expression']['indices'][()]\n",
    "    \n",
    "    tmp_indptr_counts = indptr[1:] - indptr[:-1]\n",
    "    tmp_indptr_counts = tmp_indptr_counts[:N_GENES]\n",
    "    for k in range(len(tmp_indptr_counts)):\n",
    "        if tmp_indptr_counts[k] == 0:\n",
    "            continue\n",
    "        tmp_indices = indices[indptr[k] : indptr[k+1]]\n",
    "        tmp_indices = tmp_cell_types_arr[tmp_indices]\n",
    "        \n",
    "        for j in np.unique(tmp_indices):\n",
    "            tmp_arr[\n",
    "                np.nonzero(celltype_idx == j)[0],\n",
    "                k\n",
    "            ] = True\n",
    "\n",
    "    # print (tmp_arr)\n",
    "    # print (chosen_genes_arr)\n",
    "\n",
    "    chosen_genes_arr = (chosen_genes_arr.astype(np.uint8) + tmp_arr.astype(np.uint8)) == 2"
   ]
  },
  {
   "cell_type": "code",
   "execution_count": 82,
   "id": "166c83f0-1af9-4127-96af-286a962a9432",
   "metadata": {
    "execution": {
     "iopub.execute_input": "2024-01-10T10:20:39.076266Z",
     "iopub.status.busy": "2024-01-10T10:20:39.075946Z",
     "iopub.status.idle": "2024-01-10T10:20:39.081279Z",
     "shell.execute_reply": "2024-01-10T10:20:39.080781Z",
     "shell.execute_reply.started": "2024-01-10T10:20:39.076237Z"
    }
   },
   "outputs": [
    {
     "data": {
      "text/plain": [
       "(37, 63683)"
      ]
     },
     "execution_count": 82,
     "metadata": {},
     "output_type": "execute_result"
    }
   ],
   "source": [
    "chosen_genes_arr.shape"
   ]
  },
  {
   "cell_type": "code",
   "execution_count": 10,
   "id": "9664c871-21c2-48d4-a79a-f42a34f646cf",
   "metadata": {
    "execution": {
     "iopub.execute_input": "2024-01-11T18:12:37.575782Z",
     "iopub.status.busy": "2024-01-11T18:12:37.575352Z",
     "iopub.status.idle": "2024-01-11T18:12:37.583629Z",
     "shell.execute_reply": "2024-01-11T18:12:37.582972Z",
     "shell.execute_reply.started": "2024-01-11T18:12:37.575746Z"
    }
   },
   "outputs": [
    {
     "data": {
      "text/plain": [
       "28725"
      ]
     },
     "execution_count": 10,
     "metadata": {},
     "output_type": "execute_result"
    }
   ],
   "source": [
    "np.sum(np.sum(chosen_genes_arr, axis=0) > 1)"
   ]
  },
  {
   "cell_type": "code",
   "execution_count": null,
   "id": "0b64227e-28d7-4dc8-a917-1b0b48958ee9",
   "metadata": {},
   "outputs": [],
   "source": [
    "np.sum(np.sum(chosen_genes_arr, axis=0) > 1)"
   ]
  },
  {
   "cell_type": "code",
   "execution_count": 11,
   "id": "213b3c69-2179-49b3-847d-a9fed0a653bd",
   "metadata": {
    "execution": {
     "iopub.execute_input": "2024-01-11T18:12:45.247213Z",
     "iopub.status.busy": "2024-01-11T18:12:45.246941Z",
     "iopub.status.idle": "2024-01-11T18:12:45.253708Z",
     "shell.execute_reply": "2024-01-11T18:12:45.252920Z",
     "shell.execute_reply.started": "2024-01-11T18:12:45.247191Z"
    }
   },
   "outputs": [],
   "source": [
    "np.save(\n",
    "    'trained_data_2/new_tree_genes_bool_2.npy',\n",
    "     np.sum(chosen_genes_arr, axis=0) > 1   \n",
    ")"
   ]
  },
  {
   "cell_type": "code",
   "execution_count": 8,
   "id": "0a1f06bc-4386-4cbd-9039-5edcf3af8df7",
   "metadata": {
    "execution": {
     "iopub.execute_input": "2024-01-12T09:37:28.450271Z",
     "iopub.status.busy": "2024-01-12T09:37:28.449814Z",
     "iopub.status.idle": "2024-01-12T09:37:28.455005Z",
     "shell.execute_reply": "2024-01-12T09:37:28.454490Z",
     "shell.execute_reply.started": "2024-01-12T09:37:28.450231Z"
    }
   },
   "outputs": [],
   "source": [
    "old_genes_bool = np.load('trained_data_2/new_tree_genes_bool_2.npy')"
   ]
  },
  {
   "cell_type": "code",
   "execution_count": 11,
   "id": "262cb944-1c9e-40cf-ba15-31b01e23c19d",
   "metadata": {
    "execution": {
     "iopub.execute_input": "2024-01-12T11:48:31.773444Z",
     "iopub.status.busy": "2024-01-12T11:48:31.773054Z",
     "iopub.status.idle": "2024-01-12T11:49:12.026081Z",
     "shell.execute_reply": "2024-01-12T11:49:12.025215Z",
     "shell.execute_reply.started": "2024-01-12T11:48:31.773409Z"
    },
    "scrolled": true
   },
   "outputs": [
    {
     "name": "stdout",
     "output_type": "stream",
     "text": [
      "0\n"
     ]
    },
    {
     "ename": "KeyboardInterrupt",
     "evalue": "",
     "output_type": "error",
     "traceback": [
      "\u001b[0;31m---------------------------------------------------------------------------\u001b[0m",
      "\u001b[0;31mKeyboardInterrupt\u001b[0m                         Traceback (most recent call last)",
      "Cell \u001b[0;32mIn[11], line 26\u001b[0m\n\u001b[1;32m     23\u001b[0m tmp_bin \u001b[38;5;241m=\u001b[39m bin_matrix[k]\n\u001b[1;32m     25\u001b[0m bin_matrix_n_cells \u001b[38;5;241m=\u001b[39m bin_matrix\u001b[38;5;241m.\u001b[39mshape[\u001b[38;5;241m1\u001b[39m] \u001b[38;5;241m*\u001b[39m \u001b[38;5;241m64\u001b[39m\n\u001b[0;32m---> 26\u001b[0m boolean_arr \u001b[38;5;241m=\u001b[39m np\u001b[38;5;241m.\u001b[39mconcatenate([\n\u001b[1;32m     27\u001b[0m     \u001b[38;5;28mlist\u001b[39m(\u001b[38;5;28mmap\u001b[39m(\u001b[38;5;28mint\u001b[39m, \u001b[38;5;28mlist\u001b[39m(\u001b[38;5;124mf\u001b[39m\u001b[38;5;124m'\u001b[39m\u001b[38;5;132;01m{\u001b[39;00mbin_matrix[k,\u001b[38;5;250m \u001b[39mx]\u001b[38;5;132;01m:\u001b[39;00m\u001b[38;5;124m064b\u001b[39m\u001b[38;5;132;01m}\u001b[39;00m\u001b[38;5;124m'\u001b[39m)))\n\u001b[1;32m     28\u001b[0m     \u001b[38;5;28;01mfor\u001b[39;00m x \u001b[38;5;129;01min\u001b[39;00m \u001b[38;5;28mrange\u001b[39m(bin_matrix\u001b[38;5;241m.\u001b[39mshape[\u001b[38;5;241m1\u001b[39m])\n\u001b[1;32m     29\u001b[0m ])\n\u001b[1;32m     30\u001b[0m n_outer_cells \u001b[38;5;241m=\u001b[39m n_cells \u001b[38;5;241m%\u001b[39m \u001b[38;5;241m64\u001b[39m\n\u001b[1;32m     31\u001b[0m outer_cells \u001b[38;5;241m=\u001b[39m boolean_arr[\u001b[38;5;241m-\u001b[39mn_outer_cells:]\n",
      "Cell \u001b[0;32mIn[11], line 27\u001b[0m, in \u001b[0;36m<listcomp>\u001b[0;34m(.0)\u001b[0m\n\u001b[1;32m     23\u001b[0m tmp_bin \u001b[38;5;241m=\u001b[39m bin_matrix[k]\n\u001b[1;32m     25\u001b[0m bin_matrix_n_cells \u001b[38;5;241m=\u001b[39m bin_matrix\u001b[38;5;241m.\u001b[39mshape[\u001b[38;5;241m1\u001b[39m] \u001b[38;5;241m*\u001b[39m \u001b[38;5;241m64\u001b[39m\n\u001b[1;32m     26\u001b[0m boolean_arr \u001b[38;5;241m=\u001b[39m np\u001b[38;5;241m.\u001b[39mconcatenate([\n\u001b[0;32m---> 27\u001b[0m     \u001b[38;5;28;43mlist\u001b[39;49m\u001b[43m(\u001b[49m\u001b[38;5;28;43mmap\u001b[39;49m\u001b[43m(\u001b[49m\u001b[38;5;28;43mint\u001b[39;49m\u001b[43m,\u001b[49m\u001b[43m \u001b[49m\u001b[38;5;28;43mlist\u001b[39;49m\u001b[43m(\u001b[49m\u001b[38;5;124;43mf\u001b[39;49m\u001b[38;5;124;43m'\u001b[39;49m\u001b[38;5;132;43;01m{\u001b[39;49;00m\u001b[43mbin_matrix\u001b[49m\u001b[43m[\u001b[49m\u001b[43mk\u001b[49m\u001b[43m,\u001b[49m\u001b[38;5;250;43m \u001b[39;49m\u001b[43mx\u001b[49m\u001b[43m]\u001b[49m\u001b[38;5;132;43;01m:\u001b[39;49;00m\u001b[38;5;124;43m064b\u001b[39;49m\u001b[38;5;132;43;01m}\u001b[39;49;00m\u001b[38;5;124;43m'\u001b[39;49m\u001b[43m)\u001b[49m\u001b[43m)\u001b[49m\u001b[43m)\u001b[49m\n\u001b[1;32m     28\u001b[0m     \u001b[38;5;28;01mfor\u001b[39;00m x \u001b[38;5;129;01min\u001b[39;00m \u001b[38;5;28mrange\u001b[39m(bin_matrix\u001b[38;5;241m.\u001b[39mshape[\u001b[38;5;241m1\u001b[39m])\n\u001b[1;32m     29\u001b[0m ])\n\u001b[1;32m     30\u001b[0m n_outer_cells \u001b[38;5;241m=\u001b[39m n_cells \u001b[38;5;241m%\u001b[39m \u001b[38;5;241m64\u001b[39m\n\u001b[1;32m     31\u001b[0m outer_cells \u001b[38;5;241m=\u001b[39m boolean_arr[\u001b[38;5;241m-\u001b[39mn_outer_cells:]\n",
      "\u001b[0;31mKeyboardInterrupt\u001b[0m: "
     ]
    }
   ],
   "source": [
    "celltype_idx = np.unique(merged_meta_arr)\n",
    "chosen_genes_arr = np.ones(shape=(len(celltype_idx), N_GENES), dtype=np.bool_)\n",
    "\n",
    "for i in range(len(TRAINED_STUDIES)):\n",
    "    print(i)\n",
    "    tmp_arr = np.zeros(shape=chosen_genes_arr.shape, dtype=np.bool_)\n",
    "    tmp_arr[:] = True\n",
    "    \n",
    "    study_idx = TRAINED_STUDIES[i]\n",
    "    tmp_cell_types_arr = merged_meta_arr[studies_idx_arr == i]\n",
    "    for k in np.unique(tmp_cell_types_arr):\n",
    "        tmp_arr[\n",
    "            np.nonzero(celltype_idx == k)[0],\n",
    "            :\n",
    "        ] = False\n",
    "        \n",
    "    with h5py.File('{}/{}/{}'.format(ROOT_DIR, study_idx, 'raw.hdf5')) as f:\n",
    "        bin_matrix = f['venice']['bin_matrix'][()]\n",
    "        n_cells = len(f['barcodes'])\n",
    "\n",
    "    for k in range(N_GENES):\n",
    "        indices = np.zeros(n_cells, dtype=np.uint8)\n",
    "        tmp_bin = bin_matrix[k]\n",
    "\n",
    "        for j in range(bin_matrix.shape[1] - 1):\n",
    "            boolean_arr = np.array([\n",
    "                map(int, list(f'{bin_matrix[k, j]:064b}')))\n",
    "            ])\n",
    "            indices[j*]\n",
    "        \n",
    "        n_outer_cells = n_cells % 64\n",
    "        outer_cells = boolean_arr[-n_outer_cells:]\n",
    "        boolean_arr[n_cells//64 * 64 : n_cells//64 * 64 + n_outer_cells] = outer_cells\n",
    "     \n",
    "        indices = boolean_arr[:n_cells]\n",
    "\n",
    "        if np.sum(indices) == 0:\n",
    "            continue\n",
    "            \n",
    "        tmp_indices = tmp_cell_types_arr[indices.astype(np.bool_)]\n",
    "        for j in np.unique(tmp_indices):\n",
    "            tmp_arr[\n",
    "                np.nonzero(celltype_idx == j)[0],\n",
    "                k\n",
    "            ] = True\n",
    "\n",
    "    # print (tmp_arr)\n",
    "    # print (chosen_genes_arr)\n",
    "\n",
    "    chosen_genes_arr = (chosen_genes_arr.astype(np.uint8) + tmp_arr.astype(np.uint8)) == 2"
   ]
  },
  {
   "cell_type": "code",
   "execution_count": 34,
   "id": "14cca184-5b31-48cd-933d-7e19d06f672d",
   "metadata": {
    "execution": {
     "iopub.execute_input": "2024-01-12T10:10:09.488851Z",
     "iopub.status.busy": "2024-01-12T10:10:09.488381Z",
     "iopub.status.idle": "2024-01-12T10:10:09.493227Z",
     "shell.execute_reply": "2024-01-12T10:10:09.492604Z",
     "shell.execute_reply.started": "2024-01-12T10:10:09.488814Z"
    }
   },
   "outputs": [
    {
     "data": {
      "text/plain": [
       "[0]"
      ]
     },
     "execution_count": 34,
     "metadata": {},
     "output_type": "execute_result"
    }
   ],
   "source": [
    "[int(x) for x in list('{0:0b}'.format(0))]"
   ]
  },
  {
   "cell_type": "code",
   "execution_count": null,
   "id": "a81bae21-7bc2-44d9-be5f-2a00aa70e81c",
   "metadata": {},
   "outputs": [],
   "source": [
    "print('a')"
   ]
  },
  {
   "cell_type": "code",
   "execution_count": 10,
   "id": "5a6459b4-f22e-4563-9497-a174b1972210",
   "metadata": {
    "execution": {
     "iopub.execute_input": "2024-01-12T09:45:38.409176Z",
     "iopub.status.busy": "2024-01-12T09:45:38.408873Z",
     "iopub.status.idle": "2024-01-12T09:45:38.413566Z",
     "shell.execute_reply": "2024-01-12T09:45:38.412769Z",
     "shell.execute_reply.started": "2024-01-12T09:45:38.409151Z"
    }
   },
   "outputs": [],
   "source": [
    "test = np.zeros(8)"
   ]
  },
  {
   "cell_type": "code",
   "execution_count": 11,
   "id": "834b3296-0f33-43a6-86e0-ebaeb9c5852b",
   "metadata": {
    "execution": {
     "iopub.execute_input": "2024-01-12T09:45:40.882701Z",
     "iopub.status.busy": "2024-01-12T09:45:40.882093Z",
     "iopub.status.idle": "2024-01-12T09:45:40.888311Z",
     "shell.execute_reply": "2024-01-12T09:45:40.887640Z",
     "shell.execute_reply.started": "2024-01-12T09:45:40.882643Z"
    }
   },
   "outputs": [
    {
     "data": {
      "text/plain": [
       "array([0., 0., 0., 0., 0., 0., 0., 0.])"
      ]
     },
     "execution_count": 11,
     "metadata": {},
     "output_type": "execute_result"
    }
   ],
   "source": [
    "test"
   ]
  },
  {
   "cell_type": "code",
   "execution_count": 16,
   "id": "ab2aea5d-40e3-48b1-b352-87e2af64a1de",
   "metadata": {
    "execution": {
     "iopub.execute_input": "2024-01-12T09:48:54.737902Z",
     "iopub.status.busy": "2024-01-12T09:48:54.737502Z",
     "iopub.status.idle": "2024-01-12T09:48:54.742093Z",
     "shell.execute_reply": "2024-01-12T09:48:54.741591Z",
     "shell.execute_reply.started": "2024-01-12T09:48:54.737877Z"
    }
   },
   "outputs": [
    {
     "data": {
      "text/plain": [
       "[1, 0, 0, 0]"
      ]
     },
     "execution_count": 16,
     "metadata": {},
     "output_type": "execute_result"
    }
   ],
   "source": [
    "[int(x) for x in list('{0:0b}'.format(8))]"
   ]
  },
  {
   "cell_type": "code",
   "execution_count": null,
   "id": "6f1db1ba-7c66-44ec-8e1b-4274e90cdb40",
   "metadata": {},
   "outputs": [],
   "source": []
  }
 ],
 "metadata": {
  "kernelspec": {
   "display_name": "cell type prediction",
   "language": "python",
   "name": "cell-type-prediction"
  },
  "language_info": {
   "codemirror_mode": {
    "name": "ipython",
    "version": 3
   },
   "file_extension": ".py",
   "mimetype": "text/x-python",
   "name": "python",
   "nbconvert_exporter": "python",
   "pygments_lexer": "ipython3",
   "version": "3.10.9"
  }
 },
 "nbformat": 4,
 "nbformat_minor": 5
}
