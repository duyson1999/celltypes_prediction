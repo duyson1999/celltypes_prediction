{
 "cells": [
  {
   "cell_type": "code",
   "execution_count": 1,
   "id": "008e0ee9-d7c0-42df-80a4-f63e94a0e305",
   "metadata": {
    "execution": {
     "iopub.execute_input": "2024-01-04T02:30:56.268261Z",
     "iopub.status.busy": "2024-01-04T02:30:56.268116Z",
     "iopub.status.idle": "2024-01-04T02:30:57.118749Z",
     "shell.execute_reply": "2024-01-04T02:30:57.117971Z",
     "shell.execute_reply.started": "2024-01-04T02:30:56.268243Z"
    }
   },
   "outputs": [],
   "source": [
    "import h5py\n",
    "import os\n",
    "import zlib\n",
    "import msgpack\n",
    "import numpy as np\n",
    "\n",
    "def read_compressed_json(path):\n",
    "\tif not os.path.isfile(path):\n",
    "\t\treturn {}\n",
    "\twith open(path, 'rb') as f:\n",
    "\t\to = f.read()\n",
    "\t\to = zlib.decompress(o)\n",
    "\t\to = msgpack.unpackb(o, strict_map_key=False)\n",
    "\t\treturn o"
   ]
  },
  {
   "cell_type": "code",
   "execution_count": 2,
   "id": "d0106ec9-a0c7-4bf6-a0ba-3d765d72fa81",
   "metadata": {
    "execution": {
     "iopub.execute_input": "2024-01-04T02:30:57.120969Z",
     "iopub.status.busy": "2024-01-04T02:30:57.120581Z",
     "iopub.status.idle": "2024-01-04T02:30:57.124862Z",
     "shell.execute_reply": "2024-01-04T02:30:57.124396Z",
     "shell.execute_reply.started": "2024-01-04T02:30:57.120936Z"
    }
   },
   "outputs": [],
   "source": [
    "TRAINED_STUDIES = open('/home/ub-sonvo-25d094476064960/celltype_prediction/studies_idx_HVG.txt').read().splitlines()"
   ]
  },
  {
   "cell_type": "code",
   "execution_count": 3,
   "id": "f6746608-1a80-45d4-b61b-240fa19056fe",
   "metadata": {
    "execution": {
     "iopub.execute_input": "2024-01-04T02:30:57.854635Z",
     "iopub.status.busy": "2024-01-04T02:30:57.854357Z",
     "iopub.status.idle": "2024-01-04T02:30:57.866275Z",
     "shell.execute_reply": "2024-01-04T02:30:57.865860Z",
     "shell.execute_reply.started": "2024-01-04T02:30:57.854612Z"
    }
   },
   "outputs": [
    {
     "data": {
      "text/plain": [
       "226"
      ]
     },
     "execution_count": 3,
     "metadata": {},
     "output_type": "execute_result"
    }
   ],
   "source": [
    "ROOT_DIR = '/home/ub-sonvo-25d094476064960/celltype_prediction/camel'\n",
    "TERM_MAPPING = read_compressed_json('/home/ub-sonvo-25d094476064960/term_mapping.json.gz')\n",
    "\n",
    "FIBROBLAST_IDX = TERM_MAPPING['name2idx']['fibroblast']\n",
    "FIBROBLAST_IDX\n",
    "\n",
    "SUBCELLTYPE_IDX = TERM_MAPPING['name2idx']['cell type - subgroup']\n",
    "SUBCELLTYPE_IDX"
   ]
  },
  {
   "cell_type": "code",
   "execution_count": 4,
   "id": "02a7dd9e-238e-433d-9fb5-8d4700c2cbcb",
   "metadata": {
    "execution": {
     "iopub.execute_input": "2024-01-04T02:30:59.179120Z",
     "iopub.status.busy": "2024-01-04T02:30:59.178698Z",
     "iopub.status.idle": "2024-01-04T02:30:59.184685Z",
     "shell.execute_reply": "2024-01-04T02:30:59.183964Z",
     "shell.execute_reply.started": "2024-01-04T02:30:59.179084Z"
    }
   },
   "outputs": [
    {
     "data": {
      "text/plain": [
       "278"
      ]
     },
     "execution_count": 4,
     "metadata": {},
     "output_type": "execute_result"
    }
   ],
   "source": [
    "CONNECTIVE_TISSUE_CELL_IDX = TERM_MAPPING['name2idx']['connective tissue cell']\n",
    "CONNECTIVE_TISSUE_CELL_IDX"
   ]
  },
  {
   "cell_type": "code",
   "execution_count": 5,
   "id": "8e0ab5d2-dfc8-4daa-bba0-155cfb8ad42b",
   "metadata": {
    "execution": {
     "iopub.execute_input": "2024-01-04T02:30:59.727464Z",
     "iopub.status.busy": "2024-01-04T02:30:59.727045Z",
     "iopub.status.idle": "2024-01-04T02:30:59.732270Z",
     "shell.execute_reply": "2024-01-04T02:30:59.731237Z",
     "shell.execute_reply.started": "2024-01-04T02:30:59.727427Z"
    }
   },
   "outputs": [],
   "source": [
    "SUB_FIBROBLAST_2_FIBROBLAST = {\n",
    "    446: 387,\n",
    "    709: 387,\n",
    "    621: 387,\n",
    "    794: 387,\n",
    "    1076: 387,\n",
    "    387: 387,\n",
    "}"
   ]
  },
  {
   "cell_type": "code",
   "execution_count": 6,
   "id": "b4ac5756-bb4c-4a09-9473-874a5fbc1480",
   "metadata": {
    "execution": {
     "iopub.execute_input": "2024-01-04T02:31:14.629681Z",
     "iopub.status.busy": "2024-01-04T02:31:14.629398Z",
     "iopub.status.idle": "2024-01-04T02:31:14.633784Z",
     "shell.execute_reply": "2024-01-04T02:31:14.633316Z",
     "shell.execute_reply.started": "2024-01-04T02:31:14.629656Z"
    }
   },
   "outputs": [],
   "source": [
    "def get_metadata_fields(study_idx):\n",
    "    metalist = read_compressed_json(\n",
    "        os.path.join(ROOT_DIR, str(study_idx), 'standardized_metalist.json.gz')\n",
    "    )\n",
    "    return metalist['fields']\n",
    "\n",
    "def get_metadata_arr(study_idx, meta_field):\n",
    "    meta_idx = TERM_MAPPING['name2idx'][meta_field]\n",
    "    all_fields = get_metadata_fields(study_idx)\n",
    "\n",
    "    selected_idx = all_fields.index(meta_idx)\n",
    "    with h5py.File(os.path.join(ROOT_DIR, str(study_idx), 'standardized_metadata.hdf5.new')) as f:\n",
    "        meta_arr = f[str(selected_idx)][()]\n",
    "\n",
    "    return meta_arr"
   ]
  },
  {
   "cell_type": "code",
   "execution_count": 7,
   "id": "2443edec-c741-47d9-82f8-e00c569e7d22",
   "metadata": {
    "execution": {
     "iopub.execute_input": "2024-01-04T02:31:17.342070Z",
     "iopub.status.busy": "2024-01-04T02:31:17.341485Z",
     "iopub.status.idle": "2024-01-04T02:31:17.345320Z",
     "shell.execute_reply": "2024-01-04T02:31:17.344828Z",
     "shell.execute_reply.started": "2024-01-04T02:31:17.342047Z"
    }
   },
   "outputs": [],
   "source": [
    "def get_celltype_arr(study_idx):\n",
    "    major_celltype_arr = get_metadata_arr(study_idx, 'cell type')\n",
    "    sub_celltype_arr = get_metadata_arr(study_idx, 'cell type - subgroup')\n",
    "    bool_idx = np.logical_and(\n",
    "        major_celltype_arr == CONNECTIVE_TISSUE_CELL_IDX, \n",
    "        np.isin(sub_celltype_arr, np.array(list(SUB_FIBROBLAST_2_FIBROBLAST.keys())))\n",
    "    )\n",
    "    major_celltype_arr[\n",
    "        bool_idx\n",
    "    ] = sub_celltype_arr[\n",
    "        bool_idx\n",
    "    ]\n",
    "\n",
    "    for child in SUB_FIBROBLAST_2_FIBROBLAST:\n",
    "        major_celltype_arr[major_celltype_arr == child] = SUB_FIBROBLAST_2_FIBROBLAST[child]\n",
    "\n",
    "    return major_celltype_arr"
   ]
  },
  {
   "cell_type": "code",
   "execution_count": 14,
   "id": "e5779211-abbe-486a-8828-5fb199a9b01a",
   "metadata": {
    "execution": {
     "iopub.execute_input": "2024-01-03T03:08:01.988803Z",
     "iopub.status.busy": "2024-01-03T03:08:01.988314Z",
     "iopub.status.idle": "2024-01-03T03:08:02.907309Z",
     "shell.execute_reply": "2024-01-03T03:08:02.906608Z",
     "shell.execute_reply.started": "2024-01-03T03:08:01.988778Z"
    }
   },
   "outputs": [],
   "source": [
    "res = []\n",
    "for i in TRAINED_STUDIES:\n",
    "    res.append(get_celltype_arr(i))"
   ]
  },
  {
   "cell_type": "code",
   "execution_count": 16,
   "id": "b4c25a39-cbae-4456-bf24-9409b48ea894",
   "metadata": {
    "execution": {
     "iopub.execute_input": "2024-01-03T03:08:14.062370Z",
     "iopub.status.busy": "2024-01-03T03:08:14.061704Z",
     "iopub.status.idle": "2024-01-03T03:08:14.069547Z",
     "shell.execute_reply": "2024-01-03T03:08:14.068956Z",
     "shell.execute_reply.started": "2024-01-03T03:08:14.062331Z"
    }
   },
   "outputs": [],
   "source": [
    "res = np.concatenate(res)"
   ]
  },
  {
   "cell_type": "code",
   "execution_count": 17,
   "id": "e3857015-8c66-46a8-8000-57e13148d89a",
   "metadata": {
    "execution": {
     "iopub.execute_input": "2024-01-03T03:08:16.294128Z",
     "iopub.status.busy": "2024-01-03T03:08:16.293664Z",
     "iopub.status.idle": "2024-01-03T03:08:16.297967Z",
     "shell.execute_reply": "2024-01-03T03:08:16.297420Z",
     "shell.execute_reply.started": "2024-01-03T03:08:16.294105Z"
    }
   },
   "outputs": [
    {
     "data": {
      "text/plain": [
       "(5033871,)"
      ]
     },
     "execution_count": 17,
     "metadata": {},
     "output_type": "execute_result"
    }
   ],
   "source": [
    "res.shape"
   ]
  },
  {
   "cell_type": "code",
   "execution_count": 18,
   "id": "1b7cf275-4940-4f80-bdb1-69c00c5123bb",
   "metadata": {
    "execution": {
     "iopub.execute_input": "2024-01-03T03:08:20.591306Z",
     "iopub.status.busy": "2024-01-03T03:08:20.590883Z",
     "iopub.status.idle": "2024-01-03T03:08:20.594615Z",
     "shell.execute_reply": "2024-01-03T03:08:20.594187Z",
     "shell.execute_reply.started": "2024-01-03T03:08:20.591286Z"
    }
   },
   "outputs": [
    {
     "data": {
      "text/plain": [
       "array([108, 108, 108, ..., 826, 826, 826], dtype=uint16)"
      ]
     },
     "execution_count": 18,
     "metadata": {},
     "output_type": "execute_result"
    }
   ],
   "source": [
    "res"
   ]
  },
  {
   "cell_type": "code",
   "execution_count": 19,
   "id": "fcfc0914-d402-42dc-8d5f-2a80b572a45f",
   "metadata": {
    "execution": {
     "iopub.execute_input": "2024-01-03T03:09:03.546527Z",
     "iopub.status.busy": "2024-01-03T03:09:03.545815Z",
     "iopub.status.idle": "2024-01-03T03:09:03.554277Z",
     "shell.execute_reply": "2024-01-03T03:09:03.553714Z",
     "shell.execute_reply.started": "2024-01-03T03:09:03.546474Z"
    }
   },
   "outputs": [],
   "source": [
    "np.save('trained_data/trained_meta_celltypes.npy', res)"
   ]
  },
  {
   "cell_type": "code",
   "execution_count": null,
   "id": "9bc22800-9710-44e6-a133-e6b858408d4f",
   "metadata": {},
   "outputs": [],
   "source": []
  }
 ],
 "metadata": {
  "kernelspec": {
   "display_name": "cell type prediction",
   "language": "python",
   "name": "cell-type-prediction"
  },
  "language_info": {
   "codemirror_mode": {
    "name": "ipython",
    "version": 3
   },
   "file_extension": ".py",
   "mimetype": "text/x-python",
   "name": "python",
   "nbconvert_exporter": "python",
   "pygments_lexer": "ipython3",
   "version": "3.10.9"
  }
 },
 "nbformat": 4,
 "nbformat_minor": 5
}
