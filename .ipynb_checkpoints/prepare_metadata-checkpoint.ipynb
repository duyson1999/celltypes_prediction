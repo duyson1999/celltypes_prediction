{
 "cells": [
  {
   "cell_type": "code",
   "execution_count": 7,
   "id": "008e0ee9-d7c0-42df-80a4-f63e94a0e305",
   "metadata": {
    "execution": {
     "iopub.execute_input": "2024-01-08T09:32:44.033838Z",
     "iopub.status.busy": "2024-01-08T09:32:44.033284Z",
     "iopub.status.idle": "2024-01-08T09:32:44.039461Z",
     "shell.execute_reply": "2024-01-08T09:32:44.038815Z",
     "shell.execute_reply.started": "2024-01-08T09:32:44.033801Z"
    }
   },
   "outputs": [],
   "source": [
    "import h5py\n",
    "import os\n",
    "import zlib\n",
    "import msgpack\n",
    "import numpy as np\n",
    "\n",
    "def read_compressed_json(path):\n",
    "\tif not os.path.isfile(path):\n",
    "\t\treturn {}\n",
    "\twith open(path, 'rb') as f:\n",
    "\t\to = f.read()\n",
    "\t\to = zlib.decompress(o)\n",
    "\t\to = msgpack.unpackb(o, strict_map_key=False)\n",
    "\t\treturn o"
   ]
  },
  {
   "cell_type": "code",
   "execution_count": 2,
   "id": "d0106ec9-a0c7-4bf6-a0ba-3d765d72fa81",
   "metadata": {
    "execution": {
     "iopub.execute_input": "2024-01-08T08:22:01.130492Z",
     "iopub.status.busy": "2024-01-08T08:22:01.130058Z",
     "iopub.status.idle": "2024-01-08T08:22:02.080456Z",
     "shell.execute_reply": "2024-01-08T08:22:02.079788Z",
     "shell.execute_reply.started": "2024-01-08T08:22:01.130474Z"
    }
   },
   "outputs": [],
   "source": [
    "TRAINED_STUDIES = open('/home/ub-sonvo-25d094476064960/celltype_prediction/studies_idx_HVG.txt').read().splitlines()"
   ]
  },
  {
   "cell_type": "code",
   "execution_count": 8,
   "id": "f6746608-1a80-45d4-b61b-240fa19056fe",
   "metadata": {
    "execution": {
     "iopub.execute_input": "2024-01-08T09:32:45.134346Z",
     "iopub.status.busy": "2024-01-08T09:32:45.133936Z",
     "iopub.status.idle": "2024-01-08T09:32:45.152001Z",
     "shell.execute_reply": "2024-01-08T09:32:45.151495Z",
     "shell.execute_reply.started": "2024-01-08T09:32:45.134323Z"
    }
   },
   "outputs": [
    {
     "name": "stdout",
     "output_type": "stream",
     "text": [
      "387\n",
      "226\n",
      "278\n"
     ]
    }
   ],
   "source": [
    "ROOT_DIR = '/home/ub-sonvo-25d094476064960/celltype_prediction/camel_2'\n",
    "TERM_MAPPING = read_compressed_json('/home/ub-sonvo-25d094476064960/term_mapping.json.gz')\n",
    "\n",
    "FIBROBLAST_IDX = TERM_MAPPING['name2idx']['fibroblast']\n",
    "print(FIBROBLAST_IDX)\n",
    "\n",
    "SUBCELLTYPE_IDX = TERM_MAPPING['name2idx']['cell type - subgroup']\n",
    "print(SUBCELLTYPE_IDX)\n",
    "\n",
    "CONNECTIVE_TISSUE_CELL_IDX = TERM_MAPPING['name2idx']['connective tissue cell']\n",
    "print(CONNECTIVE_TISSUE_CELL_IDX)"
   ]
  },
  {
   "cell_type": "code",
   "execution_count": 9,
   "id": "8e0ab5d2-dfc8-4daa-bba0-155cfb8ad42b",
   "metadata": {
    "execution": {
     "iopub.execute_input": "2024-01-08T09:32:47.486596Z",
     "iopub.status.busy": "2024-01-08T09:32:47.486200Z",
     "iopub.status.idle": "2024-01-08T09:32:47.491253Z",
     "shell.execute_reply": "2024-01-08T09:32:47.490434Z",
     "shell.execute_reply.started": "2024-01-08T09:32:47.486561Z"
    }
   },
   "outputs": [],
   "source": [
    "SUB_FIBROBLAST_2_FIBROBLAST = {\n",
    "    446: 387,\n",
    "    709: 387,\n",
    "    621: 387,\n",
    "    794: 387,\n",
    "    1076: 387,\n",
    "    387: 387,\n",
    "}"
   ]
  },
  {
   "cell_type": "code",
   "execution_count": 10,
   "id": "b4ac5756-bb4c-4a09-9473-874a5fbc1480",
   "metadata": {
    "execution": {
     "iopub.execute_input": "2024-01-08T09:32:48.823215Z",
     "iopub.status.busy": "2024-01-08T09:32:48.822929Z",
     "iopub.status.idle": "2024-01-08T09:32:48.827709Z",
     "shell.execute_reply": "2024-01-08T09:32:48.827136Z",
     "shell.execute_reply.started": "2024-01-08T09:32:48.823191Z"
    }
   },
   "outputs": [],
   "source": [
    "def get_metadata_fields(study_idx):\n",
    "    metalist = read_compressed_json(\n",
    "        os.path.join(ROOT_DIR, str(study_idx), 'standardized_metalist.json.gz')\n",
    "    )\n",
    "    return metalist['fields']\n",
    "\n",
    "def get_metadata_arr(study_idx, meta_field):\n",
    "    meta_idx = TERM_MAPPING['name2idx'][meta_field]\n",
    "    all_fields = get_metadata_fields(study_idx)\n",
    "\n",
    "    selected_idx = all_fields.index(meta_idx)\n",
    "    with h5py.File(os.path.join(ROOT_DIR, str(study_idx), 'standardized_metadata.hdf5.new')) as f:\n",
    "        meta_arr = f[str(selected_idx)][()]\n",
    "\n",
    "    return meta_arr"
   ]
  },
  {
   "cell_type": "code",
   "execution_count": 11,
   "id": "2443edec-c741-47d9-82f8-e00c569e7d22",
   "metadata": {
    "execution": {
     "iopub.execute_input": "2024-01-08T09:32:58.310326Z",
     "iopub.status.busy": "2024-01-08T09:32:58.309916Z",
     "iopub.status.idle": "2024-01-08T09:32:58.316368Z",
     "shell.execute_reply": "2024-01-08T09:32:58.315562Z",
     "shell.execute_reply.started": "2024-01-08T09:32:58.310290Z"
    }
   },
   "outputs": [],
   "source": [
    "def get_celltype_arr(study_idx):\n",
    "    major_celltype_arr = get_metadata_arr(study_idx, 'cell type')\n",
    "    sub_celltype_arr = get_metadata_arr(study_idx, 'cell type - subgroup')\n",
    "    bool_idx = np.logical_and(\n",
    "        major_celltype_arr == CONNECTIVE_TISSUE_CELL_IDX, \n",
    "        np.isin(sub_celltype_arr, np.array(list(SUB_FIBROBLAST_2_FIBROBLAST.keys())))\n",
    "    )\n",
    "    major_celltype_arr[\n",
    "        bool_idx\n",
    "    ] = sub_celltype_arr[\n",
    "        bool_idx\n",
    "    ]\n",
    "\n",
    "    for child in SUB_FIBROBLAST_2_FIBROBLAST:\n",
    "        major_celltype_arr[major_celltype_arr == child] = SUB_FIBROBLAST_2_FIBROBLAST[child]\n",
    "\n",
    "    return major_celltype_arr"
   ]
  },
  {
   "cell_type": "code",
   "execution_count": 12,
   "id": "e5779211-abbe-486a-8828-5fb199a9b01a",
   "metadata": {
    "execution": {
     "iopub.execute_input": "2024-01-08T09:33:53.903307Z",
     "iopub.status.busy": "2024-01-08T09:33:53.903033Z",
     "iopub.status.idle": "2024-01-08T09:33:54.020124Z",
     "shell.execute_reply": "2024-01-08T09:33:54.019515Z",
     "shell.execute_reply.started": "2024-01-08T09:33:53.903284Z"
    }
   },
   "outputs": [
    {
     "ename": "FileNotFoundError",
     "evalue": "[Errno 2] No such file or directory: '1640/new_celltype_arr.npy'",
     "output_type": "error",
     "traceback": [
      "\u001b[0;31m---------------------------------------------------------------------------\u001b[0m",
      "\u001b[0;31mFileNotFoundError\u001b[0m                         Traceback (most recent call last)",
      "Cell \u001b[0;32mIn[12], line 3\u001b[0m\n\u001b[1;32m      1\u001b[0m res \u001b[38;5;241m=\u001b[39m []\n\u001b[1;32m      2\u001b[0m \u001b[38;5;28;01mfor\u001b[39;00m i \u001b[38;5;129;01min\u001b[39;00m \u001b[38;5;28msorted\u001b[39m(os\u001b[38;5;241m.\u001b[39mlistdir(ROOT_DIR)):\n\u001b[0;32m----> 3\u001b[0m     tmp \u001b[38;5;241m=\u001b[39m \u001b[43mnp\u001b[49m\u001b[38;5;241;43m.\u001b[39;49m\u001b[43mload\u001b[49m\u001b[43m(\u001b[49m\u001b[38;5;124;43m'\u001b[39;49m\u001b[38;5;132;43;01m{}\u001b[39;49;00m\u001b[38;5;124;43m/\u001b[39;49m\u001b[38;5;132;43;01m{}\u001b[39;49;00m\u001b[38;5;124;43m'\u001b[39;49m\u001b[38;5;241;43m.\u001b[39;49m\u001b[43mformat\u001b[49m\u001b[43m(\u001b[49m\u001b[43mi\u001b[49m\u001b[43m,\u001b[49m\u001b[43m \u001b[49m\u001b[38;5;124;43m'\u001b[39;49m\u001b[38;5;124;43mnew_celltype_arr.npy\u001b[39;49m\u001b[38;5;124;43m'\u001b[39;49m\u001b[43m)\u001b[49m\u001b[43m)\u001b[49m\n\u001b[1;32m      4\u001b[0m     res\u001b[38;5;241m.\u001b[39mappend(tmp)\n",
      "File \u001b[0;32m~/.conda/envs/cell-type-prediction/lib/python3.10/site-packages/numpy/lib/npyio.py:427\u001b[0m, in \u001b[0;36mload\u001b[0;34m(file, mmap_mode, allow_pickle, fix_imports, encoding, max_header_size)\u001b[0m\n\u001b[1;32m    425\u001b[0m     own_fid \u001b[38;5;241m=\u001b[39m \u001b[38;5;28;01mFalse\u001b[39;00m\n\u001b[1;32m    426\u001b[0m \u001b[38;5;28;01melse\u001b[39;00m:\n\u001b[0;32m--> 427\u001b[0m     fid \u001b[38;5;241m=\u001b[39m stack\u001b[38;5;241m.\u001b[39menter_context(\u001b[38;5;28;43mopen\u001b[39;49m\u001b[43m(\u001b[49m\u001b[43mos_fspath\u001b[49m\u001b[43m(\u001b[49m\u001b[43mfile\u001b[49m\u001b[43m)\u001b[49m\u001b[43m,\u001b[49m\u001b[43m \u001b[49m\u001b[38;5;124;43m\"\u001b[39;49m\u001b[38;5;124;43mrb\u001b[39;49m\u001b[38;5;124;43m\"\u001b[39;49m\u001b[43m)\u001b[49m)\n\u001b[1;32m    428\u001b[0m     own_fid \u001b[38;5;241m=\u001b[39m \u001b[38;5;28;01mTrue\u001b[39;00m\n\u001b[1;32m    430\u001b[0m \u001b[38;5;66;03m# Code to distinguish from NumPy binary files and pickles.\u001b[39;00m\n",
      "\u001b[0;31mFileNotFoundError\u001b[0m: [Errno 2] No such file or directory: '1640/new_celltype_arr.npy'"
     ]
    }
   ],
   "source": [
    "res = []\n",
    "for i in sorted(os.listdir(ROOT_DIR)):\n",
    "    tmp = np.load('{}/{}/{}'.format(ROOT_DIR, i, 'new_celltype_arr.npy'))\n",
    "    res.append(tmp)"
   ]
  },
  {
   "cell_type": "code",
   "execution_count": 21,
   "id": "b4c25a39-cbae-4456-bf24-9409b48ea894",
   "metadata": {
    "execution": {
     "iopub.execute_input": "2024-01-04T02:49:02.229125Z",
     "iopub.status.busy": "2024-01-04T02:49:02.228625Z",
     "iopub.status.idle": "2024-01-04T02:49:02.236568Z",
     "shell.execute_reply": "2024-01-04T02:49:02.236060Z",
     "shell.execute_reply.started": "2024-01-04T02:49:02.229095Z"
    }
   },
   "outputs": [],
   "source": [
    "res = np.concatenate(res)"
   ]
  },
  {
   "cell_type": "code",
   "execution_count": 22,
   "id": "e3857015-8c66-46a8-8000-57e13148d89a",
   "metadata": {
    "execution": {
     "iopub.execute_input": "2024-01-04T02:49:02.459579Z",
     "iopub.status.busy": "2024-01-04T02:49:02.459223Z",
     "iopub.status.idle": "2024-01-04T02:49:02.463916Z",
     "shell.execute_reply": "2024-01-04T02:49:02.463238Z",
     "shell.execute_reply.started": "2024-01-04T02:49:02.459554Z"
    }
   },
   "outputs": [
    {
     "data": {
      "text/plain": [
       "(5033871,)"
      ]
     },
     "execution_count": 22,
     "metadata": {},
     "output_type": "execute_result"
    }
   ],
   "source": [
    "res.shape"
   ]
  },
  {
   "cell_type": "code",
   "execution_count": 23,
   "id": "1b7cf275-4940-4f80-bdb1-69c00c5123bb",
   "metadata": {
    "execution": {
     "iopub.execute_input": "2024-01-04T02:49:02.632320Z",
     "iopub.status.busy": "2024-01-04T02:49:02.631808Z",
     "iopub.status.idle": "2024-01-04T02:49:02.637001Z",
     "shell.execute_reply": "2024-01-04T02:49:02.636386Z",
     "shell.execute_reply.started": "2024-01-04T02:49:02.632296Z"
    }
   },
   "outputs": [
    {
     "data": {
      "text/plain": [
       "array([108, 108, 108, ..., 826, 826, 826], dtype=uint16)"
      ]
     },
     "execution_count": 23,
     "metadata": {},
     "output_type": "execute_result"
    }
   ],
   "source": [
    "res"
   ]
  },
  {
   "cell_type": "code",
   "execution_count": 24,
   "id": "7bf98f7e-c1b6-47ac-932c-3b19654b35a6",
   "metadata": {
    "execution": {
     "iopub.execute_input": "2024-01-04T02:49:10.131147Z",
     "iopub.status.busy": "2024-01-04T02:49:10.130873Z",
     "iopub.status.idle": "2024-01-04T02:49:10.137987Z",
     "shell.execute_reply": "2024-01-04T02:49:10.137310Z",
     "shell.execute_reply.started": "2024-01-04T02:49:10.131124Z"
    }
   },
   "outputs": [
    {
     "data": {
      "text/plain": [
       "525640"
      ]
     },
     "execution_count": 24,
     "metadata": {},
     "output_type": "execute_result"
    }
   ],
   "source": [
    "np.sum(res == 387)"
   ]
  },
  {
   "cell_type": "code",
   "execution_count": 25,
   "id": "fcfc0914-d402-42dc-8d5f-2a80b572a45f",
   "metadata": {
    "execution": {
     "iopub.execute_input": "2024-01-04T02:49:31.718798Z",
     "iopub.status.busy": "2024-01-04T02:49:31.718509Z",
     "iopub.status.idle": "2024-01-04T02:49:31.749977Z",
     "shell.execute_reply": "2024-01-04T02:49:31.748848Z",
     "shell.execute_reply.started": "2024-01-04T02:49:31.718775Z"
    }
   },
   "outputs": [],
   "source": [
    "np.save('trained_data/trained_meta_celltypes_HVG.npy', res)"
   ]
  },
  {
   "cell_type": "code",
   "execution_count": 12,
   "id": "9bc22800-9710-44e6-a133-e6b858408d4f",
   "metadata": {
    "execution": {
     "iopub.execute_input": "2024-01-04T02:34:48.915194Z",
     "iopub.status.busy": "2024-01-04T02:34:48.914628Z",
     "iopub.status.idle": "2024-01-04T02:34:48.922604Z",
     "shell.execute_reply": "2024-01-04T02:34:48.921986Z",
     "shell.execute_reply.started": "2024-01-04T02:34:48.915158Z"
    }
   },
   "outputs": [],
   "source": [
    "test = np.load('trained_data/trained_meta_celltypes.npy')"
   ]
  },
  {
   "cell_type": "code",
   "execution_count": 14,
   "id": "acd1dc75-7614-49ea-812f-c4fdeeab379f",
   "metadata": {
    "execution": {
     "iopub.execute_input": "2024-01-04T02:35:05.153290Z",
     "iopub.status.busy": "2024-01-04T02:35:05.153019Z",
     "iopub.status.idle": "2024-01-04T02:35:05.169716Z",
     "shell.execute_reply": "2024-01-04T02:35:05.168896Z",
     "shell.execute_reply.started": "2024-01-04T02:35:05.153268Z"
    }
   },
   "outputs": [
    {
     "data": {
      "text/plain": [
       "(4357865,)"
      ]
     },
     "execution_count": 14,
     "metadata": {},
     "output_type": "execute_result"
    }
   ],
   "source": [
    "np.nonzero(test == res)[0].shape"
   ]
  },
  {
   "cell_type": "code",
   "execution_count": 6,
   "id": "17fb4137-5431-419d-8ff1-e92bb802d9ba",
   "metadata": {
    "execution": {
     "iopub.execute_input": "2024-01-08T08:23:32.757798Z",
     "iopub.status.busy": "2024-01-08T08:23:32.756873Z",
     "iopub.status.idle": "2024-01-08T08:23:34.114578Z",
     "shell.execute_reply": "2024-01-08T08:23:34.113633Z",
     "shell.execute_reply.started": "2024-01-08T08:23:32.757760Z"
    },
    "scrolled": true
   },
   "outputs": [
    {
     "name": "stdout",
     "output_type": "stream",
     "text": [
      "2706 : ['ENSG00000288616' 'ENSG00000288631' 'ENSG00000288642' 'ENSG00000288649'\n",
      " 'ENSG00000288675' 'ENSG00000288701' 'ENSG00000288702' 'ENSG00000288705'\n",
      " 'ENSG00000288709' 'ENSG00000288722']\n",
      "2846 : ['RP11-15K19.2' 'RP11-722G7.1' 'TIMM10B-1' 'CCDC7-1' 'ABC7-42404400C24.1'\n",
      " 'KIF1BP' 'OVOS2' 'TMEM256-PLSCR3-1' 'TBC1D26-1' 'RP5-1187M17.10']\n",
      "1958 : ['AC109135.1' 'AL592170.1' 'AL603926.1' 'AL162851.1' 'AL590523.1'\n",
      " 'CT476828.1' 'AC145205.1' 'CU459201.1' 'AC002321.2' 'AC002321.1']\n",
      "2694 : ['ZZZ3' 'RP11-442N24--B.1' 'AC013461.1' 'KIF1BP' 'OVOS2' 'CH17-212P11.5'\n",
      " 'RP5-1187M17.10' 'TRAPPC2P1' 'LLNLR-245B6.1' 'LL22NC03-N95F10.1']\n",
      "2344 : ['ENSG00000261841' 'ENSG00000212857' 'ENSG00000268953' 'ENSG00000197414'\n",
      " 'ENSG00000241481' 'ENSG00000234972' 'ENSG00000267161' 'ENSG00000215616'\n",
      " 'ENSG00000206114' 'ENSG00000267893']\n",
      "2411 : ['Z97987.1' 'AL133417.1' 'AC091534.1' 'AL136088.1' 'AP003438.1'\n",
      " 'AL663023.1' 'AL096772.1' 'AC114400.1' 'AC002384.1' 'AL136454.1']\n",
      "3071 : ['RAMMET' 'LINC02001' 'FLJ45513' 'AC016205.1' 'AL353194.1' 'AL035563.1'\n",
      " 'AL034549.1' 'LINC01660' 'AL035681.1' 'AL021453.1']\n",
      "2647 : ['SELRC1' 'SETD5-AS1' 'SF3B14' 'SOGA2' 'TMEM66' 'TRAPPC2P1' 'WDR52'\n",
      " 'ZFYVE20' 'ZNF259' 'hsa-mir-6080']\n",
      "3156 : ['RP6-33F8.1' 'RTDR1' 'SNX18P15' 'SPATA31B1' 'TTC40' 'WDR16' 'WDR52-AS1'\n",
      " 'WI2-81516E3.1' 'Z97351.1' 'hsa-mir-490']\n",
      "3194 : ['ZXDA' 'ZXDB' 'ZXDC' 'ZYG11A' 'ZYG11AP1' 'ZYG11B' 'ZYX' 'ZYXP1' 'ZZEF1'\n",
      " 'ZZZ3']\n",
      "3138 : ['ENSG00000284729' 'ENSG00000284737' 'ENSG00000284755' 'ENSG00000284826'\n",
      " 'ENSG00000284828' 'ENSG00000284849' 'ENSG00000285138' 'ENSG00000285258'\n",
      " 'ENSG00000285385' 'ENSG00000285396']\n",
      "2615 : ['ERCC-00096' 'C22orf26' 'AL137013.1' 'ATP1A1OS' 'AL359752.1' 'RMRPP3'\n",
      " 'CTC-365E16.1' 'LPPR1' 'FLI1-AS1' 'RP13-137A17.4']\n",
      "2819 : ['RP11-685N3.1' 'RP11-114I8.4' 'RP11-385J1.2' 'KCNE1L' 'MRC1L1' 'FAM21D'\n",
      " 'RP11-112H10.4' 'C19orf77' 'hsa-mir-150' 'RP4-633O19--A.1']\n",
      "3132 : ['ZZEF1' 'ZZZ3' 'ENSG00000284681' 'ENSG00000285258' 'ENSG00000283374'\n",
      " 'ENSG00000285385' 'ENSG00000284826' 'ENSG00000283073' 'ENSG00000283932'\n",
      " 'ENSG00000284729']\n",
      "2762 : ['ZXDC' 'ZYG11A' 'ZYG11AP1' 'ZYG11B' 'ZYX' 'ZYXP1' 'ZZEF1' 'ZZZ3'\n",
      " 'ENSG00000284755' 'ENSG00000285258']\n",
      "2379 : ['RP11-199H2.2' 'LLNLR-245B6.1' 'AC010412.1' 'CH17-174L20.1'\n",
      " 'CTA-286B10.7' 'CRAT40' 'RP3-335E1.1' 'RP11-369J9.1' 'AC013461.1'\n",
      " 'RP11-310K10.1']\n",
      "1962 : ['UBE2E4P' 'UTAT33' 'WHAMMP1' 'WTH3DI' 'XGY2' 'XLOC_007697' 'XLOC_008559'\n",
      " 'XLOC_009911' 'ZAK' 'ZNF664-FAM101A']\n",
      "2311 : ['SMIM37' 'SMUG1-AS1' 'SOD2_dupl' 'TBCE_dupl' 'TMSB15B_dupl' 'TUBB8P12'\n",
      " 'TXNRD3NB_dupl' 'Z84484.1' 'Z97987.1' 'ZCCHC23']\n",
      "3044 : ['ENSG00000240779' 'ENSG00000244656' 'ENSG00000263760' 'ENSG00000266316'\n",
      " 'ENSG00000264728' 'ENSG00000238667' 'ENSG00000238477' 'ENSG00000271726'\n",
      " 'ENSG00000265557' 'ENSG00000238643']\n",
      "2893 : ['ENSG00000288612' 'ENSG00000288615' 'ENSG00000288627' 'ENSG00000288632'\n",
      " 'ENSG00000288635' 'ENSG00000288638' 'ENSG00000288639' 'ENSG00000288642'\n",
      " 'ENSG00000288643' 'ENSG00000288645']\n",
      "2804 : ['TRAPPC2P1' 'TTC18' 'TTLL13' 'XAGE2B' 'ZAK' 'ZFYVE20' 'ZNF271' 'ZNF727P'\n",
      " 'hsa-mir-1587' 'hsa-mir-8485']\n",
      "2518 : ['ERCC-00164' 'ENSG00000284849' 'ERCC-00046' 'ENSG00000284486'\n",
      " 'ERCC-00144' 'ERCC-00039' 'ERCC-00076' 'ENSG00000207771+ENSG00000283237'\n",
      " 'ENSG00000283406' 'ERCC-00004']\n",
      "2713 : ['COSMOC' 'CNN3-DT' 'CENPN-AS1' 'CARMAL' 'C2orf49-DT' 'BTF3-DT' 'BRME1'\n",
      " 'BMS1P23' 'ARHGEF2-AS2' 'APP-DT']\n",
      "1782 : ['ENSG00000218497' 'ENSG00000229631' 'ENSG00000220023' 'ENSG00000212884'\n",
      " 'ENSG00000215615' 'ENSG00000215764' 'ENSG00000268276' 'ENSG00000215700'\n",
      " 'ENSG00000215699' 'ENSG00000251180']\n",
      "2572 : ['IMPDH1P7' 'KLHDC7B-DT' 'RPL23P5' 'POLR2DP2' 'RPS27P10' 'FAM86C1P'\n",
      " 'RUSF1' 'RPS21P2' 'MYG1' 'HRAT92']\n",
      "3190 : ['AC079062.1' 'AL353194.1' 'AL121721.1' 'AL117381.1' 'AL121908.1'\n",
      " 'AP000527.1' 'GGT1-1' 'AL035681.1' 'ARMCX5-GPRASP2-1' 'TMSB15B-1']\n",
      "3004 : ['AL121722.1' 'AL034549.1' 'AC012617.1' 'AC008392.1' 'LINC01660'\n",
      " 'LINC01662' 'LINC01663' 'LINC01658' 'AL021453.1' 'AL121580.1']\n",
      "1752 : ['ENSG00000282940' 'ENSG00000282682' 'ENSG00000282883' 'ENSG00000282889'\n",
      " 'ENSG00000283073' 'ENSG00000282031' 'ENSG00000282896' 'ENSG00000282359'\n",
      " 'ENSG00000283027' 'ENSG00000283088']\n",
      "1699 : ['CH17-262H11.1' 'CH17-224D4.1' 'CH17-212P11.4' 'CH17-212P11.5'\n",
      " 'CH17-224D4.2' 'PRCAT47' 'LL22NC03-N95F10.1' 'RP11-111H13.1' 'THRA1/BTR'\n",
      " 'RP11-15K19.2']\n",
      "2934 : ['RP11-569D9.5' 'CH17-296N19.1' 'RP11-465C12.1' 'RP11-298A10.1'\n",
      " 'RP11-9J18.1' 'ABC13-47656900H15.1' 'RP11-545M8.4' 'CTB-133P21.1'\n",
      " 'RP3-454G6.2' 'RP11-158M9.1']\n",
      "2234 : ['RP11-949J7.8' 'RP3-335E1.1' 'RP3-467D16.3' 'RP4-621F18.2' 'RP5-860F19.8'\n",
      " 'RPL9P9' 'SEPT14P19' 'THCAT158' 'THRA1/BTR' 'UTAT33']\n",
      "2003 : ['RP11-493K23.4' 'RP11-147N17.1' 'AL353354.2' 'RP11-196O16.1' 'LINC00035'\n",
      " 'AL353791.1' 'NAPRT1' 'C6orf100' 'RP11-1E3.1' 'LLNLR-299G3.1']\n",
      "3139 : ['C1orf65' 'FAM188B2' 'RP11-363D24.1' 'CTC-349C3.2' 'XAGE1C' 'AL121963.1'\n",
      " 'C15orf37' 'C9orf53' 'AL646016.1' 'RP11-214L19.1']\n",
      "3222 : ['C21orf90' 'AL773604.8' 'C21orf67' 'PRED57' 'AC109135.1' 'AL592170.1'\n",
      " 'ZNF84-1' 'AL590523.1' 'PNRC2-1' 'SRSF10-1']\n",
      "1749 : ['hsa-mir-3130-1' 'hsa-mir-3158-1' 'hsa-mir-3607' 'hsa-mir-4536-1'\n",
      " 'hsa-mir-4773-1' 'hsa-mir-4776-1' 'hsa-mir-548d-1' 'hsa-mir-548d-2'\n",
      " 'hsa-mir-550a-1' 'hsa-mir-550a-2']\n",
      "1884 : ['LLNLR-245B6.1' 'FAM197Y5P' 'LINC01297-1' 'LL22NC03-N95F10.1'\n",
      " 'LINC01422-1' 'CTA-286B10.7' 'CTA-286B10.8' 'AP000687.1' 'AL773572.7'\n",
      " 'KB-51A8.1']\n",
      "2260 : ['RP1-213J1P--B.1' 'RP1-213J1P--B.2' 'CTA-286B10.7' 'CTA-286B10.8'\n",
      " 'RP4-633O19--A.1' 'RP4-754E20--A.5' 'CTA-280A3--B.2' 'AP000687.1'\n",
      " 'AL773572.7' 'KB-51A8.1']\n",
      "2280 : ['WDR96' 'Z97053.1' 'ZFYVE20' 'ZNF259' 'hsa-mir-1199' 'hsa-mir-125a'\n",
      " 'hsa-mir-335' 'hsa-mir-490' 'hsa-mir-6080' 'hsa-mir-8072']\n",
      "1799 : ['CTA-211A9.5' 'AC005003.1' 'RP1-272J12.1' 'FLJ27365' 'LINC00478'\n",
      " 'C21orf49' 'AP000330.8' 'LRRC3DN' 'AL773604.8' 'TDTOMATO_EXTRA_IVS']\n",
      "2775 : ['BX088645.1' 'AP006284.1' 'AC103736.1' 'AL590079.1' 'AL035563.1'\n",
      " 'AC023886.1' 'GARS-DT' 'SEPTIN7-AS1' 'AC004889.1' 'AC021054.1']\n",
      "3009 : ['ZXDA' 'ZXDB' 'ZXDC' 'ZYG11A' 'ZYG11AP1' 'ZYG11B' 'ZYX' 'ZYXP1' 'ZZEF1'\n",
      " 'ZZZ3']\n",
      "2607 : ['ADT-HLA' 'ADT-CD11b' 'ADT-CD278' 'ADT-XCR1' 'ADT-CD137' 'ADT-CD28'\n",
      " 'ADT-CD127' 'ADT-CD45' 'ADT-CD45RO' 'ADT-CD15']\n",
      "2744 : ['AL831784.1' 'AC026398.1' 'AC020559.1' 'AP002347.1' 'AC023886.1'\n",
      " 'AL512422.1' 'AC084200.1' 'AC008109.1' 'LINC01662' 'AC022639.1']\n",
      "2915 : ['AL132821.1' 'AL121721.1' 'AL117381.1' 'AL034549.1' 'AC012617.1'\n",
      " 'AC008392.1' 'LINC01660' 'LINC01658' 'AL035681.1' 'AL021453.1']\n",
      "2827 : ['ZYG11AP1' 'ZYG11B' 'ZYX' 'ZYXP1' 'ZZEF1' 'ZZZ3' 'ENSG00000282827'\n",
      " 'ENSG00000283013' 'ENSG00000283073' 'ENSG00000281937']\n",
      "1703 : ['AC025219.1' 'HRAT92' 'AC105277.1' 'LINC02407' 'AC091808.1' 'AL590999.1'\n",
      " 'AC092920.1' 'AC098829.1' 'AC091534.1' 'AL136370.1']\n",
      "2413 : ['ENSG00000288607' 'ENSG00000288631' 'ENSG00000288704' 'ENSG00000288649'\n",
      " 'ENSG00000288719' 'ENSG00000288706' 'ENSG00000288661' 'ENSG00000288642'\n",
      " 'ENSG00000288722' 'ENSG00000288709']\n",
      "2238 : ['THRA1/BTR' 'RP11-49P4.7' 'CRAT40' 'CTA-286B10.8' 'ABC7-42404400C24.1'\n",
      " 'CH17-212P11.5' 'AC009758.1' 'RP11-443F4.1' 'RP11-27G14.4' 'AC004853.1']\n",
      "2545 : ['ENSG00000283374' 'ENSG00000285385' 'ENSG00000284849' 'ENSG00000284552'\n",
      " 'ENSG00000283585' 'ENSG00000284041' 'ENSG00000284826' 'ENSG00000285396'\n",
      " 'ENSG00000283932' 'ENSG00000284729']\n",
      "3177 : ['AL121721.1' 'AL117381.1' 'AL034549.1' 'AC012617.1' 'AC008392.1'\n",
      " 'AP000527.1' 'LINC01660' 'AL035681.1' 'AL021453.1' 'SCO2_ENSG00000284194']\n",
      "2360 : ['ENSG00000282896' 'ENSG00000282913' 'ENSG00000282940' 'ENSG00000282955'\n",
      " 'ENSG00000282960' 'ENSG00000283013' 'ENSG00000283027' 'ENSG00000283029'\n",
      " 'ENSG00000283073' 'ENSG00000283088']\n",
      "1682 : ['ENSG00000282940' 'ENSG00000282682' 'ENSG00000282883' 'ENSG00000282889'\n",
      " 'ENSG00000283073' 'ENSG00000282031' 'ENSG00000282896' 'ENSG00000282359'\n",
      " 'ENSG00000283027' 'ENSG00000283088']\n",
      "2058 : ['hsa-miR-3198-3p' 'immunoglobulin heavy chain' 'intersectin 1 long form'\n",
      " 'miR-449b-3P' 'mir-108-1' 'mir-220' 'septin 9/TNRC6C fusion' 'svRNAa'\n",
      " 'tAKR' 'unknown']\n",
      "2010 : ['RP1-273N12.4' 'HRAT92' 'ABC7-42404400C24.1' 'LL22NC03-N95F10.1'\n",
      " 'AL137860.1' 'AC004853.1' 'KB-51A8.1' 'RP11-605B16.1' 'HRAT17'\n",
      " 'RP11-459J23.1']\n",
      "2517 : ['LINC02107' 'AC093580.1' 'AC109344.1' 'ABC11-4932300O16.1' 'CTB-127M13.1'\n",
      " 'LINC01984' 'AC106789.1' 'AL117192.1' 'CH17-212P11.5' 'AP002962.1']\n",
      "3031 : ['LOC339010' 'LOC727924' 'SNORD59B' '1-DEC' 'LOC100996249' 'LOC101928154'\n",
      " 'LOC101928158' 'SPRNP1' 'LOC101927079' 'MIR6511B-1']\n",
      "3277 : ['AL365194.1' 'AL356055.1' 'AL390730.1' 'AC022445.1' 'AC008243.1'\n",
      " 'AC079858.1' 'AC027306.1' 'TUBB8P12' 'AC138655.1' 'AL121908.1']\n",
      "2870 : ['ENSG00000284849' 'ENSG00000284552' 'ENSG00000283585' 'ENSG00000284041'\n",
      " 'ENSG00000284826' 'ENSG00000283073' 'ENSG00000285396' 'ENSG00000283932'\n",
      " 'ENSG00000283088' 'ENSG00000284729']\n",
      "1640 : ['ENSG00000240688.1' 'ENSG00000265117.1' 'ENSG00000215713.3'\n",
      " 'ENSG00000268590.1' 'ENSG00000241000.2' 'ENSG00000240779.1'\n",
      " 'ENSG00000244656.1' 'ENSG00000263760.1' 'ENSG00000222670.2'\n",
      " 'ENSG00000251180.2']\n",
      "1683 : ['IGHG2_secreted' 'IGHG3_secreted' 'IGHG4_secreted' 'IGHM_membrane'\n",
      " 'IGHM_secreted' 'OX40' 'PD1' 'TARP_refseq' 'TCRgd' 'Tim3']\n",
      "2249 : ['AC109135.1' 'AL592170.1' 'AL603926.1' 'AL162851.1' 'AL590523.1'\n",
      " 'CT476828.1' 'AC145205.1' 'CU459201.1' 'AC002321.2' 'AC002321.1']\n",
      "2904 : ['ADT-CCR7' 'ADT-CD56' 'ADT-HLA-DR' 'ADT-CD14' 'ADT-CD11b' 'ADT-CD20'\n",
      " 'ADT-CD161' 'ADT-mIgG1' 'ADT-mIgG2a' 'ADT-mIgG2b']\n",
      "3250 : ['ADT-CD101_BB27' 'ADT-CD360_IL_21R' 'ADT-CD88_C5AR' 'ADT-HLA_F'\n",
      " 'ADT-NLRP2' 'ADT-PODOCALYXIN' 'ADT-CD224' 'ADT-C_MET' 'ADT-CD258_LIGHT'\n",
      " 'ADT-DR3_TRAMP']\n",
      "1694 : ['ZXDA' 'ZXDB' 'ZXDC' 'ZYG11A' 'ZYG11AP1' 'ZYG11B' 'ZYX' 'ZYXP1' 'ZZEF1'\n",
      " 'ZZZ3']\n",
      "2377 : ['AC124657.1' 'AC139749.1' 'C21orf59-TCP10L' 'H2AFZP2' 'TUBB8P12'\n",
      " 'AC016205.1' 'AC026250.1' 'AC068512.1' 'AL121983.2' 'AC055748.1']\n",
      "3285 : ['US6' 'US8' 'AC021054.1' 'AC098829.1' 'AC095033.1' 'AL109613.1'\n",
      " 'AC008609.1' 'KHDRBS2-OT' 'H3.Y' 'AC005842.1']\n",
      "2580 : ['ENSG00000284849' 'ENSG00000284552' 'ENSG00000283585' 'ENSG00000284041'\n",
      " 'ENSG00000284826' 'ENSG00000283073' 'ENSG00000285396' 'ENSG00000283932'\n",
      " 'ENSG00000283088' 'ENSG00000284729']\n",
      "1821 : ['AL352977.2' 'AL359752.1' 'AC079062.1' 'AC011260.1' 'AC016839.1'\n",
      " 'AC012617.1' 'AL356055.1' 'AL137141.1' 'AC244226.1' 'ABBA01031663.1']\n",
      "2243 : ['ENSG00000284552' 'ENSG00000284041' 'ENSG00000283374' 'ENSG00000283073'\n",
      " 'ENSG00000283088' 'ENSG00000283932' 'ENSG00000284826' 'ENSG00000285258'\n",
      " 'ENSG00000284849' 'ENSG00000284681']\n",
      "2797 : ['AC090922.1' 'AP006284.1' 'AC024600.1' 'AC016257.1' 'AL031728.1'\n",
      " 'AL449266.1' 'AC106789.1' 'AL662860.1' 'LINC02170' 'AL121983.1']\n",
      "2700 : ['AC012617.1' 'AC008392.1' 'AP000527.1' 'LINC01660' 'LINC01662'\n",
      " 'LINC01663' 'LINC01658' 'AL035681.1' 'AL021453.1' 'AL121580.1']\n",
      "2088 : ['CH17-224D4.1' 'CH17-212P11.4' 'CRAT37' 'THRA1/BTR' 'RP5-1187M17.10'\n",
      " 'TRAPPC2P1' 'LLNLR-245B6.1' 'CTA-286B10.8' 'AP000687.1' 'KB-51A8.1']\n",
      "1668 : ['ENSG00000282960' 'ENSG00000282955' 'ENSG00000282940' 'ENSG00000282682'\n",
      " 'ENSG00000282883' 'ENSG00000282889' 'ENSG00000282031' 'ENSG00000282896'\n",
      " 'ENSG00000282359' 'ENSG00000283027']\n",
      "2917 : ['SETD8P1' 'GVQW2' 'ENSG00000282940' 'HIST1H3D-version2' 'ENSG00000283088'\n",
      " 'TXNRD3NB-version2' 'ENSG00000283406' 'ENSG00000283512' 'ENSG00000284041'\n",
      " 'RABGEF1-version2']\n",
      "3150 : ['RP11-85M11.2' 'RP11-869B15.1' 'RP13-137A17.4' 'RP13-996F3.4'\n",
      " 'RP3-400N23.6' 'RP4-662A9.2' 'RP4-777D9.2' 'RP4-782G3.1' 'SNORA80'\n",
      " 'hsa-mir-6080']\n",
      "1977 : ['AC109135.1' 'AL592170.1' 'AL603926.1' 'AL162851.1' 'AL590523.1'\n",
      " 'CT476828.1' 'AC145205.1' 'CU459201.1' 'AC002321.2' 'AC002321.1']\n",
      "2912 : ['OVOS2' 'CRAT37' 'PRCAT47' 'THCAT158' 'RP5-1187M17.10' 'TRAPPC2P1'\n",
      " 'LLNLR-245B6.1' 'LL22NC03-N95F10.1' 'CTA-286B10.7' 'CTA-286B10.8']\n",
      "2207 : ['AC006387.1' 'AC004889.1' 'KIF1BP' 'AC021054.1' 'C12orf81' 'AC025159.1'\n",
      " 'FLJ45513' 'AL353194.1' 'AL121721.1' 'AL035681.1']\n",
      "1834 : ['XAGE1E' 'XAGE2B' 'XGY2' 'ZAK' 'ZASP' 'ZFYVE20' 'ZNF271' 'ZNF664-FAM101A'\n",
      " 'ZNF727P' 'ZNF735P']\n",
      "1810 : ['AL162851.1' 'KIR3DL2_duplicate' 'AL590523.1' 'CT476828.1'\n",
      " 'PNRC2_duplicate' 'SRSF10_duplicate' 'AC145205.1' 'CU459201.1'\n",
      " 'AC002321.2' 'AC002321.1']\n",
      "2576 : ['ENSG00000284849' 'ENSG00000284552' 'ENSG00000283585' 'ENSG00000284041'\n",
      " 'ENSG00000284826' 'ENSG00000283073' 'ENSG00000285396' 'ENSG00000283932'\n",
      " 'ENSG00000283088' 'ENSG00000284729']\n",
      "2939 : ['RP1-213J1P--B.1' 'RP1-213J1P--B.2' 'CTA-286B10.7' 'CTA-286B10.8'\n",
      " 'RP4-633O19--A.1' 'RP4-754E20--A.5' 'CTA-280A3--B.2' 'AP000687.1'\n",
      " 'AL773572.7' 'KB-51A8.1']\n",
      "1671 : ['XAGE1E' 'XAGE2B' 'XGY2' 'ZAK' 'ZASP' 'ZFYVE20' 'ZNF271' 'ZNF664-FAM101A'\n",
      " 'ZNF727P' 'ZNF735P']\n",
      "1848 : ['RUSF1' 'SNORD3P1' 'LOC105372352' 'GARRE1' 'CCNP' 'LINC00515' 'RPL34-DT'\n",
      " 'CIBAR2' 'KASH5' 'DNAAF6']\n",
      "2755 : ['AC025159.1' 'AC091534.1' 'FLJ45513' 'TUBB8P12' 'AL353194.1' 'AL121721.1'\n",
      " 'AL117381.1' 'AL121908.1' 'AP000527.1' 'AL035681.1']\n",
      "3059 : ['RP1-90L6.2' 'RP3-400N23.6' 'AC005003.1' 'C22orf26' 'FLJ27365'\n",
      " 'LINC00478' 'C21orf119' 'C21orf49' 'AL773604.8' 'C21orf67']\n",
      "2541 : ['RP11-181F12.1' 'BMS1P18' 'D87024.1' 'C11orf89' 'CXorf64' 'PRSS3P2'\n",
      " 'AHCYP1' 'RN7SL701P' 'RN7SL235P' 'CTD-2589O24.1']\n",
      "2085 : ['ZXDC' 'ZYG11A' 'ZYG11AP1' 'ZYG11B' 'ZYX' 'ZYXP1' 'ZZEF1' 'ZZZ3'\n",
      " 'ENSG00000284413.2' 'ENSG00000284714.1']\n",
      "2175 : ['RP1-213J1P--B.1' 'RP1-213J1P--B.2' 'CTA-286B10.7' 'CTA-286B10.8'\n",
      " 'RP4-633O19--A.1' 'RP4-754E20--A.5' 'CTA-280A3--B.2' 'AP000687.1'\n",
      " 'AL773572.7' 'KB-51A8.1']\n",
      "3026 : ['ENSG00000283585' 'ENSG00000284729' 'ENSG00000284681' 'ENSG00000283088'\n",
      " 'ENSG00000284041' 'ENSG00000285385' 'ENSG00000284755' 'ENSG00000285258'\n",
      " 'ENSG00000283073' 'ENSG00000283374']\n",
      "3289 : ['AC012617.1' 'AC008392.1' 'AP000527.1' 'LINC01660' 'LINC01662'\n",
      " 'LINC01663' 'LINC01658' 'AL035681.1' 'AL021453.1' 'AL121580.1']\n",
      "2630 : ['ZYX' 'ZYXP1' 'ZZEF1' 'ZZZ3' 'ENSG00000284755' 'ENSG00000284681'\n",
      " 'ENSG00000285258' 'ENSG00000285385' 'ENSG00000283585' 'ENSG00000284826']\n",
      "1980 : ['AC109135.1' 'AL592170.1' 'AL603926.1' 'AL162851.1' 'AL590523.1'\n",
      " 'CT476828.1' 'AC145205.1' 'CU459201.1' 'AC002321.2' 'AC002321.1']\n",
      "2025 : ['RP1-221C16.8' 'RP4-633O19--A.1' 'RP11-99J16--A.2' 'RP11-557N21.1'\n",
      " 'CTA-286B10.7' 'RP11-506F3.1' 'HRAT92' 'RP11-151A10.3' 'PRCAT47'\n",
      " 'THCAT158']\n",
      "3281 : ['AL365194.1' 'AL356055.1' 'AL390730.1' 'AC022445.1' 'AC008243.1'\n",
      " 'AC079858.1' 'AC027306.1' 'TUBB8P12' 'AC138655.1' 'AL121908.1']\n",
      "2274 : ['SARSCoV2-Unspliced-ORF7a' 'SARSCoV2-Unspliced-ORF7b'\n",
      " 'SARSCoV2-Unspliced-ORF8' 'SARSCoV2-Unspliced-S' 'SMIM37' 'SMUG1-AS1'\n",
      " 'TUBB8P12' 'Z84484.1' 'Z97987.1' 'ZCCHC23']\n",
      "2803 : ['OVOS2' 'CRAT37' 'PRCAT47' 'THCAT158' 'THRA1/BTR' 'RP5-1187M17.10'\n",
      " 'TRAPPC2P1' 'LLNLR-245B6.1' 'LL22NC03-N95F10.1' 'CTA-286B10.7']\n",
      "2897 : ['ENSG00000282940' 'ENSG00000282682' 'ENSG00000282883' 'ENSG00000282889'\n",
      " 'ENSG00000283073' 'ENSG00000282031' 'ENSG00000282896' 'ENSG00000282359'\n",
      " 'ENSG00000283027' 'ENSG00000283088']\n",
      "2236 : ['LINC01969' 'AC145422.1' 'AC099687.1' 'AL138775.1' 'AC012312.1'\n",
      " 'AL034549.1' 'AC099673.1' 'AC026250.1' 'AP002444.1' 'AL590637.1']\n",
      "3085 : ['AC012617.1' 'AC008392.1' 'AP000527.1' 'LINC01660' 'LINC01662'\n",
      " 'LINC01663' 'LINC01658' 'AL035681.1' 'AL021453.1' 'AL121580.1']\n",
      "2142 : ['AL353194.1' 'AL356258.1' 'AL445472.1' 'AL662796.1' 'AP001157.1'\n",
      " 'FAM239A' 'KIF1BP' 'LINC02001' 'RAMMET' 'SMIM37']\n",
      "3091 : ['AC079062.1' 'AL353194.1' 'AL121721.1' 'AL117381.1' 'AL121908.1'\n",
      " 'AP000527.1' 'GGT1-1' 'AL035681.1' 'ARMCX5-GPRASP2-1' 'TMSB15B-1']\n",
      "3175 : ['FLJ45513' 'MARCH10-DT' 'TUBB8P12' 'AC079062.1' 'AL353194.1' 'AL121721.1'\n",
      " 'AL117381.1' 'AL121908.1' 'AP000527.1' 'AL035681.1']\n",
      "2472 : ['AC109135.1' 'AL592170.1' 'AL603926.1' 'AL162851.1' 'AL590523.1'\n",
      " 'CT476828.1' 'AC145205.1' 'CU459201.1' 'AC002321.2' 'AC002321.1']\n",
      "2649 : ['TMEM66' 'TRAPPC2P1' 'WDR52' 'WDR96' 'ZFYVE20' 'ZNF259' 'hsa-mir-1199'\n",
      " 'hsa-mir-335' 'hsa-mir-6080' 'hsa-mir-8072']\n",
      "3096 : ['sgTMEM167A_5' 'sgYIPF5_5' 'sgSCYL1_5' 'sgIER3IP1_5' 'sgDDOST_5'\n",
      " 'sgDAD1_5' 'sgOST4_5' 'sgEIF2B4_5' 'sgEIF2B2_5' 'sgEIF2B3_5']\n",
      "2453 : ['ERCC-00162' 'ERCC-00163' 'ERCC-00164' 'ERCC-00165' 'ERCC-00168'\n",
      " 'ERCC-00170' 'ERCC-00171' 'SPIKE1' 'SPIKE2' 'SPIKE3']\n",
      "1725 : ['SPANXB2' 'SPANXF1' 'SPDYE2L' 'TREML2P1' 'TRIM49L1' 'XAGE1C' 'XAGE1D'\n",
      " 'XAGE1E' 'XAGE2B' 'XGPY2']\n",
      "3236 : ['ADT-CD64' 'ADT-CD14' 'ADT-CD93' 'ADT-CCR7' 'ADT-XCR1' 'ADT-CD163'\n",
      " 'ADT-CD36' 'ADT-CD206' 'ADT-HLA-DR' 'ADT-CD169']\n",
      "1697 : ['KIF1BP' 'ABC11-4932300O16.1' 'OVOS2' 'CRAT37' 'PRCAT47' 'THRA1/BTR'\n",
      " 'RP5-1187M17.10' 'TRAPPC2P1' 'LLNLR-245B6.1' 'AP000687.1']\n",
      "2155 : ['ENSG00000266223.1' 'ENSG00000252531.1' 'ENSG00000268730.1'\n",
      " 'ENSG00000238312.1' 'ENSG00000108270.6' 'ENSG00000226974.2'\n",
      " 'ENSG00000215306.1' 'ENSG00000237102.2' 'ENSG00000238475.1'\n",
      " 'ENSG00000272960.1']\n",
      "2136 : ['SPATA31A2' 'AC007965.1' 'BX649567.1' 'FAM74A5' 'Z95400.1' 'RN7SL637P'\n",
      " 'snoZ13-snr52' 'AF130343.1' 'IGHV3-9' 'RN7SL739P']\n",
      "2475 : ['RP11.446P9.1' 'RP11.447H19.3' 'RP11.618K16.4' 'RP11.627K11.3'\n",
      " 'RP11.63P12.2' 'RP11.643N23.1' 'RP11.89K10.2' 'RP3.522D1.2'\n",
      " 'RP4.631H13.6' 'RP6.65G23.5']\n",
      "2394 : ['ZXDB' 'ZXDC' 'ZYG11A' 'ZYG11AP1' 'ZYG11B' 'ZYX' 'ZYXP1' 'ZZEF1' 'ZZZ3'\n",
      " 'ENSG00000283013']\n",
      "3075 : ['TOPORSLP1' 'TUBB8P12' 'UTAT33' 'WTH3DI' 'Z73417.1' 'Z84484.1' 'Z97987.1'\n",
      " 'Z98044.1' 'Z98882.1' 'ZCCHC23']\n",
      "3266 : ['GOLGA8M-1' 'AC079062.1' 'TMSB15B-1' 'AL356055.1' 'CYB561D2-1' 'GVQW2'\n",
      " 'MATR3-1' 'HSPA14-1' 'TBCE-1' 'TFAP2A-AS2']\n",
      "2232 : ['ENSG00000282955' 'ENSG00000282883' 'ENSG00000282889' 'ENSG00000281937'\n",
      " 'ENSG00000282682' 'ENSG00000282896' 'ENSG00000282940' 'ENSG00000282031'\n",
      " 'ENSG00000282827' 'ENSG00000282913']\n",
      "2400 : ['ZXDA' 'ZXDB' 'ZXDC' 'ZYG11A' 'ZYG11AP1' 'ZYG11B' 'ZYX' 'ZYXP1' 'ZZEF1'\n",
      " 'ZZZ3']\n",
      "3185 : ['AC104184.1' 'AC090922.1' 'AL449266.1' 'AL121983.1' 'AC098613.1'\n",
      " 'AL365275.1' 'AC145422.1' 'AC025219.1' 'AL365277.1' 'AL445483.1']\n",
      "2959 : ['ZXDA' 'ZXDB' 'ZXDC' 'ZYG11A' 'ZYG11AP1' 'ZYG11B' 'ZYX' 'ZYXP1' 'ZZEF1'\n",
      " 'ZZZ3']\n",
      "2261 : ['FLJ20373' 'RP11-555F9.2' 'RP11-328M4.3' 'AC005022.1' 'RP11-666I19.2'\n",
      " 'CTD-2265M8.2' 'CATX-2' 'RP11-95K23.6' 'RP11-292F22.5' 'CTD-2081K17.2']\n",
      "2880 : ['ENSG00000282889' 'ENSG00000283073' 'ENSG00000282031' 'ENSG00000282896'\n",
      " 'ENSG00000282359' 'ENSG00000283027' 'ENSG00000283088' 'CD3' 'CD11b'\n",
      " 'CD279']\n",
      "2281 : ['WDR96' 'Z97053.1' 'Z98049.1' 'ZFYVE20' 'ZNF259' 'hsa-mir-1199'\n",
      " 'hsa-mir-335' 'hsa-mir-490' 'hsa-mir-6080' 'hsa-mir-8072']\n",
      "1853 : ['RP1-221C16.8' 'RP1-273N12.4' 'RP11-111H13.1' 'RP11-151A10.3'\n",
      " 'RP11-153F10.2' 'RP11-15K19.2' 'RP11-722G7.1' 'RP4-621F18.2'\n",
      " 'RP5-1187M17.10' 'TRAPPC2P1']\n",
      "2334 : ['ENSG00000283585' 'ENSG00000284041' 'ENSG00000284729' 'ENSG00000285396'\n",
      " 'ENSG00000284826' 'ENSG00000284552' 'ENSG00000283073' 'ENSG00000283088'\n",
      " 'ENSG00000284849' 'ENSG00000285258']\n",
      "1915 : ['ZFP106' 'ZFP112' 'ZFYVE20' 'ZNF259' 'ZNF271' 'ZNF487P' 'ZNF542' 'ZNF663'\n",
      " 'ZNF664-FAM101A' 'ZNF767']\n",
      "2733 : ['FLJ45513' 'MARCH10-DT' 'TUBB8P12' 'AC079062.1' 'AL353194.1' 'AL121721.1'\n",
      " 'AL117381.1' 'AL121908.1' 'AP000527.1' 'AL035681.1']\n",
      "1736 : ['RP11-506F3.1' 'RP11-524D16--A.3' 'RP11-557N21.1' 'RP11-605B16.1'\n",
      " 'RP11-722G7.1' 'RP4-621F18.2' 'RP5-1187M17.10' 'THCAT158' 'TRAPPC2P1'\n",
      " 'XXyac-YX65C7-A.2']\n",
      "3024 : ['FLJ45513' 'AL353194.1' 'AC016205.1' 'AL121983.1' 'AL136454.1'\n",
      " 'AC004889.1' 'AL049875.1' 'AL035681.1' 'AC098936.1' 'AL451060.1']\n",
      "2849 : ['FLJ45513' 'LINC02081' 'AC016205.1' 'AL353194.1' 'AL035563.1'\n",
      " 'AL117381.1' 'AL034549.1' 'AC012617.1' 'AL035681.1' 'AL021453.1']\n",
      "2167 : ['RP1-213J1P--B.1' 'RP1-213J1P--B.2' 'CTA-286B10.7' 'CTA-286B10.8'\n",
      " 'RP4-633O19--A.1' 'RP4-754E20--A.5' 'CTA-280A3--B.2' 'AP000687.1'\n",
      " 'AL773572.7' 'KB-51A8.1']\n",
      "2071 : ['LINC01422-1' 'CTA-286B10.7' 'CTA-286B10.8' 'AP000687.1' 'AL773572.7'\n",
      " 'KB-51A8.1' 'NoVGI_gp1' 'NoVGI_gp2' 'NoVGI_gp3' 'HAstVgp1']\n",
      "3046 : ['ileum' 'colon_asc' 'colon_desc' 'colon_trans' 'TotalSeq-B0251'\n",
      " 'TotalSeq-B0252' 'TotalSeq-B0253' 'TotalSeq-B0254' 'TotalSeq-B0255'\n",
      " 'TotalSeq-B0256']\n",
      "2532 : ['ZXDA' 'ZXDB' 'ZXDC' 'ZYG11A' 'ZYG11AP1' 'ZYG11B' 'ZYX' 'ZYXP1' 'ZZEF1'\n",
      " 'ZZZ3']\n",
      "2598 : ['MIR4432HG' 'SEPT5-GP1BB' 'SMUG1-AS1' 'TFAP2A-AS2' 'THCAT158' 'THRA1/BTR'\n",
      " 'TUBB8P12' 'UTAT33' 'Z84484.1' 'ZCCHC23']\n",
      "2054 : ['ZYG11A' 'ZYG11AP1' 'ZYG11B' 'ZYX' 'ZYXP1' 'ZZEF1' 'ZZZ3' 'h_eGFP'\n",
      " 'ENSG00000283013' 'ENSG00000283073']\n",
      "1975 : ['SPATA31A4' 'C5orf48' 'PRR24' 'RP4-779E11.3' 'CCDC19' 'CTA-211A9.5'\n",
      " 'FAM21B' 'C17orf72' 'RP11-361K17.2' 'CR759784.2']\n",
      "3105 : ['UTAT33' 'WHAMMP1' 'WRB-SH3BGR' 'WTH3DI' 'ZASP' 'ZCCHC23' 'ZNF660-ZNF197'\n",
      " 'ZNF664-RFLNA' 'ZNF765-ZNF761' 'ZNF8-ERVK3-1']\n",
      "2487 : ['RP11-506F3.1' 'RP11-557N21.1' 'RP11-605B16.1' 'RP11-722G7.1'\n",
      " 'RP3-467D16.3' 'RP4-621F18.2' 'RP5-1187M17.10' 'THCAT158' 'TRAPPC2P1'\n",
      " 'UTAT33']\n",
      "1888 : ['ZSCAN5CP' 'TRAPPC2P1' 'LLNLR-245B6.1' 'FAM197Y5P' 'LL22NC03-N95F10.1'\n",
      " 'CTA-286B10.7' 'CTA-286B10.8' 'AP000687.1' 'AL773572.7' 'KB-51A8.1']\n",
      "1731 : ['TUBB8P12' 'AC016205.1' 'AL353194.1' 'AL035563.1' 'AL132821.1'\n",
      " 'AL034549.1' 'AC012617.1' 'LINC01660' 'AL035681.1' 'AL021453.1']\n",
      "2734 : ['ENSG00000284849' 'ENSG00000284552' 'ENSG00000283585' 'ENSG00000284041'\n",
      " 'ENSG00000284826' 'ENSG00000283073' 'ENSG00000285396' 'ENSG00000283932'\n",
      " 'ENSG00000283088' 'ENSG00000284729']\n",
      "2720 : ['2003-03-01 00:00:00' '2001-09-01 00:00:00' '2009-09-01 00:00:00'\n",
      " '2010-09-01 00:00:00' '2005-03-01 00:00:00' 'KIF1BP' 'RPL9P9'\n",
      " 'KCNQ1OT1-3' 'KB-1396H2.2' 'LLNLR-245B6.1']\n",
      "2448 : ['RF00012' 'RF00019_687' 'AL132821.1' 'AC109779.1' 'AC092167.1'\n",
      " 'AC012498.2' 'AL031316.1' 'RF00019_433' 'RF00019_172' 'RF00402']\n",
      "3058 : ['CTA-250D13.1' 'XXyac-YR38GF2.1' 'RP11-542H15.1' 'RP3-488M23.3'\n",
      " 'RP11-17G2.1' 'RP11-141O19.1' 'CH17-262H11.1' 'THCAT158' 'RP11-369J9.1'\n",
      " 'AL773572.7']\n",
      "1647 : ['RP4-621F18.2' 'RP4-633O19' 'RP4-754E20' 'RP5-1174N9.2' 'RP5-1187M17.10'\n",
      " 'THCAT158' 'THRA1/BTR' 'TRAPPC2P1' 'XXyac-YR38GF2.1' 'ZSCAN5CP']\n",
      "2892 : ['ENSG00000288635' 'ENSG00000288632' 'ENSG00000288615' 'ENSG00000288610'\n",
      " 'ENSG00000288605' 'ENSG00000288612' 'ENSG00000288643' 'ENSG00000288611'\n",
      " 'ENSG00000288627' 'ENSG00000288642']\n",
      "3127 : ['MARCH10-DT' 'TUBB8P12' 'AC079062.1' 'AL353194.1' 'AL121721.1'\n",
      " 'AL117381.1' 'AL121908.1' 'AP000527.1' 'AL035681.1' 'HSV-1-LAT']\n",
      "2298 : ['AL590999.1' 'AC026398.1' 'AL121721.1' 'AP002444.1' 'AC023886.1'\n",
      " 'AC079098.1' 'AL158840.1' 'AC109779.1' 'AC024600.1' 'AC008609.1']\n",
      "1842 : ['ENSG00000282940' 'ENSG00000282682' 'ENSG00000282883' 'ENSG00000282889'\n",
      " 'ENSG00000283073' 'ENSG00000282031' 'ENSG00000282896' 'ENSG00000282359'\n",
      " 'ENSG00000283027' 'ENSG00000283088']\n"
     ]
    }
   ],
   "source": [
    "for i in os.listdir(ROOT_DIR):\n",
    "    with h5py.File('{}/{}/{}'.format(ROOT_DIR, i, 'raw.hdf5')) as f:\n",
    "        fe = f['features'][()].astype('str')\n",
    "    print(i, ':', fe[-10:])"
   ]
  },
  {
   "cell_type": "code",
   "execution_count": null,
   "id": "7a8f8c66-f5e8-44b1-920c-524c14fd880d",
   "metadata": {},
   "outputs": [],
   "source": []
  }
 ],
 "metadata": {
  "kernelspec": {
   "display_name": "cell type prediction",
   "language": "python",
   "name": "cell-type-prediction"
  },
  "language_info": {
   "codemirror_mode": {
    "name": "ipython",
    "version": 3
   },
   "file_extension": ".py",
   "mimetype": "text/x-python",
   "name": "python",
   "nbconvert_exporter": "python",
   "pygments_lexer": "ipython3",
   "version": "3.10.9"
  }
 },
 "nbformat": 4,
 "nbformat_minor": 5
}
