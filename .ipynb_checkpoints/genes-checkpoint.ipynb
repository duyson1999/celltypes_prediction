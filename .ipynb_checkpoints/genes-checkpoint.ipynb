{
 "cells": [
  {
   "cell_type": "code",
   "execution_count": 1,
   "id": "b4d03319-1279-4c73-b15f-5ca26054c66f",
   "metadata": {},
   "outputs": [],
   "source": [
    "import os\n",
    "import h5py\n",
    "import numpy as np"
   ]
  },
  {
   "cell_type": "code",
   "execution_count": 44,
   "id": "8a992599-303f-4b48-abb2-6db17d9e0b56",
   "metadata": {},
   "outputs": [],
   "source": [
    "# gene x cell arr\n",
    "def deseq2_normalization(arr):\n",
    "    geometric_mean = np.prod(arr, axis=1) ** (1/arr.shape[1])\n",
    "    ratio_arr = np.divide(arr, geometric_mean[:, None])\n",
    "    norm_factor = np.median(ratio_arr, axis=0)\n",
    "    return arr / norm_factor.T[None, :]"
   ]
  },
  {
   "cell_type": "code",
   "execution_count": null,
   "id": "7edb490d-168d-4908-a689-07928a7afdfe",
   "metadata": {},
   "outputs": [],
   "source": []
  }
 ],
 "metadata": {
  "kernelspec": {
   "display_name": "Python 3 (ipykernel)",
   "language": "python",
   "name": "python3"
  },
  "language_info": {
   "codemirror_mode": {
    "name": "ipython",
    "version": 3
   },
   "file_extension": ".py",
   "mimetype": "text/x-python",
   "name": "python",
   "nbconvert_exporter": "python",
   "pygments_lexer": "ipython3",
   "version": "3.10.12"
  }
 },
 "nbformat": 4,
 "nbformat_minor": 5
}
