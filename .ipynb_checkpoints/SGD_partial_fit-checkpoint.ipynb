{
 "cells": [
  {
   "cell_type": "code",
   "execution_count": 1,
   "id": "67ee40f9-8652-41fc-9b00-51a80d79a76e",
   "metadata": {
    "execution": {
     "iopub.execute_input": "2024-01-05T04:03:53.166120Z",
     "iopub.status.busy": "2024-01-05T04:03:53.165846Z",
     "iopub.status.idle": "2024-01-05T04:03:53.632146Z",
     "shell.execute_reply": "2024-01-05T04:03:53.631443Z",
     "shell.execute_reply.started": "2024-01-05T04:03:53.166096Z"
    }
   },
   "outputs": [],
   "source": [
    "import h5py\n",
    "import scipy\n",
    "import numpy as np\n",
    "import os\n",
    "import zlib\n",
    "import msgpack\n",
    "from sklearn.utils import sparsefuncs\n",
    "import pickle\n",
    "\n",
    "def read_compressed_json(json_path):\n",
    "\tif not os.path.isfile(json_path):\n",
    "\t\treturn {}\n",
    "\twith open(json_path, 'rb') as f:\n",
    "\t\to = f.read()\n",
    "\t\to = zlib.decompress(o)\n",
    "\t\to = msgpack.unpackb(o, strict_map_key=False)\n",
    "\t\treturn o"
   ]
  },
  {
   "cell_type": "code",
   "execution_count": 2,
   "id": "6508a536-b731-4381-b9cb-ba670c6f5b8c",
   "metadata": {
    "execution": {
     "iopub.execute_input": "2024-01-05T04:03:53.640005Z",
     "iopub.status.busy": "2024-01-05T04:03:53.639847Z",
     "iopub.status.idle": "2024-01-05T04:03:53.742284Z",
     "shell.execute_reply": "2024-01-05T04:03:53.741623Z",
     "shell.execute_reply.started": "2024-01-05T04:03:53.639986Z"
    }
   },
   "outputs": [],
   "source": [
    "GENES_ANNOTATION = read_compressed_json('/home/ub-sonvo-25d094476064960/genes_annotation.json.gz')\n",
    "N_GENES = GENES_ANNOTATION['n_genes']\n",
    "DEFAULT_SIZE_FACTOR = 10000\n",
    "ROOT_DIR = '/home/ub-sonvo-25d094476064960/celltype_prediction'\n",
    "TRAINED_STUDIES = open(ROOT_DIR + '/studies_idx_HVG.txt').read().splitlines()"
   ]
  },
  {
   "cell_type": "code",
   "execution_count": 18,
   "id": "800ddf93-f0e2-4306-be74-95d4e381b5ea",
   "metadata": {
    "execution": {
     "iopub.execute_input": "2024-01-05T04:10:29.438631Z",
     "iopub.status.busy": "2024-01-05T04:10:29.438333Z",
     "iopub.status.idle": "2024-01-05T04:10:29.443280Z",
     "shell.execute_reply": "2024-01-05T04:10:29.442655Z",
     "shell.execute_reply.started": "2024-01-05T04:10:29.438604Z"
    }
   },
   "outputs": [],
   "source": [
    "def _normalize_total(csr_matrix, counts):\n",
    "\tcsr_matrix = csr_matrix.astype(np.float32)\n",
    "\tcounts += counts == 0\n",
    "\tcounts = counts / 10000\n",
    "\tsparsefuncs.inplace_row_scale(csr_matrix, 1 / counts)\n",
    "\treturn csr_matrix\n",
    "\n",
    "\n",
    "def normalize_total(csr_cxg, n_genes=N_GENES):\n",
    "    csr_cxg = csr_cxg[:, :n_genes]\n",
    "    counts_per_cell = csr_cxg.sum(1)\n",
    "    counts_per_cell = np.ravel(counts_per_cell)\n",
    "\n",
    "    csr_cxg = _normalize_total(csr_cxg, counts_per_cell)\n",
    "    csr_cxg.data = np.log1p(csr_cxg.data)\n",
    "\n",
    "    return csr_cxg"
   ]
  },
  {
   "cell_type": "code",
   "execution_count": 19,
   "id": "6b30253e-2503-408b-b21a-d4fd89f9f593",
   "metadata": {
    "execution": {
     "iopub.execute_input": "2024-01-05T04:10:30.349652Z",
     "iopub.status.busy": "2024-01-05T04:10:30.349222Z",
     "iopub.status.idle": "2024-01-05T04:10:30.354658Z",
     "shell.execute_reply": "2024-01-05T04:10:30.353947Z",
     "shell.execute_reply.started": "2024-01-05T04:10:30.349614Z"
    }
   },
   "outputs": [],
   "source": [
    "genes_bool = np.load('trained_data/genes_bool.npy')"
   ]
  },
  {
   "cell_type": "code",
   "execution_count": 20,
   "id": "977fae69-c00d-4bff-bef0-d7182c1b24a7",
   "metadata": {
    "execution": {
     "iopub.execute_input": "2024-01-05T04:10:30.616947Z",
     "iopub.status.busy": "2024-01-05T04:10:30.616572Z",
     "iopub.status.idle": "2024-01-05T04:10:41.376333Z",
     "shell.execute_reply": "2024-01-05T04:10:41.375463Z",
     "shell.execute_reply.started": "2024-01-05T04:10:30.616912Z"
    }
   },
   "outputs": [],
   "source": [
    "filtered_indptr = np.load('trained_data/filtered_indptr.npy')\n",
    "filtered_indices = np.load('trained_data/filtered_indices.npy')\n",
    "filtered_data = np.load('trained_data/filtered_data.npy')"
   ]
  },
  {
   "cell_type": "code",
   "execution_count": 25,
   "id": "8e4f79c9-8122-4d8e-acef-34a8cc10c191",
   "metadata": {
    "execution": {
     "iopub.execute_input": "2024-01-04T11:46:29.577357Z",
     "iopub.status.busy": "2024-01-04T11:46:29.576938Z",
     "iopub.status.idle": "2024-01-04T11:47:28.193663Z",
     "shell.execute_reply": "2024-01-04T11:47:28.192737Z",
     "shell.execute_reply.started": "2024-01-04T11:46:29.577322Z"
    }
   },
   "outputs": [],
   "source": [
    "for i in range(len(filtered_indptr) - 1):\n",
    "    start = filtered_indptr[i]\n",
    "    end = filtered_indptr[i + 1]\n",
    "    tmp_data = filtered_data[start : end].copy()\n",
    "    tmp_n_genes = len(tmp_data)\n",
    "    tmp_sort = np.argsort(tmp_n_genes)\n",
    "    replaced_data = np.zeros(shape=tmp_n_genes)\n",
    "    replaced_data[- np.minimum(tmp_n_genes, 5000):] = np.arange(1, 5001)[- np.minimum(tmp_n_genes, 5000):]\n",
    "    filtered_data[start : end] = replaced_data"
   ]
  },
  {
   "cell_type": "code",
   "execution_count": 21,
   "id": "5253252e-fed8-4e0d-914d-acc815ff4288",
   "metadata": {
    "execution": {
     "iopub.execute_input": "2024-01-05T04:10:41.776753Z",
     "iopub.status.busy": "2024-01-05T04:10:41.776313Z",
     "iopub.status.idle": "2024-01-05T04:10:49.998882Z",
     "shell.execute_reply": "2024-01-05T04:10:49.998228Z",
     "shell.execute_reply.started": "2024-01-05T04:10:41.776712Z"
    }
   },
   "outputs": [],
   "source": [
    "final_matrix = scipy.sparse.csr_matrix((filtered_data, filtered_indices, filtered_indptr), shape=(5033871, 12491))"
   ]
  },
  {
   "cell_type": "code",
   "execution_count": 22,
   "id": "6a3af299-7f8a-4497-8f89-e2b3f39a5e24",
   "metadata": {
    "execution": {
     "iopub.execute_input": "2024-01-05T04:10:50.000170Z",
     "iopub.status.busy": "2024-01-05T04:10:49.999973Z",
     "iopub.status.idle": "2024-01-05T04:10:50.006593Z",
     "shell.execute_reply": "2024-01-05T04:10:50.006159Z",
     "shell.execute_reply.started": "2024-01-05T04:10:50.000149Z"
    }
   },
   "outputs": [],
   "source": [
    "meta = np.load('trained_data/trained_meta_celltypes_HVG.npy')"
   ]
  },
  {
   "cell_type": "code",
   "execution_count": null,
   "id": "1c969cca-0f90-470d-8b09-e612803c7e1f",
   "metadata": {
    "execution": {
     "iopub.execute_input": "2024-01-05T04:10:50.007215Z",
     "iopub.status.busy": "2024-01-05T04:10:50.007064Z"
    }
   },
   "outputs": [],
   "source": [
    "final_matrix = final_matrix[np.nonzero(meta != 0)[0], :]\n",
    "meta = meta[np.nonzero(meta != 0)[0]]"
   ]
  },
  {
   "cell_type": "code",
   "execution_count": null,
   "id": "92c83034-a854-4746-88d0-75a64ecbeadf",
   "metadata": {},
   "outputs": [],
   "source": [
    "class_idx, class_count = np.unique(meta, return_counts=True)\n",
    "class_weight = class_count.astype(np.float32) / len(meta)\n",
    "class_weight = class_weight[27 - np.argsort(class_weight)]\n",
    "class_weight_dct = {class_idx[i]: class_weight[i] for i in range(len(class_idx))}"
   ]
  },
  {
   "cell_type": "code",
   "execution_count": null,
   "id": "4e8117f5-2871-4874-9500-b650b2b8239c",
   "metadata": {},
   "outputs": [],
   "source": [
    "class_weight_dct"
   ]
  },
  {
   "cell_type": "code",
   "execution_count": null,
   "id": "d605a794-eaf2-4cd6-9549-287371a05282",
   "metadata": {},
   "outputs": [],
   "source": [
    "import numpy as np\n",
    "from sklearn import linear_model\n",
    "clf = linear_model.SGDClassifier(loss='modified_huber', random_state=100, class_weight=class_weight_dct)"
   ]
  },
  {
   "cell_type": "code",
   "execution_count": null,
   "id": "c4c5b343-42d9-435f-bbf7-5c89fdb4180d",
   "metadata": {},
   "outputs": [],
   "source": [
    "TRAINED_STUDIES = open(ROOT_DIR + '/studies_idx_HVG.txt').read().splitlines()"
   ]
  },
  {
   "cell_type": "code",
   "execution_count": null,
   "id": "0f2d9a5b-06aa-439f-851d-3af8d8b58118",
   "metadata": {},
   "outputs": [],
   "source": [
    "studies_idx_arr = []\n",
    "for i in range(len(TRAINED_STUDIES)):\n",
    "    study_idx = TRAINED_STUDIES[i]\n",
    "    hdf5_path = os.path.join(ROOT_DIR, 'camel', str(study_idx), 'raw.hdf5')\n",
    "    with h5py.File(hdf5_path) as f:\n",
    "        bc = f['barcodes'][()]\n",
    "    tmp = np.zeros(shape=len(bc))\n",
    "    tmp[:] = i\n",
    "    studies_idx_arr.append(tmp)"
   ]
  },
  {
   "cell_type": "code",
   "execution_count": null,
   "id": "15c714b2-f2a4-4af1-b02b-e16068b6b52b",
   "metadata": {},
   "outputs": [],
   "source": [
    "studies_idx_arr = np.concatenate(studies_idx_arr)\n",
    "studies_idx_arr = studies_idx_arr.astype('int')\n",
    "studies_idx_arr = studies_idx_arr[np.nonzero(meta != 0)[0]]"
   ]
  },
  {
   "cell_type": "code",
   "execution_count": null,
   "id": "640a77b0-0a12-4151-a132-34f95dc0e39a",
   "metadata": {},
   "outputs": [],
   "source": [
    "# studies_idx_arr = np.concatenate(studies_idx_arr)\n",
    "# studies_idx_arr = studies_idx_arr.astype('int')\n",
    "# np.save('trained_data/studies_idx_arr.npy', studies_idx_arr)"
   ]
  },
  {
   "cell_type": "code",
   "execution_count": 11,
   "id": "9e63e8dc-97a1-4fef-bf99-d925b2530f75",
   "metadata": {
    "execution": {
     "iopub.execute_input": "2024-01-05T02:21:14.063878Z",
     "iopub.status.busy": "2024-01-05T02:21:14.063427Z",
     "iopub.status.idle": "2024-01-05T02:21:14.082462Z",
     "shell.execute_reply": "2024-01-05T02:21:14.081699Z",
     "shell.execute_reply.started": "2024-01-05T02:21:14.063854Z"
    }
   },
   "outputs": [],
   "source": []
  },
  {
   "cell_type": "code",
   "execution_count": null,
   "id": "3949103e-fd48-4a03-b49f-1e1f1d6ea9a8",
   "metadata": {
    "scrolled": true
   },
   "outputs": [],
   "source": [
    "for i in np.unique(studies_idx_arr):\n",
    "    print (i)\n",
    "    tmp_bool = np.nonzero(studies_idx_arr == i)[0]\n",
    "    tmp_matrix = final_matrix[tmp_bool, :] \n",
    "    tmp_matrix.indptr = tmp_matrix.indptr.astype(np.int32)\n",
    "    tmp_matrix.indices = tmp_matrix.indices.astype(np.int32)\n",
    "    tmp_meta = meta[tmp_bool]\n",
    "    clf.partial_fit(tmp_matrix, tmp_meta, classes=np.unique(meta))"
   ]
  },
  {
   "cell_type": "code",
   "execution_count": null,
   "id": "8146e4e6-8e6d-4f32-912f-6613bbe7249b",
   "metadata": {},
   "outputs": [],
   "source": [
    "import pickle\n",
    "\n",
    "filename = 'trained_data/SGD_partial_fit_study_batch_HVG_meta_weight_class.sav'\n",
    "pickle.dump(clf, open(filename, 'wb'))"
   ]
  },
  {
   "cell_type": "code",
   "execution_count": null,
   "id": "0190d43e-a8be-48d1-ad40-4860bbb40155",
   "metadata": {},
   "outputs": [],
   "source": [
    "clf"
   ]
  },
  {
   "cell_type": "code",
   "execution_count": 5,
   "id": "dfb7acd0-54a2-4f89-82c8-80a69c3f937d",
   "metadata": {
    "execution": {
     "iopub.execute_input": "2024-01-05T04:04:54.506959Z",
     "iopub.status.busy": "2024-01-05T04:04:54.506444Z",
     "iopub.status.idle": "2024-01-05T04:04:55.224521Z",
     "shell.execute_reply": "2024-01-05T04:04:55.223422Z",
     "shell.execute_reply.started": "2024-01-05T04:04:54.506903Z"
    }
   },
   "outputs": [],
   "source": [
    "clf = pickle.load(open('trained_data/SGD_partial_fit_study_batch_HVG_meta_weight_class.sav', 'rb'))"
   ]
  },
  {
   "cell_type": "code",
   "execution_count": 6,
   "id": "7cdd3c7b-a00e-4c4b-bab4-8340de97e0d2",
   "metadata": {
    "execution": {
     "iopub.execute_input": "2024-01-05T04:04:55.474585Z",
     "iopub.status.busy": "2024-01-05T04:04:55.474148Z",
     "iopub.status.idle": "2024-01-05T04:04:55.483177Z",
     "shell.execute_reply": "2024-01-05T04:04:55.482754Z",
     "shell.execute_reply.started": "2024-01-05T04:04:55.474560Z"
    }
   },
   "outputs": [
    {
     "data": {
      "text/html": [
       "<style>#sk-container-id-1 {color: black;}#sk-container-id-1 pre{padding: 0;}#sk-container-id-1 div.sk-toggleable {background-color: white;}#sk-container-id-1 label.sk-toggleable__label {cursor: pointer;display: block;width: 100%;margin-bottom: 0;padding: 0.3em;box-sizing: border-box;text-align: center;}#sk-container-id-1 label.sk-toggleable__label-arrow:before {content: \"▸\";float: left;margin-right: 0.25em;color: #696969;}#sk-container-id-1 label.sk-toggleable__label-arrow:hover:before {color: black;}#sk-container-id-1 div.sk-estimator:hover label.sk-toggleable__label-arrow:before {color: black;}#sk-container-id-1 div.sk-toggleable__content {max-height: 0;max-width: 0;overflow: hidden;text-align: left;background-color: #f0f8ff;}#sk-container-id-1 div.sk-toggleable__content pre {margin: 0.2em;color: black;border-radius: 0.25em;background-color: #f0f8ff;}#sk-container-id-1 input.sk-toggleable__control:checked~div.sk-toggleable__content {max-height: 200px;max-width: 100%;overflow: auto;}#sk-container-id-1 input.sk-toggleable__control:checked~label.sk-toggleable__label-arrow:before {content: \"▾\";}#sk-container-id-1 div.sk-estimator input.sk-toggleable__control:checked~label.sk-toggleable__label {background-color: #d4ebff;}#sk-container-id-1 div.sk-label input.sk-toggleable__control:checked~label.sk-toggleable__label {background-color: #d4ebff;}#sk-container-id-1 input.sk-hidden--visually {border: 0;clip: rect(1px 1px 1px 1px);clip: rect(1px, 1px, 1px, 1px);height: 1px;margin: -1px;overflow: hidden;padding: 0;position: absolute;width: 1px;}#sk-container-id-1 div.sk-estimator {font-family: monospace;background-color: #f0f8ff;border: 1px dotted black;border-radius: 0.25em;box-sizing: border-box;margin-bottom: 0.5em;}#sk-container-id-1 div.sk-estimator:hover {background-color: #d4ebff;}#sk-container-id-1 div.sk-parallel-item::after {content: \"\";width: 100%;border-bottom: 1px solid gray;flex-grow: 1;}#sk-container-id-1 div.sk-label:hover label.sk-toggleable__label {background-color: #d4ebff;}#sk-container-id-1 div.sk-serial::before {content: \"\";position: absolute;border-left: 1px solid gray;box-sizing: border-box;top: 0;bottom: 0;left: 50%;z-index: 0;}#sk-container-id-1 div.sk-serial {display: flex;flex-direction: column;align-items: center;background-color: white;padding-right: 0.2em;padding-left: 0.2em;position: relative;}#sk-container-id-1 div.sk-item {position: relative;z-index: 1;}#sk-container-id-1 div.sk-parallel {display: flex;align-items: stretch;justify-content: center;background-color: white;position: relative;}#sk-container-id-1 div.sk-item::before, #sk-container-id-1 div.sk-parallel-item::before {content: \"\";position: absolute;border-left: 1px solid gray;box-sizing: border-box;top: 0;bottom: 0;left: 50%;z-index: -1;}#sk-container-id-1 div.sk-parallel-item {display: flex;flex-direction: column;z-index: 1;position: relative;background-color: white;}#sk-container-id-1 div.sk-parallel-item:first-child::after {align-self: flex-end;width: 50%;}#sk-container-id-1 div.sk-parallel-item:last-child::after {align-self: flex-start;width: 50%;}#sk-container-id-1 div.sk-parallel-item:only-child::after {width: 0;}#sk-container-id-1 div.sk-dashed-wrapped {border: 1px dashed gray;margin: 0 0.4em 0.5em 0.4em;box-sizing: border-box;padding-bottom: 0.4em;background-color: white;}#sk-container-id-1 div.sk-label label {font-family: monospace;font-weight: bold;display: inline-block;line-height: 1.2em;}#sk-container-id-1 div.sk-label-container {text-align: center;}#sk-container-id-1 div.sk-container {/* jupyter's `normalize.less` sets `[hidden] { display: none; }` but bootstrap.min.css set `[hidden] { display: none !important; }` so we also need the `!important` here to be able to override the default hidden behavior on the sphinx rendered scikit-learn.org. See: https://github.com/scikit-learn/scikit-learn/issues/21755 */display: inline-block !important;position: relative;}#sk-container-id-1 div.sk-text-repr-fallback {display: none;}</style><div id=\"sk-container-id-1\" class=\"sk-top-container\"><div class=\"sk-text-repr-fallback\"><pre>SGDClassifier(class_weight={6: 0.10264770028060874, 108: 0.07573791283597162,\n",
       "                            193: 0.034683681514585944, 278: 0.10531894324410156,\n",
       "                            342: 0.048780438935790586, 359: 0.10417707303340958,\n",
       "                            387: 0.15675479644595652, 413: 0.06311943553662791,\n",
       "                            490: 0.018284549888948665,\n",
       "                            613: 0.011279650005459899, 616: 0.1299405822756658,\n",
       "                            642: 0.011699811758718556, 754: 0.04340529379765515,\n",
       "                            799: 0.00...\n",
       "                            861: 0.001238244938072726,\n",
       "                            977: 0.049840560936978744,\n",
       "                            993: 0.000282311831350238,\n",
       "                            1578: 0.008448316798355419,\n",
       "                            1581: 0.0003638596775954806,\n",
       "                            1621: 0.024949232959355312,\n",
       "                            1630: 0.0009579367393083661,\n",
       "                            1673: 0.00016089169664601922,\n",
       "                            1814: 0.00010639289031013227,\n",
       "                            1874: 0.0006395595214123205,\n",
       "                            1877: 0.00030535360608783727,\n",
       "                            1897: 0.002185161698158762,\n",
       "                            1994: 0.0007495589503770336},\n",
       "              random_state=100)</pre><b>In a Jupyter environment, please rerun this cell to show the HTML representation or trust the notebook. <br />On GitHub, the HTML representation is unable to render, please try loading this page with nbviewer.org.</b></div><div class=\"sk-container\" hidden><div class=\"sk-item\"><div class=\"sk-estimator sk-toggleable\"><input class=\"sk-toggleable__control sk-hidden--visually\" id=\"sk-estimator-id-1\" type=\"checkbox\" checked><label for=\"sk-estimator-id-1\" class=\"sk-toggleable__label sk-toggleable__label-arrow\">SGDClassifier</label><div class=\"sk-toggleable__content\"><pre>SGDClassifier(class_weight={6: 0.10264770028060874, 108: 0.07573791283597162,\n",
       "                            193: 0.034683681514585944, 278: 0.10531894324410156,\n",
       "                            342: 0.048780438935790586, 359: 0.10417707303340958,\n",
       "                            387: 0.15675479644595652, 413: 0.06311943553662791,\n",
       "                            490: 0.018284549888948665,\n",
       "                            613: 0.011279650005459899, 616: 0.1299405822756658,\n",
       "                            642: 0.011699811758718556, 754: 0.04340529379765515,\n",
       "                            799: 0.00...\n",
       "                            861: 0.001238244938072726,\n",
       "                            977: 0.049840560936978744,\n",
       "                            993: 0.000282311831350238,\n",
       "                            1578: 0.008448316798355419,\n",
       "                            1581: 0.0003638596775954806,\n",
       "                            1621: 0.024949232959355312,\n",
       "                            1630: 0.0009579367393083661,\n",
       "                            1673: 0.00016089169664601922,\n",
       "                            1814: 0.00010639289031013227,\n",
       "                            1874: 0.0006395595214123205,\n",
       "                            1877: 0.00030535360608783727,\n",
       "                            1897: 0.002185161698158762,\n",
       "                            1994: 0.0007495589503770336},\n",
       "              random_state=100)</pre></div></div></div></div></div>"
      ],
      "text/plain": [
       "SGDClassifier(class_weight={6: 0.10264770028060874, 108: 0.07573791283597162,\n",
       "                            193: 0.034683681514585944, 278: 0.10531894324410156,\n",
       "                            342: 0.048780438935790586, 359: 0.10417707303340958,\n",
       "                            387: 0.15675479644595652, 413: 0.06311943553662791,\n",
       "                            490: 0.018284549888948665,\n",
       "                            613: 0.011279650005459899, 616: 0.1299405822756658,\n",
       "                            642: 0.011699811758718556, 754: 0.04340529379765515,\n",
       "                            799: 0.00...\n",
       "                            861: 0.001238244938072726,\n",
       "                            977: 0.049840560936978744,\n",
       "                            993: 0.000282311831350238,\n",
       "                            1578: 0.008448316798355419,\n",
       "                            1581: 0.0003638596775954806,\n",
       "                            1621: 0.024949232959355312,\n",
       "                            1630: 0.0009579367393083661,\n",
       "                            1673: 0.00016089169664601922,\n",
       "                            1814: 0.00010639289031013227,\n",
       "                            1874: 0.0006395595214123205,\n",
       "                            1877: 0.00030535360608783727,\n",
       "                            1897: 0.002185161698158762,\n",
       "                            1994: 0.0007495589503770336},\n",
       "              random_state=100)"
      ]
     },
     "execution_count": 6,
     "metadata": {},
     "output_type": "execute_result"
    }
   ],
   "source": [
    "clf"
   ]
  },
  {
   "cell_type": "code",
   "execution_count": 7,
   "id": "ddb80397-9793-42bb-b850-6eb0a6e6d06f",
   "metadata": {
    "execution": {
     "iopub.execute_input": "2024-01-05T04:05:06.937125Z",
     "iopub.status.busy": "2024-01-05T04:05:06.936696Z",
     "iopub.status.idle": "2024-01-05T04:05:07.885660Z",
     "shell.execute_reply": "2024-01-05T04:05:07.885042Z",
     "shell.execute_reply.started": "2024-01-05T04:05:06.937088Z"
    }
   },
   "outputs": [],
   "source": [
    "with h5py.File('../camel/1891/raw.hdf5') as f:\n",
    "    indptr = f['expression']['indptr'][()].astype(np.int32)\n",
    "    indices = f['expression']['indices'][()].astype(np.int32)\n",
    "    data = f['expression']['raw'][()]\n",
    "    bc = f['barcodes'][()]\n",
    "    fe = f['features'][()]"
   ]
  },
  {
   "cell_type": "code",
   "execution_count": 8,
   "id": "69784b38-af5c-48ca-bc21-e3fc733f8c73",
   "metadata": {
    "execution": {
     "iopub.execute_input": "2024-01-05T04:05:07.886749Z",
     "iopub.status.busy": "2024-01-05T04:05:07.886571Z",
     "iopub.status.idle": "2024-01-05T04:05:07.890716Z",
     "shell.execute_reply": "2024-01-05T04:05:07.890267Z",
     "shell.execute_reply.started": "2024-01-05T04:05:07.886731Z"
    }
   },
   "outputs": [
    {
     "data": {
      "text/plain": [
       "array([1., 1., 1., ..., 1., 1., 1.], dtype=float32)"
      ]
     },
     "execution_count": 8,
     "metadata": {},
     "output_type": "execute_result"
    }
   ],
   "source": [
    "data"
   ]
  },
  {
   "cell_type": "code",
   "execution_count": 9,
   "id": "9f4ec659-ddd1-4a07-a770-6a342c9157d1",
   "metadata": {
    "execution": {
     "iopub.execute_input": "2024-01-05T04:05:07.891521Z",
     "iopub.status.busy": "2024-01-05T04:05:07.891335Z",
     "iopub.status.idle": "2024-01-05T04:05:09.839480Z",
     "shell.execute_reply": "2024-01-05T04:05:09.838476Z",
     "shell.execute_reply.started": "2024-01-05T04:05:07.891501Z"
    }
   },
   "outputs": [],
   "source": [
    "mtx = scipy.sparse.csr_matrix((data, indices, indptr), shape=(len(fe), len(bc))).T.tocsr()"
   ]
  },
  {
   "cell_type": "code",
   "execution_count": 10,
   "id": "839e28b8-99ae-4fe1-b61b-dfccf23679d6",
   "metadata": {
    "execution": {
     "iopub.execute_input": "2024-01-05T04:05:09.840870Z",
     "iopub.status.busy": "2024-01-05T04:05:09.840704Z",
     "iopub.status.idle": "2024-01-05T04:05:14.307711Z",
     "shell.execute_reply": "2024-01-05T04:05:14.306749Z",
     "shell.execute_reply.started": "2024-01-05T04:05:09.840852Z"
    }
   },
   "outputs": [],
   "source": [
    "mtx = normalize_total(mtx)"
   ]
  },
  {
   "cell_type": "code",
   "execution_count": 13,
   "id": "b6a289ab-7b40-4624-9c34-49458df08ad1",
   "metadata": {
    "execution": {
     "iopub.execute_input": "2024-01-05T04:05:25.120346Z",
     "iopub.status.busy": "2024-01-05T04:05:25.119973Z",
     "iopub.status.idle": "2024-01-05T04:05:26.945384Z",
     "shell.execute_reply": "2024-01-05T04:05:26.944119Z",
     "shell.execute_reply.started": "2024-01-05T04:05:25.120313Z"
    }
   },
   "outputs": [],
   "source": [
    "mtx = mtx[:, :N_GENES][:, np.nonzero(genes_bool)[0]]"
   ]
  },
  {
   "cell_type": "code",
   "execution_count": 14,
   "id": "56e3abe0-37d1-4a90-b186-34486e6f7b15",
   "metadata": {
    "execution": {
     "iopub.execute_input": "2024-01-05T04:07:55.762902Z",
     "iopub.status.busy": "2024-01-05T04:07:55.762399Z",
     "iopub.status.idle": "2024-01-05T04:07:57.529597Z",
     "shell.execute_reply": "2024-01-05T04:07:57.528753Z",
     "shell.execute_reply.started": "2024-01-05T04:07:55.762854Z"
    }
   },
   "outputs": [],
   "source": [
    "res = clf.predict(mtx)"
   ]
  },
  {
   "cell_type": "code",
   "execution_count": 15,
   "id": "b3381b68-cab9-437d-9a43-c66c3cd6217b",
   "metadata": {
    "execution": {
     "iopub.execute_input": "2024-01-05T04:08:00.921241Z",
     "iopub.status.busy": "2024-01-05T04:08:00.920247Z",
     "iopub.status.idle": "2024-01-05T04:08:00.928025Z",
     "shell.execute_reply": "2024-01-05T04:08:00.927179Z",
     "shell.execute_reply.started": "2024-01-05T04:08:00.921197Z"
    }
   },
   "outputs": [
    {
     "data": {
      "text/plain": [
       "array([ 387,  826,  387, ...,  826, 1874,  826], dtype=uint16)"
      ]
     },
     "execution_count": 15,
     "metadata": {},
     "output_type": "execute_result"
    }
   ],
   "source": [
    "res"
   ]
  },
  {
   "cell_type": "code",
   "execution_count": 17,
   "id": "3abdd6ca-be92-4c23-913f-c45d442fa8ae",
   "metadata": {
    "execution": {
     "iopub.execute_input": "2024-01-05T04:08:53.101523Z",
     "iopub.status.busy": "2024-01-05T04:08:53.100583Z",
     "iopub.status.idle": "2024-01-05T04:08:53.124188Z",
     "shell.execute_reply": "2024-01-05T04:08:53.123614Z",
     "shell.execute_reply.started": "2024-01-05T04:08:53.101487Z"
    }
   },
   "outputs": [
    {
     "ename": "AttributeError",
     "evalue": "probability estimates are not available for loss='hinge'",
     "output_type": "error",
     "traceback": [
      "\u001b[0;31m---------------------------------------------------------------------------\u001b[0m",
      "\u001b[0;31mAttributeError\u001b[0m                            Traceback (most recent call last)",
      "Cell \u001b[0;32mIn[17], line 1\u001b[0m\n\u001b[0;32m----> 1\u001b[0m proba_res \u001b[38;5;241m=\u001b[39m \u001b[43mclf\u001b[49m\u001b[38;5;241;43m.\u001b[39;49m\u001b[43mpredict_proba\u001b[49m(mtx)\n",
      "File \u001b[0;32m~/.conda/envs/cell-type-prediction/lib/python3.10/site-packages/sklearn/utils/_available_if.py:31\u001b[0m, in \u001b[0;36m_AvailableIfDescriptor.__get__\u001b[0;34m(self, obj, owner)\u001b[0m\n\u001b[1;32m     25\u001b[0m attr_err \u001b[38;5;241m=\u001b[39m \u001b[38;5;167;01mAttributeError\u001b[39;00m(\n\u001b[1;32m     26\u001b[0m     \u001b[38;5;124mf\u001b[39m\u001b[38;5;124m\"\u001b[39m\u001b[38;5;124mThis \u001b[39m\u001b[38;5;132;01m{\u001b[39;00m\u001b[38;5;28mrepr\u001b[39m(owner\u001b[38;5;241m.\u001b[39m\u001b[38;5;18m__name__\u001b[39m)\u001b[38;5;132;01m}\u001b[39;00m\u001b[38;5;124m has no attribute \u001b[39m\u001b[38;5;132;01m{\u001b[39;00m\u001b[38;5;28mrepr\u001b[39m(\u001b[38;5;28mself\u001b[39m\u001b[38;5;241m.\u001b[39mattribute_name)\u001b[38;5;132;01m}\u001b[39;00m\u001b[38;5;124m\"\u001b[39m\n\u001b[1;32m     27\u001b[0m )\n\u001b[1;32m     28\u001b[0m \u001b[38;5;28;01mif\u001b[39;00m obj \u001b[38;5;129;01mis\u001b[39;00m \u001b[38;5;129;01mnot\u001b[39;00m \u001b[38;5;28;01mNone\u001b[39;00m:\n\u001b[1;32m     29\u001b[0m     \u001b[38;5;66;03m# delegate only on instances, not the classes.\u001b[39;00m\n\u001b[1;32m     30\u001b[0m     \u001b[38;5;66;03m# this is to allow access to the docstrings.\u001b[39;00m\n\u001b[0;32m---> 31\u001b[0m     \u001b[38;5;28;01mif\u001b[39;00m \u001b[38;5;129;01mnot\u001b[39;00m \u001b[38;5;28;43mself\u001b[39;49m\u001b[38;5;241;43m.\u001b[39;49m\u001b[43mcheck\u001b[49m\u001b[43m(\u001b[49m\u001b[43mobj\u001b[49m\u001b[43m)\u001b[49m:\n\u001b[1;32m     32\u001b[0m         \u001b[38;5;28;01mraise\u001b[39;00m attr_err\n\u001b[1;32m     33\u001b[0m     out \u001b[38;5;241m=\u001b[39m MethodType(\u001b[38;5;28mself\u001b[39m\u001b[38;5;241m.\u001b[39mfn, obj)\n",
      "File \u001b[0;32m~/.conda/envs/cell-type-prediction/lib/python3.10/site-packages/sklearn/linear_model/_stochastic_gradient.py:1243\u001b[0m, in \u001b[0;36mSGDClassifier._check_proba\u001b[0;34m(self)\u001b[0m\n\u001b[1;32m   1241\u001b[0m \u001b[38;5;28;01mdef\u001b[39;00m \u001b[38;5;21m_check_proba\u001b[39m(\u001b[38;5;28mself\u001b[39m):\n\u001b[1;32m   1242\u001b[0m     \u001b[38;5;28;01mif\u001b[39;00m \u001b[38;5;28mself\u001b[39m\u001b[38;5;241m.\u001b[39mloss \u001b[38;5;129;01mnot\u001b[39;00m \u001b[38;5;129;01min\u001b[39;00m (\u001b[38;5;124m\"\u001b[39m\u001b[38;5;124mlog_loss\u001b[39m\u001b[38;5;124m\"\u001b[39m, \u001b[38;5;124m\"\u001b[39m\u001b[38;5;124mmodified_huber\u001b[39m\u001b[38;5;124m\"\u001b[39m):\n\u001b[0;32m-> 1243\u001b[0m         \u001b[38;5;28;01mraise\u001b[39;00m \u001b[38;5;167;01mAttributeError\u001b[39;00m(\n\u001b[1;32m   1244\u001b[0m             \u001b[38;5;124m\"\u001b[39m\u001b[38;5;124mprobability estimates are not available for loss=\u001b[39m\u001b[38;5;132;01m%r\u001b[39;00m\u001b[38;5;124m\"\u001b[39m \u001b[38;5;241m%\u001b[39m \u001b[38;5;28mself\u001b[39m\u001b[38;5;241m.\u001b[39mloss\n\u001b[1;32m   1245\u001b[0m         )\n\u001b[1;32m   1246\u001b[0m     \u001b[38;5;28;01mreturn\u001b[39;00m \u001b[38;5;28;01mTrue\u001b[39;00m\n",
      "\u001b[0;31mAttributeError\u001b[0m: probability estimates are not available for loss='hinge'"
     ]
    }
   ],
   "source": [
    "proba_res = clf.predict_proba(mtx)"
   ]
  },
  {
   "cell_type": "code",
   "execution_count": null,
   "id": "2cc1bdc2-e3c2-493d-a3f2-279159353bf3",
   "metadata": {},
   "outputs": [],
   "source": [
    "TERM_MAPPING = read_compressed_json('/home/ub-sonvo-25d094476064960/term_mapping.json.gz')"
   ]
  },
  {
   "cell_type": "code",
   "execution_count": null,
   "id": "e6d35de7-f80a-41e7-9e1b-f420ff307c53",
   "metadata": {
    "scrolled": true
   },
   "outputs": [],
   "source": [
    "res = [TERM_MAPPING['idx2name'][i] for i in res]\n",
    "res"
   ]
  },
  {
   "cell_type": "code",
   "execution_count": null,
   "id": "06d0fc9f-8896-44f9-8b69-7ebd37a65d0b",
   "metadata": {},
   "outputs": [],
   "source": [
    "import pandas as pd"
   ]
  },
  {
   "cell_type": "code",
   "execution_count": null,
   "id": "4c27223c-731d-4206-82d5-ec48787a47e1",
   "metadata": {},
   "outputs": [],
   "source": [
    "df = pd.DataFrame({'SGD_spatial_fit': res}, index=bc.astype('str'))"
   ]
  },
  {
   "cell_type": "code",
   "execution_count": null,
   "id": "8879cfd9-6630-46f1-8442-c3d1040c113f",
   "metadata": {},
   "outputs": [],
   "source": [
    "df.index.name = 'Barcodes'"
   ]
  },
  {
   "cell_type": "code",
   "execution_count": null,
   "id": "3a69dfd5-3d03-48b2-b881-7621cd10aef1",
   "metadata": {},
   "outputs": [],
   "source": [
    "df.to_csv('test_meta.tsv', sep='\\t')"
   ]
  },
  {
   "cell_type": "code",
   "execution_count": null,
   "id": "ea2a08a4-bd5f-4dd4-803b-db4bdbdb2a8c",
   "metadata": {},
   "outputs": [],
   "source": [
    "np.sum(df['SGD_spatial_fit'].values == 'fibroblast')"
   ]
  },
  {
   "cell_type": "code",
   "execution_count": null,
   "id": "5c3af561-7815-4272-9618-44f6becd58fb",
   "metadata": {},
   "outputs": [],
   "source": [
    "np.unique(df['SGD_spatial_fit'].values)"
   ]
  },
  {
   "cell_type": "code",
   "execution_count": null,
   "id": "a0853407-b800-4a1f-b627-79e9ee4bd789",
   "metadata": {},
   "outputs": [],
   "source": [
    "final_matrix.shape"
   ]
  },
  {
   "cell_type": "code",
   "execution_count": null,
   "id": "8c3d5c48-3daf-4f61-b025-192f8f83978e",
   "metadata": {},
   "outputs": [],
   "source": [
    "meta.shape"
   ]
  },
  {
   "cell_type": "code",
   "execution_count": null,
   "id": "0da88219-399f-4671-a1b6-eb6fcab8984f",
   "metadata": {},
   "outputs": [],
   "source": [
    "genes_bool"
   ]
  },
  {
   "cell_type": "code",
   "execution_count": 23,
   "id": "86f5a4e4-7885-4080-bd08-dafbaf040330",
   "metadata": {
    "execution": {
     "iopub.execute_input": "2024-01-04T11:21:29.357168Z",
     "iopub.status.busy": "2024-01-04T11:21:29.356758Z",
     "iopub.status.idle": "2024-01-04T11:21:29.395469Z",
     "shell.execute_reply": "2024-01-04T11:21:29.394893Z",
     "shell.execute_reply.started": "2024-01-04T11:21:29.357133Z"
    }
   },
   "outputs": [
    {
     "name": "stdout",
     "output_type": "stream",
     "text": [
      "1372\n",
      "5778\n",
      "3683\n",
      "2246\n"
     ]
    }
   ],
   "source": [
    "print(np.nonzero(np.array(GENES_ANNOTATION['idx2name'])[genes_bool] == 'C7')[0][0])\n",
    "print(np.nonzero(np.array(GENES_ANNOTATION['idx2name'])[genes_bool] == 'LUM')[0][0])\n",
    "print(np.nonzero(np.array(GENES_ANNOTATION['idx2name'])[genes_bool] == 'FBLN1')[0][0])\n",
    "print(np.nonzero(np.array(GENES_ANNOTATION['idx2name'])[genes_bool] == 'COL1A1')[0][0])"
   ]
  },
  {
   "cell_type": "code",
   "execution_count": 24,
   "id": "52137fd7-651b-4439-8582-8ead19229bba",
   "metadata": {
    "execution": {
     "iopub.execute_input": "2024-01-04T11:21:33.618201Z",
     "iopub.status.busy": "2024-01-04T11:21:33.617887Z",
     "iopub.status.idle": "2024-01-04T11:21:33.622659Z",
     "shell.execute_reply": "2024-01-04T11:21:33.622194Z",
     "shell.execute_reply.started": "2024-01-04T11:21:33.618183Z"
    }
   },
   "outputs": [
    {
     "data": {
      "text/plain": [
       "(4990935, 12491)"
      ]
     },
     "execution_count": 24,
     "metadata": {},
     "output_type": "execute_result"
    }
   ],
   "source": [
    "final_matrix.shape"
   ]
  },
  {
   "cell_type": "code",
   "execution_count": null,
   "id": "a77396f0-4b52-41ff-b809-0a33a21fd9ce",
   "metadata": {},
   "outputs": [],
   "source": [
    "print ('a')"
   ]
  },
  {
   "cell_type": "code",
   "execution_count": null,
   "id": "500514fc-73b3-40b7-8a4f-8e79e8f88ed9",
   "metadata": {},
   "outputs": [],
   "source": [
    "meta"
   ]
  },
  {
   "cell_type": "code",
   "execution_count": 32,
   "id": "ee27102c-6dfe-494f-ab11-bb10fa737257",
   "metadata": {
    "execution": {
     "iopub.execute_input": "2024-01-04T11:49:24.984937Z",
     "iopub.status.busy": "2024-01-04T11:49:24.984760Z",
     "iopub.status.idle": "2024-01-04T11:49:25.020593Z",
     "shell.execute_reply": "2024-01-04T11:49:25.019968Z",
     "shell.execute_reply.started": "2024-01-04T11:49:24.984919Z"
    }
   },
   "outputs": [],
   "source": [
    "fibroblast_bool = meta == 387\n",
    "fibroblast_idx = np.nonzero(fibroblast_bool)[0]"
   ]
  },
  {
   "cell_type": "code",
   "execution_count": 14,
   "id": "f040f7a2-d58a-4c99-9a85-c66035570ccc",
   "metadata": {
    "execution": {
     "iopub.execute_input": "2024-01-04T11:34:48.675673Z",
     "iopub.status.busy": "2024-01-04T11:34:48.675510Z",
     "iopub.status.idle": "2024-01-04T11:34:48.710153Z",
     "shell.execute_reply": "2024-01-04T11:34:48.709416Z",
     "shell.execute_reply.started": "2024-01-04T11:34:48.675657Z"
    }
   },
   "outputs": [
    {
     "data": {
      "text/plain": [
       "(4990935, 12491)"
      ]
     },
     "execution_count": 14,
     "metadata": {},
     "output_type": "execute_result"
    }
   ],
   "source": [
    "final_matrix.shape"
   ]
  },
  {
   "cell_type": "code",
   "execution_count": 33,
   "id": "92c80266-6d5d-4418-b749-f079db04fcdb",
   "metadata": {
    "execution": {
     "iopub.execute_input": "2024-01-04T11:49:25.021523Z",
     "iopub.status.busy": "2024-01-04T11:49:25.021357Z",
     "iopub.status.idle": "2024-01-04T11:49:27.459993Z",
     "shell.execute_reply": "2024-01-04T11:49:27.459122Z",
     "shell.execute_reply.started": "2024-01-04T11:49:25.021502Z"
    }
   },
   "outputs": [],
   "source": [
    "fibroblast_matrix = final_matrix[fibroblast_idx, :]"
   ]
  },
  {
   "cell_type": "code",
   "execution_count": 34,
   "id": "ba166052-826c-4c35-9edd-4d18c380634b",
   "metadata": {
    "execution": {
     "iopub.execute_input": "2024-01-04T11:49:27.462066Z",
     "iopub.status.busy": "2024-01-04T11:49:27.461890Z",
     "iopub.status.idle": "2024-01-04T11:49:27.472725Z",
     "shell.execute_reply": "2024-01-04T11:49:27.472035Z",
     "shell.execute_reply.started": "2024-01-04T11:49:27.462048Z"
    }
   },
   "outputs": [],
   "source": [
    "studies_idx_arr = studies_idx_arr[fibroblast_bool]"
   ]
  },
  {
   "cell_type": "code",
   "execution_count": 35,
   "id": "ec189ca3-3768-43e3-9850-e4b60bfbd7b4",
   "metadata": {
    "execution": {
     "iopub.execute_input": "2024-01-04T11:49:27.473574Z",
     "iopub.status.busy": "2024-01-04T11:49:27.473416Z",
     "iopub.status.idle": "2024-01-04T11:49:33.934815Z",
     "shell.execute_reply": "2024-01-04T11:49:33.934038Z",
     "shell.execute_reply.started": "2024-01-04T11:49:27.473558Z"
    }
   },
   "outputs": [],
   "source": [
    "t = []\n",
    "for i in [1372, 5778, 3683, 2246]:\n",
    "    for study_idx in np.unique(studies_idx_arr):\n",
    "        study_bool_idx = np.nonzero(studies_idx_arr==study_idx)[0]\n",
    "        study_count = len(study_bool_idx)\n",
    "        study_sum = np.sum(fibroblast_matrix[study_bool_idx, i].todense())\n",
    "        study_average = study_sum / study_count\n",
    "        t.append((i, study_idx, study_average))"
   ]
  },
  {
   "cell_type": "code",
   "execution_count": 36,
   "id": "ea2eee4e-e46b-4c2d-8bb3-3c9c1b87fd3b",
   "metadata": {
    "execution": {
     "iopub.execute_input": "2024-01-04T11:49:33.935829Z",
     "iopub.status.busy": "2024-01-04T11:49:33.935659Z",
     "iopub.status.idle": "2024-01-04T11:49:33.939432Z",
     "shell.execute_reply": "2024-01-04T11:49:33.938824Z",
     "shell.execute_reply.started": "2024-01-04T11:49:33.935812Z"
    }
   },
   "outputs": [],
   "source": [
    "import matplotlib.pyplot as plt\n",
    "import numpy as np"
   ]
  },
  {
   "cell_type": "code",
   "execution_count": 37,
   "id": "d71b1959-9cc7-434a-b4a5-99ca067ef7ca",
   "metadata": {
    "execution": {
     "iopub.execute_input": "2024-01-04T11:49:33.940192Z",
     "iopub.status.busy": "2024-01-04T11:49:33.940042Z",
     "iopub.status.idle": "2024-01-04T11:49:34.106772Z",
     "shell.execute_reply": "2024-01-04T11:49:34.106175Z",
     "shell.execute_reply.started": "2024-01-04T11:49:33.940177Z"
    }
   },
   "outputs": [
    {
     "data": {
      "image/png": "[encoded data removed]",
      "text/plain": [
       "<Figure size 640x480 with 1 Axes>"
      ]
     },
     "metadata": {},
     "output_type": "display_data"
    }
   ],
   "source": [
    "x = []\n",
    "y = []\n",
    "for k in t:\n",
    "    if k[0] == 1372:\n",
    "        x.append(k[1])\n",
    "        y.append(k[2])\n",
    "fig, ax = plt.subplots()\n",
    "ax.plot(x, y, 'ro')\n",
    "plt.show()"
   ]
  },
  {
   "cell_type": "code",
   "execution_count": 38,
   "id": "34019a7f-e99d-49db-9fbe-f044a57bc9e3",
   "metadata": {
    "execution": {
     "iopub.execute_input": "2024-01-04T11:49:34.107668Z",
     "iopub.status.busy": "2024-01-04T11:49:34.107458Z",
     "iopub.status.idle": "2024-01-04T11:49:34.206593Z",
     "shell.execute_reply": "2024-01-04T11:49:34.205851Z",
     "shell.execute_reply.started": "2024-01-04T11:49:34.107646Z"
    }
   },
   "outputs": [
    {
     "data": {
      "image/png": "[encoded data removed]",
      "text/plain": [
       "<Figure size 640x480 with 1 Axes>"
      ]
     },
     "metadata": {},
     "output_type": "display_data"
    }
   ],
   "source": [
    "x = []\n",
    "y = []\n",
    "for k in t:\n",
    "    if k[0] == 5778:\n",
    "        x.append(k[1])\n",
    "        y.append(k[2])\n",
    "fig, ax = plt.subplots()\n",
    "ax.plot(x, y, 'ro')\n",
    "plt.show()"
   ]
  },
  {
   "cell_type": "code",
   "execution_count": 39,
   "id": "9fc973de-a35d-4e77-890f-839ca612e086",
   "metadata": {
    "execution": {
     "iopub.execute_input": "2024-01-04T11:49:34.207492Z",
     "iopub.status.busy": "2024-01-04T11:49:34.207325Z",
     "iopub.status.idle": "2024-01-04T11:49:34.307989Z",
     "shell.execute_reply": "2024-01-04T11:49:34.307530Z",
     "shell.execute_reply.started": "2024-01-04T11:49:34.207475Z"
    }
   },
   "outputs": [
    {
     "data": {
      "image/png": "[encoded data removed]",
      "text/plain": [
       "<Figure size 640x480 with 1 Axes>"
      ]
     },
     "metadata": {},
     "output_type": "display_data"
    }
   ],
   "source": [
    "x = []\n",
    "y = []\n",
    "for k in t:\n",
    "    if k[0] == 3683:\n",
    "        x.append(k[1])\n",
    "        y.append(k[2])\n",
    "fig, ax = plt.subplots()\n",
    "ax.plot(x, y, 'ro')\n",
    "plt.show()"
   ]
  },
  {
   "cell_type": "code",
   "execution_count": 40,
   "id": "b2692174-a955-4fc6-bd6e-83742bec36ea",
   "metadata": {
    "execution": {
     "iopub.execute_input": "2024-01-04T11:49:34.308693Z",
     "iopub.status.busy": "2024-01-04T11:49:34.308533Z",
     "iopub.status.idle": "2024-01-04T11:49:34.416567Z",
     "shell.execute_reply": "2024-01-04T11:49:34.416039Z",
     "shell.execute_reply.started": "2024-01-04T11:49:34.308675Z"
    }
   },
   "outputs": [
    {
     "data": {
      "image/png": "[encoded data removed]",
      "text/plain": [
       "<Figure size 640x480 with 1 Axes>"
      ]
     },
     "metadata": {},
     "output_type": "display_data"
    }
   ],
   "source": [
    "x = []\n",
    "y = []\n",
    "for k in t:\n",
    "    if k[0] == 2246:\n",
    "        x.append(k[1])\n",
    "        y.append(k[2])\n",
    "fig, ax = plt.subplots()\n",
    "ax.plot(x, y, 'ro')\n",
    "plt.show()"
   ]
  },
  {
   "cell_type": "code",
   "execution_count": 41,
   "id": "78c5a284-527f-4184-93c2-a4631df26a60",
   "metadata": {
    "execution": {
     "iopub.execute_input": "2024-01-04T11:49:34.417680Z",
     "iopub.status.busy": "2024-01-04T11:49:34.417427Z",
     "iopub.status.idle": "2024-01-04T11:49:34.526148Z",
     "shell.execute_reply": "2024-01-04T11:49:34.525688Z",
     "shell.execute_reply.started": "2024-01-04T11:49:34.417662Z"
    }
   },
   "outputs": [
    {
     "data": {
      "image/png": "[encoded data removed]",
      "text/plain": [
       "<Figure size 640x480 with 1 Axes>"
      ]
     },
     "metadata": {},
     "output_type": "display_data"
    }
   ],
   "source": [
    "x = []\n",
    "y = []\n",
    "for k in t:\n",
    "    if k[0] == 1372:\n",
    "        x.append(k[1])\n",
    "        y.append(k[2])\n",
    "fig, ax = plt.subplots()\n",
    "ax.plot(x, y, 'ro')\n",
    "plt.show()"
   ]
  },
  {
   "cell_type": "code",
   "execution_count": null,
   "id": "0ba5085c-5919-4686-ba59-152348b6fafa",
   "metadata": {},
   "outputs": [],
   "source": [
    "list(zip(np.unique(res, return_counts=True)))"
   ]
  },
  {
   "cell_type": "code",
   "execution_count": null,
   "id": "8c726ccb-bf0f-4cba-8c23-0e7d2df4ce9f",
   "metadata": {},
   "outputs": [],
   "source": [
    "res"
   ]
  },
  {
   "cell_type": "code",
   "execution_count": null,
   "id": "a7d6394f-e717-4d5c-aa11-31eaa0a6a0a2",
   "metadata": {},
   "outputs": [],
   "source": [
    "res.shape"
   ]
  },
  {
   "cell_type": "code",
   "execution_count": null,
   "id": "91585884-0ba8-444f-89ed-4ed81c7176ce",
   "metadata": {},
   "outputs": [],
   "source": [
    "print ('a')"
   ]
  },
  {
   "cell_type": "code",
   "execution_count": null,
   "id": "99c616f1-5153-4e95-9843-ff786811afb3",
   "metadata": {},
   "outputs": [],
   "source": []
  }
 ],
 "metadata": {
  "kernelspec": {
   "display_name": "cell type prediction",
   "language": "python",
   "name": "cell-type-prediction"
  },
  "language_info": {
   "codemirror_mode": {
    "name": "ipython",
    "version": 3
   },
   "file_extension": ".py",
   "mimetype": "text/x-python",
   "name": "python",
   "nbconvert_exporter": "python",
   "pygments_lexer": "ipython3",
   "version": "3.10.9"
  }
 },
 "nbformat": 4,
 "nbformat_minor": 5
}
