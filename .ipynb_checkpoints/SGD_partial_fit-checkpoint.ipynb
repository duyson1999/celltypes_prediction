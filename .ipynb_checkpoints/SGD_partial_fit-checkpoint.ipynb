{
 "cells": [
  {
   "cell_type": "code",
   "execution_count": 46,
   "id": "67ee40f9-8652-41fc-9b00-51a80d79a76e",
   "metadata": {
    "execution": {
     "iopub.execute_input": "2024-01-09T03:17:13.419872Z",
     "iopub.status.busy": "2024-01-09T03:17:13.419359Z",
     "iopub.status.idle": "2024-01-09T03:17:13.425500Z",
     "shell.execute_reply": "2024-01-09T03:17:13.424810Z",
     "shell.execute_reply.started": "2024-01-09T03:17:13.419834Z"
    }
   },
   "outputs": [],
   "source": [
    "import h5py\n",
    "import scipy\n",
    "import numpy as np\n",
    "import os\n",
    "import zlib\n",
    "import msgpack\n",
    "from sklearn.utils import sparsefuncs\n",
    "import pickle\n",
    "\n",
    "def read_compressed_json(json_path):\n",
    "\tif not os.path.isfile(json_path):\n",
    "\t\treturn {}\n",
    "\twith open(json_path, 'rb') as f:\n",
    "\t\to = f.read()\n",
    "\t\to = zlib.decompress(o)\n",
    "\t\to = msgpack.unpackb(o, strict_map_key=False)\n",
    "\t\treturn o"
   ]
  },
  {
   "cell_type": "code",
   "execution_count": 47,
   "id": "6508a536-b731-4381-b9cb-ba670c6f5b8c",
   "metadata": {
    "execution": {
     "iopub.execute_input": "2024-01-09T03:17:13.609616Z",
     "iopub.status.busy": "2024-01-09T03:17:13.609334Z",
     "iopub.status.idle": "2024-01-09T03:17:13.711608Z",
     "shell.execute_reply": "2024-01-09T03:17:13.710933Z",
     "shell.execute_reply.started": "2024-01-09T03:17:13.609593Z"
    }
   },
   "outputs": [],
   "source": [
    "GENES_ANNOTATION = read_compressed_json('/home/ub-sonvo-25d094476064960/genes_annotation.json.gz')\n",
    "N_GENES = GENES_ANNOTATION['n_genes']\n",
    "DEFAULT_SIZE_FACTOR = 10000\n",
    "ROOT_DIR = '/home/ub-sonvo-25d094476064960/celltype_prediction'\n",
    "# TRAINED_STUDIES = open(ROOT_DIR + '/studies_idx_HVG.txt').read().splitlines()\n",
    "TRAINED_STUDIES = sorted(os.listdir('/home/ub-sonvo-25d094476064960/celltype_prediction/camel_2'))"
   ]
  },
  {
   "cell_type": "code",
   "execution_count": 59,
   "id": "800ddf93-f0e2-4306-be74-95d4e381b5ea",
   "metadata": {
    "execution": {
     "iopub.execute_input": "2024-01-09T03:39:39.685732Z",
     "iopub.status.busy": "2024-01-09T03:39:39.684837Z",
     "iopub.status.idle": "2024-01-09T03:39:39.693639Z",
     "shell.execute_reply": "2024-01-09T03:39:39.693080Z",
     "shell.execute_reply.started": "2024-01-09T03:39:39.685703Z"
    }
   },
   "outputs": [],
   "source": [
    "def _normalize_total(csr_matrix, counts):\n",
    "\tcsr_matrix = csr_matrix.astype(np.float32)\n",
    "\tcounts += counts == 0\n",
    "\tcounts = counts / 10000\n",
    "\tsparsefuncs.inplace_row_scale(csr_matrix, 1 / counts)\n",
    "\treturn csr_matrix\n",
    "\n",
    "\n",
    "def normalize_total(csr_cxg, n_genes=N_GENES):\n",
    "    csr_cxg = csr_cxg[:, :n_genes]\n",
    "    counts_per_cell = csr_cxg.sum(1)\n",
    "    counts_per_cell = np.ravel(counts_per_cell)\n",
    "\n",
    "    csr_cxg = _normalize_total(csr_cxg, counts_per_cell)\n",
    "    csr_cxg.data = np.log1p(csr_cxg.data)\n",
    "\n",
    "    return csr_cxg\n",
    "\n",
    "\n",
    "def convert_library_size(csr_cxg, n_genes=N_GENES, size_factor=DEFAULT_SIZE_FACTOR):\n",
    "    res = []\n",
    "    for i in range(50):\n",
    "        res.append(\n",
    "            np.sum(\n",
    "                np.expm1(\n",
    "                    csr_cxg.data[csr_cxg.indptr[i] : csr_cxg.indptr[i+1]]\n",
    "                )\n",
    "            )\n",
    "        )\n",
    "    res = [np.round(i) for i in res]\n",
    "    ori_size_factor = np.unique(res)\n",
    "    upper_bound = ori_size_factor[0] + ori_size_factor[0] * 0.1\n",
    "    lower_bount = ori_size_factor[0] - ori_size_factor[0] * 0.1\n",
    "\n",
    "    if np.all(ori_size_factor > lower_bount) and np.all(ori_size_factor < upper_bound):\n",
    "        csr_cxg = csr_cxg[:, :n_genes]\n",
    "        if DEFAULT_SIZE_FACTOR < upper_bound and DEFAULT_SIZE_FACTOR > lower_bount:\n",
    "            return csr_cxg\n",
    "            \n",
    "        csr_cxg.data = np.expm1(csr_cxg.data)\n",
    "        csr_cxg.data = csr_cxg.data * (DEFAULT_SIZE_FACTOR / ori_size_factor[0])\n",
    "        csr_cxg.data = np.log1p(csr_cxg.data)\n",
    "        return csr_cxg\n",
    "        \n",
    "    print('cannot find the library size:', ori_size_factor)\n",
    "    return None"
   ]
  },
  {
   "cell_type": "code",
   "execution_count": 55,
   "id": "6b30253e-2503-408b-b21a-d4fd89f9f593",
   "metadata": {
    "execution": {
     "iopub.execute_input": "2024-01-09T03:19:25.892651Z",
     "iopub.status.busy": "2024-01-09T03:19:25.892331Z",
     "iopub.status.idle": "2024-01-09T03:19:25.906182Z",
     "shell.execute_reply": "2024-01-09T03:19:25.905569Z",
     "shell.execute_reply.started": "2024-01-09T03:19:25.892625Z"
    }
   },
   "outputs": [],
   "source": [
    "genes_bool = np.load('trained_data_2/genes_bool.npy')\n",
    "original_meta_arr = np.load('trained_data_2/trained_meta_celltypes_HVG.npy')\n",
    "studies_idx_arr = np.load('trained_data_2/studies_idx_arr.npy')"
   ]
  },
  {
   "cell_type": "code",
   "execution_count": null,
   "id": "977fae69-c00d-4bff-bef0-d7182c1b24a7",
   "metadata": {},
   "outputs": [],
   "source": [
    "filtered_indptr = np.load('trained_data_2/filtered_indptr.npy')\n",
    "filtered_indices = np.load('trained_data_2/filtered_indices.npy')\n",
    "filtered_data = np.load('trained_data_2/filtered_data.npy')"
   ]
  },
  {
   "cell_type": "code",
   "execution_count": null,
   "id": "8e4f79c9-8122-4d8e-acef-34a8cc10c191",
   "metadata": {},
   "outputs": [],
   "source": [
    "for i in range(len(filtered_indptr) - 1):\n",
    "    start = filtered_indptr[i]\n",
    "    end = filtered_indptr[i + 1]\n",
    "    tmp_data = filtered_data[start : end].copy()\n",
    "    tmp_n_genes = len(tmp_data)\n",
    "    tmp_sort = np.argsort(tmp_n_genes)\n",
    "    replaced_data = np.zeros(shape=tmp_n_genes)\n",
    "    replaced_data[- np.minimum(tmp_n_genes, 5000):] = np.arange(1, 5001)[- np.minimum(tmp_n_genes, 5000):]\n",
    "    filtered_data[start : end] = replaced_data"
   ]
  },
  {
   "cell_type": "code",
   "execution_count": null,
   "id": "5253252e-fed8-4e0d-914d-acc815ff4288",
   "metadata": {},
   "outputs": [],
   "source": [
    "final_matrix = scipy.sparse.csr_matrix((filtered_data, filtered_indices, filtered_indptr), shape=(5033871, 12491))\n",
    "final_matrix = final_matrix[np.nonzero(meta != 0)[0], :]"
   ]
  },
  {
   "cell_type": "code",
   "execution_count": 56,
   "id": "1c969cca-0f90-470d-8b09-e612803c7e1f",
   "metadata": {
    "execution": {
     "iopub.execute_input": "2024-01-09T03:19:33.520506Z",
     "iopub.status.busy": "2024-01-09T03:19:33.520110Z",
     "iopub.status.idle": "2024-01-09T03:19:33.550449Z",
     "shell.execute_reply": "2024-01-09T03:19:33.549834Z",
     "shell.execute_reply.started": "2024-01-09T03:19:33.520470Z"
    }
   },
   "outputs": [],
   "source": [
    "meta = original_meta_arr[original_meta_arr != 0]"
   ]
  },
  {
   "cell_type": "code",
   "execution_count": 57,
   "id": "92c83034-a854-4746-88d0-75a64ecbeadf",
   "metadata": {
    "execution": {
     "iopub.execute_input": "2024-01-09T03:19:33.551493Z",
     "iopub.status.busy": "2024-01-09T03:19:33.551335Z",
     "iopub.status.idle": "2024-01-09T03:19:33.696006Z",
     "shell.execute_reply": "2024-01-09T03:19:33.695491Z",
     "shell.execute_reply.started": "2024-01-09T03:19:33.551475Z"
    }
   },
   "outputs": [],
   "source": [
    "class_idx, class_count = np.unique(meta, return_counts=True)\n",
    "class_weight_dct = {class_idx[i]: len(meta) / (len(class_idx) * class_count[i]) for i in range(len(class_idx))}"
   ]
  },
  {
   "cell_type": "code",
   "execution_count": 74,
   "id": "d605a794-eaf2-4cd6-9549-287371a05282",
   "metadata": {
    "execution": {
     "iopub.execute_input": "2024-01-09T04:13:37.992932Z",
     "iopub.status.busy": "2024-01-09T04:13:37.992393Z",
     "iopub.status.idle": "2024-01-09T04:13:37.997328Z",
     "shell.execute_reply": "2024-01-09T04:13:37.996741Z",
     "shell.execute_reply.started": "2024-01-09T04:13:37.992897Z"
    }
   },
   "outputs": [],
   "source": [
    "import numpy as np\n",
    "from sklearn import linear_model\n",
    "clf = linear_model.SGDClassifier(\n",
    "    loss='modified_huber',\n",
    "    random_state=100,\n",
    "    class_weight=class_weight_dct\n",
    ")"
   ]
  },
  {
   "cell_type": "code",
   "execution_count": 61,
   "id": "6d39a588-408f-4e63-ba5e-6b2035549d07",
   "metadata": {
    "execution": {
     "iopub.execute_input": "2024-01-09T03:54:56.633743Z",
     "iopub.status.busy": "2024-01-09T03:54:56.633324Z",
     "iopub.status.idle": "2024-01-09T03:54:56.641656Z",
     "shell.execute_reply": "2024-01-09T03:54:56.641120Z",
     "shell.execute_reply.started": "2024-01-09T03:54:56.633704Z"
    },
    "scrolled": true
   },
   "outputs": [
    {
     "data": {
      "text/plain": [
       "['1640',\n",
       " '1647',\n",
       " '1668',\n",
       " '1671',\n",
       " '1682',\n",
       " '1683',\n",
       " '1694',\n",
       " '1697',\n",
       " '1699',\n",
       " '1703',\n",
       " '1725',\n",
       " '1731',\n",
       " '1736',\n",
       " '1749',\n",
       " '1752',\n",
       " '1782',\n",
       " '1799',\n",
       " '1810',\n",
       " '1821',\n",
       " '1834',\n",
       " '1842',\n",
       " '1848',\n",
       " '1853',\n",
       " '1884',\n",
       " '1888',\n",
       " '1915',\n",
       " '1958',\n",
       " '1962',\n",
       " '1975',\n",
       " '1977',\n",
       " '1980',\n",
       " '2003',\n",
       " '2010',\n",
       " '2025',\n",
       " '2054',\n",
       " '2058',\n",
       " '2071',\n",
       " '2085',\n",
       " '2088',\n",
       " '2136',\n",
       " '2142',\n",
       " '2155',\n",
       " '2167',\n",
       " '2175',\n",
       " '2207',\n",
       " '2232',\n",
       " '2234',\n",
       " '2236',\n",
       " '2238',\n",
       " '2243',\n",
       " '2249',\n",
       " '2260',\n",
       " '2261',\n",
       " '2274',\n",
       " '2280',\n",
       " '2281',\n",
       " '2298',\n",
       " '2311',\n",
       " '2334',\n",
       " '2344',\n",
       " '2360',\n",
       " '2377',\n",
       " '2379',\n",
       " '2394',\n",
       " '2400',\n",
       " '2411',\n",
       " '2413',\n",
       " '2448',\n",
       " '2453',\n",
       " '2472',\n",
       " '2475',\n",
       " '2487',\n",
       " '2517',\n",
       " '2518',\n",
       " '2532',\n",
       " '2541',\n",
       " '2545',\n",
       " '2572',\n",
       " '2576',\n",
       " '2580',\n",
       " '2598',\n",
       " '2607',\n",
       " '2615',\n",
       " '2630',\n",
       " '2647',\n",
       " '2649',\n",
       " '2694',\n",
       " '2700',\n",
       " '2706',\n",
       " '2713',\n",
       " '2720',\n",
       " '2733',\n",
       " '2734',\n",
       " '2744',\n",
       " '2755',\n",
       " '2762',\n",
       " '2775',\n",
       " '2797',\n",
       " '2803',\n",
       " '2804',\n",
       " '2819',\n",
       " '2827',\n",
       " '2846',\n",
       " '2849',\n",
       " '2870',\n",
       " '2880',\n",
       " '2892',\n",
       " '2893',\n",
       " '2897',\n",
       " '2904',\n",
       " '2912',\n",
       " '2915',\n",
       " '2917',\n",
       " '2934',\n",
       " '2939',\n",
       " '2959',\n",
       " '3004',\n",
       " '3009',\n",
       " '3024',\n",
       " '3026',\n",
       " '3031',\n",
       " '3044',\n",
       " '3046',\n",
       " '3058',\n",
       " '3059',\n",
       " '3071',\n",
       " '3075',\n",
       " '3085',\n",
       " '3091',\n",
       " '3096',\n",
       " '3105',\n",
       " '3127',\n",
       " '3132',\n",
       " '3138',\n",
       " '3139',\n",
       " '3150',\n",
       " '3156',\n",
       " '3175',\n",
       " '3177',\n",
       " '3185',\n",
       " '3190',\n",
       " '3194',\n",
       " '3222',\n",
       " '3236',\n",
       " '3250',\n",
       " '3266',\n",
       " '3277',\n",
       " '3281',\n",
       " '3285',\n",
       " '3289']"
      ]
     },
     "execution_count": 61,
     "metadata": {},
     "output_type": "execute_result"
    }
   ],
   "source": [
    "TRAINED_STUDIES"
   ]
  },
  {
   "cell_type": "code",
   "execution_count": 67,
   "id": "1798c404-62bf-49f1-8651-3b29bc39b1a2",
   "metadata": {
    "execution": {
     "iopub.execute_input": "2024-01-09T04:03:19.722419Z",
     "iopub.status.busy": "2024-01-09T04:03:19.721341Z",
     "iopub.status.idle": "2024-01-09T04:03:19.728396Z",
     "shell.execute_reply": "2024-01-09T04:03:19.727719Z",
     "shell.execute_reply.started": "2024-01-09T04:03:19.722383Z"
    }
   },
   "outputs": [
    {
     "data": {
      "text/plain": [
       "array([   6,  108,  193,  278,  342,  359,  387,  413,  490,  613,  616,\n",
       "        642,  754,  799,  826,  861,  977,  993,  997, 1113, 1579, 1580,\n",
       "       1807, 1814, 1874, 1988, 1994], dtype=uint16)"
      ]
     },
     "execution_count": 67,
     "metadata": {},
     "output_type": "execute_result"
    }
   ],
   "source": [
    "class_idx"
   ]
  },
  {
   "cell_type": "code",
   "execution_count": 76,
   "id": "8b578a2f-738f-47e5-82f7-aebeeb5ea12a",
   "metadata": {
    "execution": {
     "iopub.execute_input": "2024-01-09T04:35:53.580543Z",
     "iopub.status.busy": "2024-01-09T04:35:53.579914Z",
     "iopub.status.idle": "2024-01-09T04:35:53.585671Z",
     "shell.execute_reply": "2024-01-09T04:35:53.584968Z",
     "shell.execute_reply.started": "2024-01-09T04:35:53.580498Z"
    }
   },
   "outputs": [],
   "source": [
    "hdf5_path = os.path.join(ROOT_DIR, 'camel_2', str(2706), 'raw.hdf5')\n",
    "k = h5py.File(hdf5_path)"
   ]
  },
  {
   "cell_type": "code",
   "execution_count": 77,
   "id": "21ce816a-013c-48ee-931a-0b1fea931085",
   "metadata": {
    "execution": {
     "iopub.execute_input": "2024-01-09T04:36:05.856167Z",
     "iopub.status.busy": "2024-01-09T04:36:05.855617Z",
     "iopub.status.idle": "2024-01-09T04:36:05.862737Z",
     "shell.execute_reply": "2024-01-09T04:36:05.862003Z",
     "shell.execute_reply.started": "2024-01-09T04:36:05.856139Z"
    }
   },
   "outputs": [
    {
     "data": {
      "text/plain": [
       "<KeysViewHDF5 ['indices', 'indptr', 'lognorm']>"
      ]
     },
     "execution_count": 77,
     "metadata": {},
     "output_type": "execute_result"
    }
   ],
   "source": [
    "k['expression'].keys()"
   ]
  },
  {
   "cell_type": "code",
   "execution_count": 79,
   "id": "170fbe96-816c-4bfd-8cab-8dd96a0b9942",
   "metadata": {
    "execution": {
     "iopub.execute_input": "2024-01-09T05:27:00.006117Z",
     "iopub.status.busy": "2024-01-09T05:27:00.005424Z",
     "iopub.status.idle": "2024-01-09T05:27:00.010806Z",
     "shell.execute_reply": "2024-01-09T05:27:00.009965Z",
     "shell.execute_reply.started": "2024-01-09T05:27:00.006093Z"
    }
   },
   "outputs": [
    {
     "data": {
      "text/plain": [
       "88"
      ]
     },
     "execution_count": 79,
     "metadata": {},
     "output_type": "execute_result"
    }
   ],
   "source": [
    "TRAINED_STUDIES.index('2706')"
   ]
  },
  {
   "cell_type": "code",
   "execution_count": 75,
   "id": "35ebd64d-06ec-4ab1-935a-4660a433e49f",
   "metadata": {
    "execution": {
     "iopub.execute_input": "2024-01-09T04:13:40.189937Z",
     "iopub.status.busy": "2024-01-09T04:13:40.189587Z",
     "iopub.status.idle": "2024-01-09T04:22:31.189109Z",
     "shell.execute_reply": "2024-01-09T04:22:31.188089Z",
     "shell.execute_reply.started": "2024-01-09T04:13:40.189906Z"
    },
    "scrolled": true
   },
   "outputs": [
    {
     "name": "stdout",
     "output_type": "stream",
     "text": [
      "1640 - start\n",
      "1640 - create_matrix\n",
      "1640 - lognormalize matrix\n",
      "1640 - partial_fit\n",
      "1647 - start\n",
      "1647 - create_matrix\n",
      "1647 - lognormalize matrix\n",
      "1647 - partial_fit\n",
      "1668 - start\n",
      "1668 - create_matrix\n",
      "1668 - lognormalize matrix\n",
      "1668 - partial_fit\n",
      "1671 - start\n",
      "1671 - create_matrix\n",
      "1671 - lognormalize matrix\n",
      "1671 - partial_fit\n",
      "1682 - start\n",
      "1682 - create_matrix\n",
      "1682 - lognormalize matrix\n",
      "1682 - partial_fit\n",
      "1683 - start\n",
      "1683 - create_matrix\n",
      "1683 - lognormalize matrix\n",
      "1683 - partial_fit\n",
      "1694 - start\n",
      "1694 - create_matrix\n",
      "1694 - lognormalize matrix\n",
      "1694 - partial_fit\n",
      "1697 - start\n",
      "1697 - create_matrix\n",
      "1697 - lognormalize matrix\n",
      "1697 - partial_fit\n",
      "1699 - start\n",
      "1699 - create_matrix\n",
      "1699 - lognormalize matrix\n",
      "1699 - partial_fit\n",
      "1703 - start\n",
      "1703 - create_matrix\n",
      "1703 - lognormalize matrix\n",
      "1703 - partial_fit\n",
      "1725 - start\n",
      "!!!!!WARNING: No metadata, skip study: 1725\n",
      "1731 - start\n",
      "1731 - create_matrix\n",
      "1731 - lognormalize matrix\n",
      "1731 - partial_fit\n",
      "1736 - start\n",
      "1736 - create_matrix\n",
      "1736 - lognormalize matrix\n",
      "1736 - partial_fit\n",
      "1749 - start\n",
      "1749 - create_matrix\n",
      "1749 - lognormalize matrix\n",
      "1749 - partial_fit\n",
      "1752 - start\n",
      "1752 - create_matrix\n",
      "1752 - lognormalize matrix\n",
      "1752 - partial_fit\n",
      "1782 - start\n",
      "1782 - create_matrix\n",
      "1782 - lognormalize matrix\n",
      "1782 - partial_fit\n",
      "1799 - start\n",
      "1799 - create_matrix\n",
      "1799 - lognormalize matrix\n",
      "cannot find the library size: [ 5853.  6557.  6676.  6735.  6801.  6952.  7017.  7362.  7406.  7427.\n",
      "  8012.  8034.  8142.  8337.  8679.  9018.  9257.  9432.  9507.  9673.\n",
      "  9765. 10083. 10189. 10591. 10790. 11397. 11445. 11640. 11673. 11727.\n",
      " 11808. 11819. 11984. 12170. 12385. 12582. 12889. 13191. 13755. 13898.\n",
      " 14072. 14102. 14169. 14684. 14928. 15259. 17342. 24176. 29619. 31537.]\n",
      "!!!!!WARNING: Cannot lognormalize, Skip study: 1799\n",
      "1810 - start\n",
      "1810 - create_matrix\n",
      "1810 - lognormalize matrix\n",
      "1810 - partial_fit\n",
      "1821 - start\n",
      "1821 - create_matrix\n",
      "1821 - lognormalize matrix\n",
      "1821 - partial_fit\n",
      "1834 - start\n",
      "1834 - create_matrix\n",
      "1834 - lognormalize matrix\n",
      "1834 - partial_fit\n",
      "1842 - start\n",
      "1842 - create_matrix\n",
      "1842 - lognormalize matrix\n",
      "1842 - partial_fit\n",
      "1848 - start\n",
      "1848 - create_matrix\n",
      "1848 - lognormalize matrix\n",
      "1848 - partial_fit\n",
      "1853 - start\n",
      "1853 - create_matrix\n",
      "1853 - lognormalize matrix\n",
      "1853 - partial_fit\n",
      "1884 - start\n",
      "1884 - create_matrix\n",
      "1884 - lognormalize matrix\n",
      "1884 - partial_fit\n",
      "1888 - start\n",
      "1888 - create_matrix\n",
      "1888 - lognormalize matrix\n",
      "1888 - partial_fit\n",
      "1915 - start\n",
      "1915 - create_matrix\n",
      "1915 - lognormalize matrix\n",
      "cannot find the library size: [ 831628. 1072012. 1172910. 1215933. 1221009. 1225588. 1291020. 1311170.\n",
      " 1326642. 1326838. 1334476. 1340150. 1361244. 1363346. 1363909. 1376747.\n",
      " 1378348. 1396353. 1398726. 1413057. 1429349. 1437509. 1439651. 1448970.\n",
      " 1449416. 1454908. 1461656. 1471187. 1497070. 1499500. 1517006. 1517952.\n",
      " 1526030. 1533975. 1543744. 1544753. 1546934. 1550052. 1553170. 1570854.\n",
      " 1633957. 1659007. 1699284. 1746382. 1748887. 1823706. 1839862. 1920902.\n",
      " 2000862. 2012011.]\n",
      "!!!!!WARNING: Cannot lognormalize, Skip study: 1915\n",
      "1958 - start\n",
      "1958 - create_matrix\n",
      "1958 - lognormalize matrix\n",
      "1958 - partial_fit\n",
      "1962 - start\n",
      "1962 - create_matrix\n",
      "1962 - lognormalize matrix\n",
      "1962 - partial_fit\n",
      "1975 - start\n",
      "1975 - create_matrix\n",
      "1975 - lognormalize matrix\n",
      "1975 - partial_fit\n",
      "1977 - start\n",
      "1977 - create_matrix\n",
      "1977 - lognormalize matrix\n",
      "1977 - partial_fit\n",
      "1980 - start\n",
      "1980 - create_matrix\n",
      "1980 - lognormalize matrix\n",
      "1980 - partial_fit\n",
      "2003 - start\n",
      "2003 - create_matrix\n",
      "2003 - lognormalize matrix\n",
      "2003 - partial_fit\n",
      "2010 - start\n",
      "2010 - create_matrix\n",
      "2010 - lognormalize matrix\n",
      "2010 - partial_fit\n",
      "2025 - start\n",
      "!!!!!WARNING: No metadata, skip study: 2025\n",
      "2054 - start\n",
      "2054 - create_matrix\n",
      "2054 - lognormalize matrix\n",
      "2054 - partial_fit\n",
      "2058 - start\n",
      "2058 - create_matrix\n",
      "2058 - lognormalize matrix\n",
      "2058 - partial_fit\n",
      "2071 - start\n",
      "2071 - create_matrix\n",
      "2071 - lognormalize matrix\n",
      "2071 - partial_fit\n",
      "2085 - start\n",
      "!!!!!WARNING: No metadata, skip study: 2085\n",
      "2088 - start\n",
      "2088 - create_matrix\n",
      "2088 - lognormalize matrix\n",
      "2088 - partial_fit\n",
      "2136 - start\n",
      "2136 - create_matrix\n",
      "2136 - lognormalize matrix\n",
      "2136 - partial_fit\n",
      "2142 - start\n",
      "2142 - create_matrix\n",
      "2142 - lognormalize matrix\n",
      "2142 - partial_fit\n",
      "2155 - start\n",
      "!!!!!WARNING: No metadata, skip study: 2155\n",
      "2167 - start\n",
      "2167 - create_matrix\n",
      "2167 - lognormalize matrix\n",
      "2167 - partial_fit\n",
      "2175 - start\n",
      "!!!!!WARNING: No metadata, skip study: 2175\n",
      "2207 - start\n",
      "2207 - create_matrix\n",
      "2207 - lognormalize matrix\n",
      "2207 - partial_fit\n",
      "2232 - start\n",
      "2232 - create_matrix\n",
      "2232 - lognormalize matrix\n",
      "2232 - partial_fit\n",
      "2234 - start\n",
      "2234 - create_matrix\n",
      "2234 - lognormalize matrix\n",
      "2234 - partial_fit\n",
      "2236 - start\n",
      "2236 - create_matrix\n",
      "2236 - lognormalize matrix\n",
      "2236 - partial_fit\n",
      "2238 - start\n",
      "2238 - create_matrix\n",
      "2238 - lognormalize matrix\n",
      "2238 - partial_fit\n",
      "2243 - start\n",
      "2243 - create_matrix\n",
      "2243 - lognormalize matrix\n",
      "2243 - partial_fit\n",
      "2249 - start\n",
      "2249 - create_matrix\n",
      "2249 - lognormalize matrix\n",
      "2249 - partial_fit\n",
      "2260 - start\n",
      "2260 - create_matrix\n",
      "2260 - lognormalize matrix\n",
      "2260 - partial_fit\n",
      "2261 - start\n",
      "2261 - create_matrix\n",
      "2261 - lognormalize matrix\n",
      "2261 - partial_fit\n",
      "2274 - start\n",
      "2274 - create_matrix\n",
      "2274 - lognormalize matrix\n",
      "2274 - partial_fit\n",
      "2280 - start\n",
      "2280 - create_matrix\n",
      "2280 - lognormalize matrix\n",
      "2280 - partial_fit\n",
      "2281 - start\n",
      "2281 - create_matrix\n",
      "2281 - lognormalize matrix\n",
      "2281 - partial_fit\n",
      "2298 - start\n",
      "2298 - create_matrix\n",
      "2298 - lognormalize matrix\n",
      "2298 - partial_fit\n",
      "2311 - start\n",
      "2311 - create_matrix\n",
      "2311 - lognormalize matrix\n",
      "2311 - partial_fit\n",
      "2334 - start\n",
      "2334 - create_matrix\n",
      "2334 - lognormalize matrix\n",
      "2334 - partial_fit\n",
      "2344 - start\n",
      "!!!!!WARNING: No metadata, skip study: 2344\n",
      "2360 - start\n",
      "!!!!!WARNING: No metadata, skip study: 2360\n",
      "2377 - start\n",
      "2377 - create_matrix\n",
      "2377 - lognormalize matrix\n",
      "2377 - partial_fit\n",
      "2379 - start\n",
      "2379 - create_matrix\n",
      "2379 - lognormalize matrix\n",
      "2379 - partial_fit\n",
      "2394 - start\n",
      "2394 - create_matrix\n",
      "2394 - lognormalize matrix\n",
      "2394 - partial_fit\n",
      "2400 - start\n",
      "2400 - create_matrix\n",
      "2400 - lognormalize matrix\n",
      "2400 - partial_fit\n",
      "2411 - start\n",
      "2411 - create_matrix\n",
      "2411 - lognormalize matrix\n",
      "2411 - partial_fit\n",
      "2413 - start\n",
      "2413 - create_matrix\n",
      "2413 - lognormalize matrix\n",
      "2413 - partial_fit\n",
      "2448 - start\n",
      "2448 - create_matrix\n",
      "2448 - lognormalize matrix\n",
      "2448 - partial_fit\n",
      "2453 - start\n",
      "2453 - create_matrix\n",
      "2453 - lognormalize matrix\n",
      "2453 - partial_fit\n",
      "2472 - start\n",
      "2472 - create_matrix\n",
      "2472 - lognormalize matrix\n",
      "2472 - partial_fit\n",
      "2475 - start\n",
      "2475 - create_matrix\n",
      "2475 - lognormalize matrix\n",
      "2475 - partial_fit\n",
      "2487 - start\n",
      "2487 - create_matrix\n",
      "2487 - lognormalize matrix\n",
      "2487 - partial_fit\n",
      "2517 - start\n",
      "2517 - create_matrix\n",
      "2517 - lognormalize matrix\n",
      "2517 - partial_fit\n",
      "2518 - start\n",
      "2518 - create_matrix\n",
      "2518 - lognormalize matrix\n",
      "2518 - partial_fit\n",
      "2532 - start\n",
      "2532 - create_matrix\n",
      "2532 - lognormalize matrix\n",
      "2532 - partial_fit\n",
      "2541 - start\n",
      "2541 - create_matrix\n",
      "2541 - lognormalize matrix\n",
      "2541 - partial_fit\n",
      "2545 - start\n",
      "!!!!!WARNING: No metadata, skip study: 2545\n",
      "2572 - start\n",
      "2572 - create_matrix\n",
      "2572 - lognormalize matrix\n",
      "2572 - partial_fit\n",
      "2576 - start\n",
      "2576 - create_matrix\n",
      "2576 - lognormalize matrix\n",
      "2576 - partial_fit\n",
      "2580 - start\n",
      "2580 - create_matrix\n",
      "2580 - lognormalize matrix\n",
      "2580 - partial_fit\n",
      "2598 - start\n",
      "2598 - create_matrix\n",
      "2598 - lognormalize matrix\n",
      "2598 - partial_fit\n",
      "2607 - start\n",
      "2607 - create_matrix\n",
      "2607 - lognormalize matrix\n",
      "2607 - partial_fit\n",
      "2615 - start\n",
      "2615 - create_matrix\n",
      "2615 - lognormalize matrix\n",
      "2615 - partial_fit\n",
      "2630 - start\n",
      "2630 - create_matrix\n",
      "2630 - lognormalize matrix\n",
      "2630 - partial_fit\n",
      "2647 - start\n",
      "2647 - create_matrix\n",
      "2647 - lognormalize matrix\n",
      "2647 - partial_fit\n",
      "2649 - start\n",
      "2649 - create_matrix\n",
      "2649 - lognormalize matrix\n",
      "2649 - partial_fit\n",
      "2694 - start\n",
      "2694 - create_matrix\n",
      "2694 - lognormalize matrix\n",
      "2694 - partial_fit\n",
      "2700 - start\n",
      "2700 - create_matrix\n",
      "2700 - lognormalize matrix\n",
      "2700 - partial_fit\n",
      "2706 - start\n"
     ]
    },
    {
     "ename": "KeyError",
     "evalue": "\"Unable to synchronously open object (object 'data' doesn't exist)\"",
     "output_type": "error",
     "traceback": [
      "\u001b[0;31m---------------------------------------------------------------------------\u001b[0m",
      "\u001b[0;31mKeyError\u001b[0m                                  Traceback (most recent call last)",
      "Cell \u001b[0;32mIn[75], line 19\u001b[0m\n\u001b[1;32m     18\u001b[0m \u001b[38;5;28;01mtry\u001b[39;00m:\n\u001b[0;32m---> 19\u001b[0m     raw \u001b[38;5;241m=\u001b[39m \u001b[43mf\u001b[49m\u001b[43m[\u001b[49m\u001b[38;5;124;43m'\u001b[39;49m\u001b[38;5;124;43mexpression\u001b[39;49m\u001b[38;5;124;43m'\u001b[39;49m\u001b[43m]\u001b[49m\u001b[43m[\u001b[49m\u001b[38;5;124;43m'\u001b[39;49m\u001b[38;5;124;43mraw\u001b[39;49m\u001b[38;5;124;43m'\u001b[39;49m\u001b[43m]\u001b[49m[()]\u001b[38;5;241m.\u001b[39mastype(np\u001b[38;5;241m.\u001b[39mfloat32)\n\u001b[1;32m     20\u001b[0m \u001b[38;5;28;01mexcept\u001b[39;00m:\n",
      "File \u001b[0;32mh5py/_objects.pyx:54\u001b[0m, in \u001b[0;36mh5py._objects.with_phil.wrapper\u001b[0;34m()\u001b[0m\n",
      "File \u001b[0;32mh5py/_objects.pyx:55\u001b[0m, in \u001b[0;36mh5py._objects.with_phil.wrapper\u001b[0;34m()\u001b[0m\n",
      "File \u001b[0;32m~/.conda/envs/cell-type-prediction/lib/python3.10/site-packages/h5py/_hl/group.py:357\u001b[0m, in \u001b[0;36mGroup.__getitem__\u001b[0;34m(self, name)\u001b[0m\n\u001b[1;32m    356\u001b[0m \u001b[38;5;28;01melif\u001b[39;00m \u001b[38;5;28misinstance\u001b[39m(name, (\u001b[38;5;28mbytes\u001b[39m, \u001b[38;5;28mstr\u001b[39m)):\n\u001b[0;32m--> 357\u001b[0m     oid \u001b[38;5;241m=\u001b[39m \u001b[43mh5o\u001b[49m\u001b[38;5;241;43m.\u001b[39;49m\u001b[43mopen\u001b[49m\u001b[43m(\u001b[49m\u001b[38;5;28;43mself\u001b[39;49m\u001b[38;5;241;43m.\u001b[39;49m\u001b[43mid\u001b[49m\u001b[43m,\u001b[49m\u001b[43m \u001b[49m\u001b[38;5;28;43mself\u001b[39;49m\u001b[38;5;241;43m.\u001b[39;49m\u001b[43m_e\u001b[49m\u001b[43m(\u001b[49m\u001b[43mname\u001b[49m\u001b[43m)\u001b[49m\u001b[43m,\u001b[49m\u001b[43m \u001b[49m\u001b[43mlapl\u001b[49m\u001b[38;5;241;43m=\u001b[39;49m\u001b[38;5;28;43mself\u001b[39;49m\u001b[38;5;241;43m.\u001b[39;49m\u001b[43m_lapl\u001b[49m\u001b[43m)\u001b[49m\n\u001b[1;32m    358\u001b[0m \u001b[38;5;28;01melse\u001b[39;00m:\n",
      "File \u001b[0;32mh5py/_objects.pyx:54\u001b[0m, in \u001b[0;36mh5py._objects.with_phil.wrapper\u001b[0;34m()\u001b[0m\n",
      "File \u001b[0;32mh5py/_objects.pyx:55\u001b[0m, in \u001b[0;36mh5py._objects.with_phil.wrapper\u001b[0;34m()\u001b[0m\n",
      "File \u001b[0;32mh5py/h5o.pyx:189\u001b[0m, in \u001b[0;36mh5py.h5o.open\u001b[0;34m()\u001b[0m\n",
      "\u001b[0;31mKeyError\u001b[0m: \"Unable to synchronously open object (object 'raw' doesn't exist)\"",
      "\nDuring handling of the above exception, another exception occurred:\n",
      "\u001b[0;31mKeyError\u001b[0m                                  Traceback (most recent call last)",
      "Cell \u001b[0;32mIn[75], line 21\u001b[0m\n\u001b[1;32m     19\u001b[0m         raw \u001b[38;5;241m=\u001b[39m f[\u001b[38;5;124m'\u001b[39m\u001b[38;5;124mexpression\u001b[39m\u001b[38;5;124m'\u001b[39m][\u001b[38;5;124m'\u001b[39m\u001b[38;5;124mraw\u001b[39m\u001b[38;5;124m'\u001b[39m][()]\u001b[38;5;241m.\u001b[39mastype(np\u001b[38;5;241m.\u001b[39mfloat32)\n\u001b[1;32m     20\u001b[0m     \u001b[38;5;28;01mexcept\u001b[39;00m:\n\u001b[0;32m---> 21\u001b[0m         raw \u001b[38;5;241m=\u001b[39m \u001b[43mf\u001b[49m\u001b[43m[\u001b[49m\u001b[38;5;124;43m'\u001b[39;49m\u001b[38;5;124;43mexpression\u001b[39;49m\u001b[38;5;124;43m'\u001b[39;49m\u001b[43m]\u001b[49m\u001b[43m[\u001b[49m\u001b[38;5;124;43m'\u001b[39;49m\u001b[38;5;124;43mdata\u001b[39;49m\u001b[38;5;124;43m'\u001b[39;49m\u001b[43m]\u001b[49m[()]\u001b[38;5;241m.\u001b[39mastype(np\u001b[38;5;241m.\u001b[39mfloat32)\n\u001b[1;32m     23\u001b[0m \u001b[38;5;28mprint\u001b[39m(study_idx, \u001b[38;5;124m'\u001b[39m\u001b[38;5;124m- create_matrix\u001b[39m\u001b[38;5;124m'\u001b[39m)\n\u001b[1;32m     24\u001b[0m tmp_mtx \u001b[38;5;241m=\u001b[39m scipy\u001b[38;5;241m.\u001b[39msparse\u001b[38;5;241m.\u001b[39mcsr_matrix((raw, indices, indptr), shape\u001b[38;5;241m=\u001b[39m(\u001b[38;5;28mlen\u001b[39m(fe), \u001b[38;5;28mlen\u001b[39m(bc)))\n",
      "File \u001b[0;32mh5py/_objects.pyx:54\u001b[0m, in \u001b[0;36mh5py._objects.with_phil.wrapper\u001b[0;34m()\u001b[0m\n",
      "File \u001b[0;32mh5py/_objects.pyx:55\u001b[0m, in \u001b[0;36mh5py._objects.with_phil.wrapper\u001b[0;34m()\u001b[0m\n",
      "File \u001b[0;32m~/.conda/envs/cell-type-prediction/lib/python3.10/site-packages/h5py/_hl/group.py:357\u001b[0m, in \u001b[0;36mGroup.__getitem__\u001b[0;34m(self, name)\u001b[0m\n\u001b[1;32m    355\u001b[0m         \u001b[38;5;28;01mraise\u001b[39;00m \u001b[38;5;167;01mValueError\u001b[39;00m(\u001b[38;5;124m\"\u001b[39m\u001b[38;5;124mInvalid HDF5 object reference\u001b[39m\u001b[38;5;124m\"\u001b[39m)\n\u001b[1;32m    356\u001b[0m \u001b[38;5;28;01melif\u001b[39;00m \u001b[38;5;28misinstance\u001b[39m(name, (\u001b[38;5;28mbytes\u001b[39m, \u001b[38;5;28mstr\u001b[39m)):\n\u001b[0;32m--> 357\u001b[0m     oid \u001b[38;5;241m=\u001b[39m \u001b[43mh5o\u001b[49m\u001b[38;5;241;43m.\u001b[39;49m\u001b[43mopen\u001b[49m\u001b[43m(\u001b[49m\u001b[38;5;28;43mself\u001b[39;49m\u001b[38;5;241;43m.\u001b[39;49m\u001b[43mid\u001b[49m\u001b[43m,\u001b[49m\u001b[43m \u001b[49m\u001b[38;5;28;43mself\u001b[39;49m\u001b[38;5;241;43m.\u001b[39;49m\u001b[43m_e\u001b[49m\u001b[43m(\u001b[49m\u001b[43mname\u001b[49m\u001b[43m)\u001b[49m\u001b[43m,\u001b[49m\u001b[43m \u001b[49m\u001b[43mlapl\u001b[49m\u001b[38;5;241;43m=\u001b[39;49m\u001b[38;5;28;43mself\u001b[39;49m\u001b[38;5;241;43m.\u001b[39;49m\u001b[43m_lapl\u001b[49m\u001b[43m)\u001b[49m\n\u001b[1;32m    358\u001b[0m \u001b[38;5;28;01melse\u001b[39;00m:\n\u001b[1;32m    359\u001b[0m     \u001b[38;5;28;01mraise\u001b[39;00m \u001b[38;5;167;01mTypeError\u001b[39;00m(\u001b[38;5;124m\"\u001b[39m\u001b[38;5;124mAccessing a group is done with bytes or str, \u001b[39m\u001b[38;5;124m\"\u001b[39m\n\u001b[1;32m    360\u001b[0m                     \u001b[38;5;124m\"\u001b[39m\u001b[38;5;124mnot \u001b[39m\u001b[38;5;132;01m{}\u001b[39;00m\u001b[38;5;124m\"\u001b[39m\u001b[38;5;241m.\u001b[39mformat(\u001b[38;5;28mtype\u001b[39m(name)))\n",
      "File \u001b[0;32mh5py/_objects.pyx:54\u001b[0m, in \u001b[0;36mh5py._objects.with_phil.wrapper\u001b[0;34m()\u001b[0m\n",
      "File \u001b[0;32mh5py/_objects.pyx:55\u001b[0m, in \u001b[0;36mh5py._objects.with_phil.wrapper\u001b[0;34m()\u001b[0m\n",
      "File \u001b[0;32mh5py/h5o.pyx:189\u001b[0m, in \u001b[0;36mh5py.h5o.open\u001b[0;34m()\u001b[0m\n",
      "\u001b[0;31mKeyError\u001b[0m: \"Unable to synchronously open object (object 'data' doesn't exist)\""
     ]
    }
   ],
   "source": [
    "for i in range(len(TRAINED_STUDIES)):\n",
    "    study_idx = TRAINED_STUDIES[i]\n",
    "    \n",
    "    print(study_idx, '- start')\n",
    "    \n",
    "    tmp_meta_arr = original_meta_arr[studies_idx_arr == i]\n",
    "    tmp_cell_bool = tmp_meta_arr > 0\n",
    "    if np.sum(tmp_cell_bool) == 0:\n",
    "        print ('!!!!!WARNING: No metadata, skip study:', study_idx)\n",
    "        continue\n",
    "    \n",
    "    hdf5_path = os.path.join(ROOT_DIR, 'camel_2', str(study_idx), 'raw.hdf5')\n",
    "    with h5py.File(hdf5_path) as f:\n",
    "        bc = f['barcodes'][()]\n",
    "        fe = f['features'][()]\n",
    "        indptr = f['expression']['indptr'][()].astype(np.int32)\n",
    "        indices = f['expression']['indices'][()].astype(np.int32)\n",
    "        try:\n",
    "            raw = f['expression']['raw'][()].astype(np.float32)\n",
    "        except:\n",
    "            raw = f['expression']['lognorm'][()].astype(np.float32)\n",
    "\n",
    "    print(study_idx, '- create_matrix')\n",
    "    tmp_mtx = scipy.sparse.csr_matrix((raw, indices, indptr), shape=(len(fe), len(bc)))\n",
    "    tmp_mtx = tmp_mtx.T.tocsr()\n",
    "\n",
    "    print(study_idx, '- lognormalize matrix')\n",
    "    is_raw_matrix = False\n",
    "    if (not np.all(raw.astype('int') == raw) and np.sum(raw > 30) > 0) or np.all(raw.astype('int') == raw):\n",
    "        is_raw_matrix = True\n",
    "\n",
    "    if is_raw_matrix:\n",
    "        tmp_mtx = normalize_total(tmp_mtx)\n",
    "    else:\n",
    "        tmp_mtx = convert_library_size(tmp_mtx)\n",
    "\n",
    "    if tmp_mtx is None:\n",
    "        print ('!!!!!WARNING: Cannot lognormalize, Skip study:', study_idx)\n",
    "        continue\n",
    "    # print (tmp_mtx.shape)\n",
    "    # print (np.nonzero(tmp_cell_bool)[0])\n",
    "    # print (np.nonzero(genes_bool)[0])\n",
    "    tmp_mtx = tmp_mtx[\n",
    "        np.nonzero(tmp_cell_bool)[0],\n",
    "        :\n",
    "    ]\n",
    "    tmp_mtx = tmp_mtx[\n",
    "        :,\n",
    "        np.nonzero(genes_bool)[0]\n",
    "    ]\n",
    "    # print (np.unique(tmp_meta_arr[tmp_cell_bool]))\n",
    "    print(study_idx, '- partial_fit')\n",
    "    clf.partial_fit(\n",
    "        tmp_mtx, \n",
    "        tmp_meta_arr[tmp_cell_bool], \n",
    "        classes=class_idx\n",
    "    )"
   ]
  },
  {
   "cell_type": "code",
   "execution_count": null,
   "id": "f36a79d5-18a7-480e-aa62-a3d56344c60e",
   "metadata": {
    "execution": {
     "iopub.execute_input": "2024-01-09T05:27:35.601594Z",
     "iopub.status.busy": "2024-01-09T05:27:35.601063Z"
    }
   },
   "outputs": [
    {
     "name": "stdout",
     "output_type": "stream",
     "text": [
      "2706 - start\n"
     ]
    }
   ],
   "source": [
    "for i in range(len(TRAINED_STUDIES)):\n",
    "    if i < 88:\n",
    "        continue\n",
    "\n",
    "    study_idx = TRAINED_STUDIES[i]\n",
    "    \n",
    "    print(study_idx, '- start')\n",
    "    \n",
    "    tmp_meta_arr = original_meta_arr[studies_idx_arr == i]\n",
    "    tmp_cell_bool = tmp_meta_arr > 0\n",
    "    if np.sum(tmp_cell_bool) == 0:\n",
    "        print ('!!!!!WARNING: No metadata, skip study:', study_idx)\n",
    "        continue\n",
    "    \n",
    "    hdf5_path = os.path.join(ROOT_DIR, 'camel_2', str(study_idx), 'raw.hdf5')\n",
    "    with h5py.File(hdf5_path) as f:\n",
    "        bc = f['barcodes'][()]\n",
    "        fe = f['features'][()]\n",
    "        indptr = f['expression']['indptr'][()].astype(np.int32)\n",
    "        indices = f['expression']['indices'][()].astype(np.int32)\n",
    "        try:\n",
    "            raw = f['expression']['raw'][()].astype(np.float32)\n",
    "        except:\n",
    "            raw = f['expression']['lognorm'][()].astype(np.float32)\n",
    "\n",
    "    print(study_idx, '- create_matrix')\n",
    "    tmp_mtx = scipy.sparse.csr_matrix((raw, indices, indptr), shape=(len(fe), len(bc)))\n",
    "    tmp_mtx = tmp_mtx.T.tocsr()\n",
    "\n",
    "    print(study_idx, '- lognormalize matrix')\n",
    "    is_raw_matrix = False\n",
    "    if (not np.all(raw.astype('int') == raw) and np.sum(raw > 30) > 0) or np.all(raw.astype('int') == raw):\n",
    "        is_raw_matrix = True\n",
    "\n",
    "    if is_raw_matrix:\n",
    "        tmp_mtx = normalize_total(tmp_mtx)\n",
    "    else:\n",
    "        tmp_mtx = convert_library_size(tmp_mtx)\n",
    "\n",
    "    if tmp_mtx is None:\n",
    "        print ('!!!!!WARNING: Cannot lognormalize, Skip study:', study_idx)\n",
    "        continue\n",
    "    # print (tmp_mtx.shape)\n",
    "    # print (np.nonzero(tmp_cell_bool)[0])\n",
    "    # print (np.nonzero(genes_bool)[0])\n",
    "    tmp_mtx = tmp_mtx[\n",
    "        np.nonzero(tmp_cell_bool)[0],\n",
    "        :\n",
    "    ]\n",
    "    tmp_mtx = tmp_mtx[\n",
    "        :,\n",
    "        np.nonzero(genes_bool)[0]\n",
    "    ]\n",
    "    # print (np.unique(tmp_meta_arr[tmp_cell_bool]))\n",
    "    print(study_idx, '- partial_fit')\n",
    "    clf.partial_fit(\n",
    "        tmp_mtx, \n",
    "        tmp_meta_arr[tmp_cell_bool], \n",
    "        classes=class_idx\n",
    "    )"
   ]
  },
  {
   "cell_type": "code",
   "execution_count": null,
   "id": "0f2d9a5b-06aa-439f-851d-3af8d8b58118",
   "metadata": {},
   "outputs": [],
   "source": [
    "studies_idx_arr = []\n",
    "for i in range(len(TRAINED_STUDIES)):\n",
    "    study_idx = TRAINED_STUDIES[i]\n",
    "    hdf5_path = os.path.join(ROOT_DIR, 'camel', str(study_idx), 'raw.hdf5')\n",
    "    with h5py.File(hdf5_path) as f:\n",
    "        bc = f['barcodes'][()]\n",
    "    tmp = np.zeros(shape=len(bc))\n",
    "    tmp[:] = i\n",
    "    studies_idx_arr.append(tmp)"
   ]
  },
  {
   "cell_type": "code",
   "execution_count": null,
   "id": "15c714b2-f2a4-4af1-b02b-e16068b6b52b",
   "metadata": {},
   "outputs": [],
   "source": [
    "studies_idx_arr = np.concatenate(studies_idx_arr)\n",
    "studies_idx_arr = studies_idx_arr.astype('int')\n",
    "studies_idx_arr = studies_idx_arr[np.nonzero(meta != 0)[0]]"
   ]
  },
  {
   "cell_type": "code",
   "execution_count": null,
   "id": "640a77b0-0a12-4151-a132-34f95dc0e39a",
   "metadata": {},
   "outputs": [],
   "source": [
    "# studies_idx_arr = np.concatenate(studies_idx_arr)\n",
    "# studies_idx_arr = studies_idx_arr.astype('int')\n",
    "# np.save('trained_data_2/studies_idx_arr.npy', studies_idx_arr)"
   ]
  },
  {
   "cell_type": "code",
   "execution_count": null,
   "id": "c1d531ca-8f46-4ac2-8b7a-cdaa481376da",
   "metadata": {},
   "outputs": [],
   "source": [
    "studies_idx_arr"
   ]
  },
  {
   "cell_type": "code",
   "execution_count": null,
   "id": "070e7084-75a6-4425-a1dc-a9c9a5f9b140",
   "metadata": {},
   "outputs": [],
   "source": [
    "np.array(TRAINED_STUDIES)"
   ]
  },
  {
   "cell_type": "code",
   "execution_count": null,
   "id": "3949103e-fd48-4a03-b49f-1e1f1d6ea9a8",
   "metadata": {
    "scrolled": true
   },
   "outputs": [],
   "source": [
    "for i in np.unique(studies_idx_arr):\n",
    "    print (i)\n",
    "    tmp_bool = np.nonzero(studies_idx_arr == i)[0]\n",
    "    tmp_matrix = final_matrix[tmp_bool, :] \n",
    "    tmp_matrix.indptr = tmp_matrix.indptr.astype(np.int32)\n",
    "    tmp_matrix.indices = tmp_matrix.indices.astype(np.int32)\n",
    "    tmp_meta = meta[tmp_bool]\n",
    "    clf.partial_fit(tmp_matrix, tmp_meta, classes=np.unique(meta))"
   ]
  },
  {
   "cell_type": "code",
   "execution_count": null,
   "id": "8146e4e6-8e6d-4f32-912f-6613bbe7249b",
   "metadata": {},
   "outputs": [],
   "source": [
    "import pickle\n",
    "\n",
    "filename = 'trained_data_2/SGD_partial_fit_study_batch_HVG_meta_weight_modified_huber.sav'\n",
    "pickle.dump(clf, open(filename, 'wb'))"
   ]
  },
  {
   "cell_type": "code",
   "execution_count": null,
   "id": "0190d43e-a8be-48d1-ad40-4860bbb40155",
   "metadata": {},
   "outputs": [],
   "source": [
    "clf"
   ]
  },
  {
   "cell_type": "code",
   "execution_count": null,
   "id": "dfb7acd0-54a2-4f89-82c8-80a69c3f937d",
   "metadata": {},
   "outputs": [],
   "source": [
    "clf = pickle.load(open('trained_data_2/SGD_partial_fit_study_batch_HVG_meta_weight_class.sav', 'rb'))"
   ]
  },
  {
   "cell_type": "code",
   "execution_count": null,
   "id": "7cdd3c7b-a00e-4c4b-bab4-8340de97e0d2",
   "metadata": {},
   "outputs": [],
   "source": [
    "clf"
   ]
  },
  {
   "cell_type": "code",
   "execution_count": null,
   "id": "ddb80397-9793-42bb-b850-6eb0a6e6d06f",
   "metadata": {},
   "outputs": [],
   "source": [
    "with h5py.File('../camel/1891/raw.hdf5') as f:\n",
    "    indptr = f['expression']['indptr'][()].astype(np.int32)\n",
    "    indices = f['expression']['indices'][()].astype(np.int32)\n",
    "    data = f['expression']['raw'][()]\n",
    "    bc = f['barcodes'][()]\n",
    "    fe = f['features'][()]"
   ]
  },
  {
   "cell_type": "code",
   "execution_count": null,
   "id": "69784b38-af5c-48ca-bc21-e3fc733f8c73",
   "metadata": {},
   "outputs": [],
   "source": [
    "data"
   ]
  },
  {
   "cell_type": "code",
   "execution_count": null,
   "id": "9f4ec659-ddd1-4a07-a770-6a342c9157d1",
   "metadata": {},
   "outputs": [],
   "source": [
    "mtx = scipy.sparse.csr_matrix((data, indices, indptr), shape=(len(fe), len(bc))).T.tocsr()"
   ]
  },
  {
   "cell_type": "code",
   "execution_count": null,
   "id": "839e28b8-99ae-4fe1-b61b-dfccf23679d6",
   "metadata": {},
   "outputs": [],
   "source": [
    "mtx = normalize_total(mtx)"
   ]
  },
  {
   "cell_type": "code",
   "execution_count": null,
   "id": "b6a289ab-7b40-4624-9c34-49458df08ad1",
   "metadata": {},
   "outputs": [],
   "source": [
    "mtx = mtx[:, :N_GENES][:, np.nonzero(genes_bool)[0]]"
   ]
  },
  {
   "cell_type": "code",
   "execution_count": null,
   "id": "56e3abe0-37d1-4a90-b186-34486e6f7b15",
   "metadata": {},
   "outputs": [],
   "source": [
    "res = clf.predict(mtx)"
   ]
  },
  {
   "cell_type": "code",
   "execution_count": null,
   "id": "b3381b68-cab9-437d-9a43-c66c3cd6217b",
   "metadata": {},
   "outputs": [],
   "source": [
    "res"
   ]
  },
  {
   "cell_type": "code",
   "execution_count": null,
   "id": "468d77c7-7ff3-441f-9e11-7a1c92e3db07",
   "metadata": {},
   "outputs": [],
   "source": [
    "np.sum(res==387)"
   ]
  },
  {
   "cell_type": "code",
   "execution_count": null,
   "id": "6ce79f1a-e42f-4f7a-9fd6-48ebf5c0a580",
   "metadata": {},
   "outputs": [],
   "source": [
    "for i in range(len(res)):\n",
    "    ct_idx = res[i]\n",
    "    arr_idx = np.nonzero(clf.classes_ == ct_idx)[0]\n",
    "    if proba_res[i, arr_idx] < 0.99:\n",
    "        res[i] = 0"
   ]
  },
  {
   "cell_type": "code",
   "execution_count": null,
   "id": "3abdd6ca-be92-4c23-913f-c45d442fa8ae",
   "metadata": {},
   "outputs": [],
   "source": [
    "proba_res = clf.predict_proba(mtx)"
   ]
  },
  {
   "cell_type": "code",
   "execution_count": null,
   "id": "75ac77fb-a01c-4d23-9dc9-28b28c3fb1dc",
   "metadata": {},
   "outputs": [],
   "source": [
    "proba_res.sum(axis=1)"
   ]
  },
  {
   "cell_type": "code",
   "execution_count": null,
   "id": "a24dd8a0-ae38-4b8e-b4a2-d426a600b137",
   "metadata": {},
   "outputs": [],
   "source": [
    "np.sum(proba_res[res==387, 6] > 0.99)"
   ]
  },
  {
   "cell_type": "code",
   "execution_count": null,
   "id": "a3b10af2-973f-432b-b267-89da4f1a7119",
   "metadata": {},
   "outputs": [],
   "source": [
    "proba_res[:, 6] > 0.99"
   ]
  },
  {
   "cell_type": "code",
   "execution_count": null,
   "id": "b80c40a3-fda0-4165-b9d7-ce81773b0596",
   "metadata": {},
   "outputs": [],
   "source": [
    "import pandas as pd"
   ]
  },
  {
   "cell_type": "code",
   "execution_count": null,
   "id": "12b6cd45-aad6-4219-93d1-5deeeeb8cca3",
   "metadata": {},
   "outputs": [],
   "source": [
    "df = pd.DataFrame({'test': res}, index=bc.astype('str'))"
   ]
  },
  {
   "cell_type": "code",
   "execution_count": null,
   "id": "25a39fee-d236-4d89-94b5-c3f921b837f8",
   "metadata": {},
   "outputs": [],
   "source": [
    "df.index.name = 'Barcodes'\n",
    "df.to_csv('test_meta.tsv', sep='\\t')"
   ]
  },
  {
   "cell_type": "code",
   "execution_count": null,
   "id": "fc56b7b6-2557-4537-9dae-ae9caed52185",
   "metadata": {},
   "outputs": [],
   "source": [
    "np.logical_and()"
   ]
  },
  {
   "cell_type": "code",
   "execution_count": null,
   "id": "0e825586-11ed-4cd5-ab6c-ef8481bd0330",
   "metadata": {},
   "outputs": [],
   "source": [
    "proba_res[res==387, 6].shape"
   ]
  },
  {
   "cell_type": "code",
   "execution_count": null,
   "id": "8d3defc2-e214-434b-9ed5-3861723b5e9e",
   "metadata": {},
   "outputs": [],
   "source": [
    "proba_res[res==387, :].shape"
   ]
  },
  {
   "cell_type": "code",
   "execution_count": null,
   "id": "2cc1bdc2-e3c2-493d-a3f2-279159353bf3",
   "metadata": {},
   "outputs": [],
   "source": [
    "TERM_MAPPING = read_compressed_json('/home/ub-sonvo-25d094476064960/term_mapping.json.gz')"
   ]
  },
  {
   "cell_type": "code",
   "execution_count": null,
   "id": "e6d35de7-f80a-41e7-9e1b-f420ff307c53",
   "metadata": {
    "scrolled": true
   },
   "outputs": [],
   "source": [
    "res = [TERM_MAPPING['idx2name'][i] for i in res]\n",
    "res"
   ]
  },
  {
   "cell_type": "code",
   "execution_count": null,
   "id": "06d0fc9f-8896-44f9-8b69-7ebd37a65d0b",
   "metadata": {},
   "outputs": [],
   "source": [
    "import pandas as pd"
   ]
  },
  {
   "cell_type": "code",
   "execution_count": null,
   "id": "4c27223c-731d-4206-82d5-ec48787a47e1",
   "metadata": {},
   "outputs": [],
   "source": [
    "df = pd.DataFrame({'SGD_partial_fit_study_batch_HVG_modified_huber_0.99': res}, index=bc.astype('str'))"
   ]
  },
  {
   "cell_type": "code",
   "execution_count": null,
   "id": "8879cfd9-6630-46f1-8442-c3d1040c113f",
   "metadata": {},
   "outputs": [],
   "source": []
  },
  {
   "cell_type": "code",
   "execution_count": null,
   "id": "3a69dfd5-3d03-48b2-b881-7621cd10aef1",
   "metadata": {},
   "outputs": [],
   "source": [
    "df.index.name = 'Barcodes'\n",
    "df.to_csv('test_meta.tsv', sep='\\t')"
   ]
  },
  {
   "cell_type": "code",
   "execution_count": null,
   "id": "50b0e3b1-5efb-425e-8abc-3331e8617258",
   "metadata": {},
   "outputs": [],
   "source": [
    "meta.shape"
   ]
  },
  {
   "cell_type": "code",
   "execution_count": null,
   "id": "660e6fb1-c2ba-4039-ba91-e007a775d66a",
   "metadata": {},
   "outputs": [],
   "source": [
    "np.sum(meta == 616) / len(meta)"
   ]
  },
  {
   "cell_type": "code",
   "execution_count": null,
   "id": "d226898d-45f9-49bc-9f32-3d79cef73cf3",
   "metadata": {},
   "outputs": [],
   "source": [
    "np.sum(meta == 342) / len(meta)"
   ]
  },
  {
   "cell_type": "code",
   "execution_count": null,
   "id": "b5ddcb63-e1c3-4e9c-b74b-4e64afa510ee",
   "metadata": {},
   "outputs": [],
   "source": [
    "np.sum(meta == 387) / len(meta)"
   ]
  },
  {
   "cell_type": "code",
   "execution_count": null,
   "id": "5ef2880b-0720-4277-8969-7c643df40400",
   "metadata": {},
   "outputs": [],
   "source": [
    "x, y = np.unique(meta, return_counts=True)\n",
    "x = x[np.argsort(y)]\n",
    "y = y[np.argsort(y)]"
   ]
  },
  {
   "cell_type": "code",
   "execution_count": null,
   "id": "5d1458c8-2a5c-4e3b-8bf4-079647503a93",
   "metadata": {},
   "outputs": [],
   "source": [
    "for i in range(len(x)):\n",
    "    print (TERM_MAPPING['idx2name'][x[i]], y[i] / len(meta))"
   ]
  },
  {
   "cell_type": "code",
   "execution_count": null,
   "id": "9fd03db7-6e9d-48fe-a81d-7dbdf3de4446",
   "metadata": {},
   "outputs": [],
   "source": [
    "y "
   ]
  },
  {
   "cell_type": "markdown",
   "id": "a9985912-1cb9-40cd-9b8f-b51c217d576f",
   "metadata": {},
   "source": [
    "____"
   ]
  },
  {
   "cell_type": "markdown",
   "id": "1619e232-d59e-4f4f-8044-7c7cd5b35c33",
   "metadata": {},
   "source": [
    "## transfer to rank, visualize expression"
   ]
  },
  {
   "cell_type": "code",
   "execution_count": null,
   "id": "ee27102c-6dfe-494f-ab11-bb10fa737257",
   "metadata": {},
   "outputs": [],
   "source": [
    "fibroblast_bool = meta == 387\n",
    "fibroblast_idx = np.nonzero(fibroblast_bool)[0]"
   ]
  },
  {
   "cell_type": "code",
   "execution_count": null,
   "id": "f040f7a2-d58a-4c99-9a85-c66035570ccc",
   "metadata": {},
   "outputs": [],
   "source": [
    "final_matrix.shape"
   ]
  },
  {
   "cell_type": "code",
   "execution_count": null,
   "id": "92c80266-6d5d-4418-b749-f079db04fcdb",
   "metadata": {},
   "outputs": [],
   "source": [
    "fibroblast_matrix = final_matrix[fibroblast_idx, :]"
   ]
  },
  {
   "cell_type": "code",
   "execution_count": null,
   "id": "ba166052-826c-4c35-9edd-4d18c380634b",
   "metadata": {},
   "outputs": [],
   "source": [
    "studies_idx_arr = studies_idx_arr[fibroblast_bool]"
   ]
  },
  {
   "cell_type": "code",
   "execution_count": null,
   "id": "ec189ca3-3768-43e3-9850-e4b60bfbd7b4",
   "metadata": {},
   "outputs": [],
   "source": [
    "t = []\n",
    "for i in [1372, 5778, 3683, 2246]:\n",
    "    for study_idx in np.unique(studies_idx_arr):\n",
    "        study_bool_idx = np.nonzero(studies_idx_arr==study_idx)[0]\n",
    "        study_count = len(study_bool_idx)\n",
    "        study_sum = np.sum(fibroblast_matrix[study_bool_idx, i].todense())\n",
    "        study_average = study_sum / study_count\n",
    "        t.append((i, study_idx, study_average))"
   ]
  },
  {
   "cell_type": "code",
   "execution_count": null,
   "id": "ea2eee4e-e46b-4c2d-8bb3-3c9c1b87fd3b",
   "metadata": {},
   "outputs": [],
   "source": [
    "import matplotlib.pyplot as plt\n",
    "import numpy as np"
   ]
  },
  {
   "cell_type": "code",
   "execution_count": null,
   "id": "d71b1959-9cc7-434a-b4a5-99ca067ef7ca",
   "metadata": {},
   "outputs": [],
   "source": [
    "x = []\n",
    "y = []\n",
    "for k in t:\n",
    "    if k[0] == 1372:\n",
    "        x.append(k[1])\n",
    "        y.append(k[2])\n",
    "fig, ax = plt.subplots()\n",
    "ax.plot(x, y, 'ro')\n",
    "plt.show()"
   ]
  },
  {
   "cell_type": "code",
   "execution_count": null,
   "id": "34019a7f-e99d-49db-9fbe-f044a57bc9e3",
   "metadata": {},
   "outputs": [],
   "source": [
    "x = []\n",
    "y = []\n",
    "for k in t:\n",
    "    if k[0] == 5778:\n",
    "        x.append(k[1])\n",
    "        y.append(k[2])\n",
    "fig, ax = plt.subplots()\n",
    "ax.plot(x, y, 'ro')\n",
    "plt.show()"
   ]
  },
  {
   "cell_type": "code",
   "execution_count": null,
   "id": "9fc973de-a35d-4e77-890f-839ca612e086",
   "metadata": {},
   "outputs": [],
   "source": [
    "x = []\n",
    "y = []\n",
    "for k in t:\n",
    "    if k[0] == 3683:\n",
    "        x.append(k[1])\n",
    "        y.append(k[2])\n",
    "fig, ax = plt.subplots()\n",
    "ax.plot(x, y, 'ro')\n",
    "plt.show()"
   ]
  },
  {
   "cell_type": "code",
   "execution_count": null,
   "id": "b2692174-a955-4fc6-bd6e-83742bec36ea",
   "metadata": {},
   "outputs": [],
   "source": [
    "x = []\n",
    "y = []\n",
    "for k in t:\n",
    "    if k[0] == 2246:\n",
    "        x.append(k[1])\n",
    "        y.append(k[2])\n",
    "fig, ax = plt.subplots()\n",
    "ax.plot(x, y, 'ro')\n",
    "plt.show()"
   ]
  },
  {
   "cell_type": "code",
   "execution_count": null,
   "id": "78c5a284-527f-4184-93c2-a4631df26a60",
   "metadata": {},
   "outputs": [],
   "source": [
    "x = []\n",
    "y = []\n",
    "for k in t:\n",
    "    if k[0] == 1372:\n",
    "        x.append(k[1])\n",
    "        y.append(k[2])\n",
    "fig, ax = plt.subplots()\n",
    "ax.plot(x, y, 'ro')\n",
    "plt.show()"
   ]
  },
  {
   "cell_type": "code",
   "execution_count": null,
   "id": "0ba5085c-5919-4686-ba59-152348b6fafa",
   "metadata": {},
   "outputs": [],
   "source": [
    "list(zip(np.unique(res, return_counts=True)))"
   ]
  },
  {
   "cell_type": "code",
   "execution_count": null,
   "id": "8c726ccb-bf0f-4cba-8c23-0e7d2df4ce9f",
   "metadata": {},
   "outputs": [],
   "source": [
    "res"
   ]
  },
  {
   "cell_type": "code",
   "execution_count": null,
   "id": "a7d6394f-e717-4d5c-aa11-31eaa0a6a0a2",
   "metadata": {},
   "outputs": [],
   "source": [
    "res.shape"
   ]
  },
  {
   "cell_type": "code",
   "execution_count": null,
   "id": "91585884-0ba8-444f-89ed-4ed81c7176ce",
   "metadata": {},
   "outputs": [],
   "source": [
    "print ('a')"
   ]
  },
  {
   "cell_type": "code",
   "execution_count": null,
   "id": "99c616f1-5153-4e95-9843-ff786811afb3",
   "metadata": {},
   "outputs": [],
   "source": []
  }
 ],
 "metadata": {
  "kernelspec": {
   "display_name": "cell type prediction",
   "language": "python",
   "name": "cell-type-prediction"
  },
  "language_info": {
   "codemirror_mode": {
    "name": "ipython",
    "version": 3
   },
   "file_extension": ".py",
   "mimetype": "text/x-python",
   "name": "python",
   "nbconvert_exporter": "python",
   "pygments_lexer": "ipython3",
   "version": "3.10.9"
  }
 },
 "nbformat": 4,
 "nbformat_minor": 5
}
