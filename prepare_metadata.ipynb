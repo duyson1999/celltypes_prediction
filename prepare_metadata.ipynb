{
 "cells": [
  {
   "cell_type": "code",
   "execution_count": 1,
   "id": "008e0ee9-d7c0-42df-80a4-f63e94a0e305",
   "metadata": {
    "execution": {
     "iopub.execute_input": "2024-01-04T02:30:56.268261Z",
     "iopub.status.busy": "2024-01-04T02:30:56.268116Z",
     "iopub.status.idle": "2024-01-04T02:30:57.118749Z",
     "shell.execute_reply": "2024-01-04T02:30:57.117971Z",
     "shell.execute_reply.started": "2024-01-04T02:30:56.268243Z"
    }
   },
   "outputs": [],
   "source": [
    "import h5py\n",
    "import os\n",
    "import zlib\n",
    "import msgpack\n",
    "import numpy as np\n",
    "\n",
    "def read_compressed_json(path):\n",
    "\tif not os.path.isfile(path):\n",
    "\t\treturn {}\n",
    "\twith open(path, 'rb') as f:\n",
    "\t\to = f.read()\n",
    "\t\to = zlib.decompress(o)\n",
    "\t\to = msgpack.unpackb(o, strict_map_key=False)\n",
    "\t\treturn o"
   ]
  },
  {
   "cell_type": "code",
   "execution_count": 2,
   "id": "d0106ec9-a0c7-4bf6-a0ba-3d765d72fa81",
   "metadata": {
    "execution": {
     "iopub.execute_input": "2024-01-04T02:30:57.120969Z",
     "iopub.status.busy": "2024-01-04T02:30:57.120581Z",
     "iopub.status.idle": "2024-01-04T02:30:57.124862Z",
     "shell.execute_reply": "2024-01-04T02:30:57.124396Z",
     "shell.execute_reply.started": "2024-01-04T02:30:57.120936Z"
    }
   },
   "outputs": [],
   "source": [
    "TRAINED_STUDIES = open('/home/ub-sonvo-25d094476064960/celltype_prediction/studies_idx_HVG.txt').read().splitlines()"
   ]
  },
  {
   "cell_type": "code",
   "execution_count": 3,
   "id": "f6746608-1a80-45d4-b61b-240fa19056fe",
   "metadata": {
    "execution": {
     "iopub.execute_input": "2024-01-04T02:30:57.854635Z",
     "iopub.status.busy": "2024-01-04T02:30:57.854357Z",
     "iopub.status.idle": "2024-01-04T02:30:57.866275Z",
     "shell.execute_reply": "2024-01-04T02:30:57.865860Z",
     "shell.execute_reply.started": "2024-01-04T02:30:57.854612Z"
    }
   },
   "outputs": [
    {
     "data": {
      "text/plain": [
       "226"
      ]
     },
     "execution_count": 3,
     "metadata": {},
     "output_type": "execute_result"
    }
   ],
   "source": [
    "ROOT_DIR = '/home/ub-sonvo-25d094476064960/celltype_prediction/camel'\n",
    "TERM_MAPPING = read_compressed_json('/home/ub-sonvo-25d094476064960/term_mapping.json.gz')\n",
    "\n",
    "FIBROBLAST_IDX = TERM_MAPPING['name2idx']['fibroblast']\n",
    "FIBROBLAST_IDX\n",
    "\n",
    "SUBCELLTYPE_IDX = TERM_MAPPING['name2idx']['cell type - subgroup']\n",
    "SUBCELLTYPE_IDX"
   ]
  },
  {
   "cell_type": "code",
   "execution_count": 4,
   "id": "02a7dd9e-238e-433d-9fb5-8d4700c2cbcb",
   "metadata": {
    "execution": {
     "iopub.execute_input": "2024-01-04T02:30:59.179120Z",
     "iopub.status.busy": "2024-01-04T02:30:59.178698Z",
     "iopub.status.idle": "2024-01-04T02:30:59.184685Z",
     "shell.execute_reply": "2024-01-04T02:30:59.183964Z",
     "shell.execute_reply.started": "2024-01-04T02:30:59.179084Z"
    }
   },
   "outputs": [
    {
     "data": {
      "text/plain": [
       "278"
      ]
     },
     "execution_count": 4,
     "metadata": {},
     "output_type": "execute_result"
    }
   ],
   "source": [
    "CONNECTIVE_TISSUE_CELL_IDX = TERM_MAPPING['name2idx']['connective tissue cell']\n",
    "CONNECTIVE_TISSUE_CELL_IDX"
   ]
  },
  {
   "cell_type": "code",
   "execution_count": 17,
   "id": "8e0ab5d2-dfc8-4daa-bba0-155cfb8ad42b",
   "metadata": {
    "execution": {
     "iopub.execute_input": "2024-01-04T02:48:23.134876Z",
     "iopub.status.busy": "2024-01-04T02:48:23.134277Z",
     "iopub.status.idle": "2024-01-04T02:48:23.139498Z",
     "shell.execute_reply": "2024-01-04T02:48:23.138460Z",
     "shell.execute_reply.started": "2024-01-04T02:48:23.134841Z"
    }
   },
   "outputs": [],
   "source": [
    "SUB_FIBROBLAST_2_FIBROBLAST = {\n",
    "    446: 387,\n",
    "    709: 387,\n",
    "    621: 387,\n",
    "    794: 387,\n",
    "    1076: 387,\n",
    "    387: 387,\n",
    "}"
   ]
  },
  {
   "cell_type": "code",
   "execution_count": 6,
   "id": "b4ac5756-bb4c-4a09-9473-874a5fbc1480",
   "metadata": {
    "execution": {
     "iopub.execute_input": "2024-01-04T02:31:14.629681Z",
     "iopub.status.busy": "2024-01-04T02:31:14.629398Z",
     "iopub.status.idle": "2024-01-04T02:31:14.633784Z",
     "shell.execute_reply": "2024-01-04T02:31:14.633316Z",
     "shell.execute_reply.started": "2024-01-04T02:31:14.629656Z"
    }
   },
   "outputs": [],
   "source": [
    "def get_metadata_fields(study_idx):\n",
    "    metalist = read_compressed_json(\n",
    "        os.path.join(ROOT_DIR, str(study_idx), 'standardized_metalist.json.gz')\n",
    "    )\n",
    "    return metalist['fields']\n",
    "\n",
    "def get_metadata_arr(study_idx, meta_field):\n",
    "    meta_idx = TERM_MAPPING['name2idx'][meta_field]\n",
    "    all_fields = get_metadata_fields(study_idx)\n",
    "\n",
    "    selected_idx = all_fields.index(meta_idx)\n",
    "    with h5py.File(os.path.join(ROOT_DIR, str(study_idx), 'standardized_metadata.hdf5.new')) as f:\n",
    "        meta_arr = f[str(selected_idx)][()]\n",
    "\n",
    "    return meta_arr"
   ]
  },
  {
   "cell_type": "code",
   "execution_count": 19,
   "id": "2443edec-c741-47d9-82f8-e00c569e7d22",
   "metadata": {
    "execution": {
     "iopub.execute_input": "2024-01-04T02:48:51.342542Z",
     "iopub.status.busy": "2024-01-04T02:48:51.341925Z",
     "iopub.status.idle": "2024-01-04T02:48:51.347388Z",
     "shell.execute_reply": "2024-01-04T02:48:51.346849Z",
     "shell.execute_reply.started": "2024-01-04T02:48:51.342514Z"
    }
   },
   "outputs": [],
   "source": [
    "def get_celltype_arr(study_idx):\n",
    "    major_celltype_arr = get_metadata_arr(study_idx, 'cell type')\n",
    "    sub_celltype_arr = get_metadata_arr(study_idx, 'cell type - subgroup')\n",
    "    bool_idx = np.logical_and(\n",
    "        major_celltype_arr == CONNECTIVE_TISSUE_CELL_IDX, \n",
    "        np.isin(sub_celltype_arr, np.array(list(SUB_FIBROBLAST_2_FIBROBLAST.keys())))\n",
    "    )\n",
    "    major_celltype_arr[\n",
    "        bool_idx\n",
    "    ] = sub_celltype_arr[\n",
    "        bool_idx\n",
    "    ]\n",
    "\n",
    "    for child in SUB_FIBROBLAST_2_FIBROBLAST:\n",
    "        major_celltype_arr[major_celltype_arr == child] = SUB_FIBROBLAST_2_FIBROBLAST[child]\n",
    "\n",
    "    return major_celltype_arr"
   ]
  },
  {
   "cell_type": "code",
   "execution_count": 20,
   "id": "e5779211-abbe-486a-8828-5fb199a9b01a",
   "metadata": {
    "execution": {
     "iopub.execute_input": "2024-01-04T02:49:00.722363Z",
     "iopub.status.busy": "2024-01-04T02:49:00.721698Z",
     "iopub.status.idle": "2024-01-04T02:49:00.831757Z",
     "shell.execute_reply": "2024-01-04T02:49:00.831070Z",
     "shell.execute_reply.started": "2024-01-04T02:49:00.722322Z"
    }
   },
   "outputs": [],
   "source": [
    "res = []\n",
    "for i in TRAINED_STUDIES:\n",
    "    res.append(get_celltype_arr(i))"
   ]
  },
  {
   "cell_type": "code",
   "execution_count": 21,
   "id": "b4c25a39-cbae-4456-bf24-9409b48ea894",
   "metadata": {
    "execution": {
     "iopub.execute_input": "2024-01-04T02:49:02.229125Z",
     "iopub.status.busy": "2024-01-04T02:49:02.228625Z",
     "iopub.status.idle": "2024-01-04T02:49:02.236568Z",
     "shell.execute_reply": "2024-01-04T02:49:02.236060Z",
     "shell.execute_reply.started": "2024-01-04T02:49:02.229095Z"
    }
   },
   "outputs": [],
   "source": [
    "res = np.concatenate(res)"
   ]
  },
  {
   "cell_type": "code",
   "execution_count": 22,
   "id": "e3857015-8c66-46a8-8000-57e13148d89a",
   "metadata": {
    "execution": {
     "iopub.execute_input": "2024-01-04T02:49:02.459579Z",
     "iopub.status.busy": "2024-01-04T02:49:02.459223Z",
     "iopub.status.idle": "2024-01-04T02:49:02.463916Z",
     "shell.execute_reply": "2024-01-04T02:49:02.463238Z",
     "shell.execute_reply.started": "2024-01-04T02:49:02.459554Z"
    }
   },
   "outputs": [
    {
     "data": {
      "text/plain": [
       "(5033871,)"
      ]
     },
     "execution_count": 22,
     "metadata": {},
     "output_type": "execute_result"
    }
   ],
   "source": [
    "res.shape"
   ]
  },
  {
   "cell_type": "code",
   "execution_count": 23,
   "id": "1b7cf275-4940-4f80-bdb1-69c00c5123bb",
   "metadata": {
    "execution": {
     "iopub.execute_input": "2024-01-04T02:49:02.632320Z",
     "iopub.status.busy": "2024-01-04T02:49:02.631808Z",
     "iopub.status.idle": "2024-01-04T02:49:02.637001Z",
     "shell.execute_reply": "2024-01-04T02:49:02.636386Z",
     "shell.execute_reply.started": "2024-01-04T02:49:02.632296Z"
    }
   },
   "outputs": [
    {
     "data": {
      "text/plain": [
       "array([108, 108, 108, ..., 826, 826, 826], dtype=uint16)"
      ]
     },
     "execution_count": 23,
     "metadata": {},
     "output_type": "execute_result"
    }
   ],
   "source": [
    "res"
   ]
  },
  {
   "cell_type": "code",
   "execution_count": 24,
   "id": "7bf98f7e-c1b6-47ac-932c-3b19654b35a6",
   "metadata": {
    "execution": {
     "iopub.execute_input": "2024-01-04T02:49:10.131147Z",
     "iopub.status.busy": "2024-01-04T02:49:10.130873Z",
     "iopub.status.idle": "2024-01-04T02:49:10.137987Z",
     "shell.execute_reply": "2024-01-04T02:49:10.137310Z",
     "shell.execute_reply.started": "2024-01-04T02:49:10.131124Z"
    }
   },
   "outputs": [
    {
     "data": {
      "text/plain": [
       "525640"
      ]
     },
     "execution_count": 24,
     "metadata": {},
     "output_type": "execute_result"
    }
   ],
   "source": [
    "np.sum(res == 387)"
   ]
  },
  {
   "cell_type": "code",
   "execution_count": 25,
   "id": "fcfc0914-d402-42dc-8d5f-2a80b572a45f",
   "metadata": {
    "execution": {
     "iopub.execute_input": "2024-01-04T02:49:31.718798Z",
     "iopub.status.busy": "2024-01-04T02:49:31.718509Z",
     "iopub.status.idle": "2024-01-04T02:49:31.749977Z",
     "shell.execute_reply": "2024-01-04T02:49:31.748848Z",
     "shell.execute_reply.started": "2024-01-04T02:49:31.718775Z"
    }
   },
   "outputs": [],
   "source": [
    "np.save('trained_data/trained_meta_celltypes_HVG.npy', res)"
   ]
  },
  {
   "cell_type": "code",
   "execution_count": 12,
   "id": "9bc22800-9710-44e6-a133-e6b858408d4f",
   "metadata": {
    "execution": {
     "iopub.execute_input": "2024-01-04T02:34:48.915194Z",
     "iopub.status.busy": "2024-01-04T02:34:48.914628Z",
     "iopub.status.idle": "2024-01-04T02:34:48.922604Z",
     "shell.execute_reply": "2024-01-04T02:34:48.921986Z",
     "shell.execute_reply.started": "2024-01-04T02:34:48.915158Z"
    }
   },
   "outputs": [],
   "source": [
    "test = np.load('trained_data/trained_meta_celltypes.npy')"
   ]
  },
  {
   "cell_type": "code",
   "execution_count": 14,
   "id": "acd1dc75-7614-49ea-812f-c4fdeeab379f",
   "metadata": {
    "execution": {
     "iopub.execute_input": "2024-01-04T02:35:05.153290Z",
     "iopub.status.busy": "2024-01-04T02:35:05.153019Z",
     "iopub.status.idle": "2024-01-04T02:35:05.169716Z",
     "shell.execute_reply": "2024-01-04T02:35:05.168896Z",
     "shell.execute_reply.started": "2024-01-04T02:35:05.153268Z"
    }
   },
   "outputs": [
    {
     "data": {
      "text/plain": [
       "(4357865,)"
      ]
     },
     "execution_count": 14,
     "metadata": {},
     "output_type": "execute_result"
    }
   ],
   "source": [
    "np.nonzero(test == res)[0].shape"
   ]
  },
  {
   "cell_type": "code",
   "execution_count": null,
   "id": "17fb4137-5431-419d-8ff1-e92bb802d9ba",
   "metadata": {},
   "outputs": [],
   "source": []
  }
 ],
 "metadata": {
  "kernelspec": {
   "display_name": "cell type prediction",
   "language": "python",
   "name": "cell-type-prediction"
  },
  "language_info": {
   "codemirror_mode": {
    "name": "ipython",
    "version": 3
   },
   "file_extension": ".py",
   "mimetype": "text/x-python",
   "name": "python",
   "nbconvert_exporter": "python",
   "pygments_lexer": "ipython3",
   "version": "3.10.9"
  }
 },
 "nbformat": 4,
 "nbformat_minor": 5
}
